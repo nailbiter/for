{
 "cells": [
  {
   "cell_type": "code",
   "execution_count": 2,
   "id": "5198fa01",
   "metadata": {},
   "outputs": [
    {
     "name": "stdout",
     "output_type": "stream",
     "text": [
      "Python 3.9.13\r\n"
     ]
    }
   ],
   "source": [
    "!python3 --version"
   ]
  },
  {
   "cell_type": "code",
   "execution_count": 5,
   "id": "e3dd7027",
   "metadata": {},
   "outputs": [
    {
     "data": {
      "text/plain": [
       "16"
      ]
     },
     "execution_count": 5,
     "metadata": {},
     "output_type": "execute_result"
    }
   ],
   "source": [
    "import functools\n",
    "def a(x,y):\n",
    "    \"\"\"\n",
    "    return x+y\n",
    "    \"\"\"\n",
    "    return x+y\n",
    "def b(z):\n",
    "    return z**2\n",
    "def composition(f1,f2,injection_method=(\"args\",0)):\n",
    "    method,position = injection_method\n",
    "    \n",
    "    if method==\"args\":\n",
    "        @functools.wraps(f2)\n",
    "        def _composition(*args,**kwargs):\n",
    "            return f1(f2(*args,**kwargs))\n",
    "    elif method==\"kwargs\":\n",
    "        @functools.wraps(f2)\n",
    "        def _composition(*args,**kwargs):\n",
    "            return f1(**{position:f2(*args,**kwargs)})\n",
    "    return _composition\n",
    "ba = composition(b,a)\n",
    "\n",
    "ba(2,2)"
   ]
  }
 ],
 "metadata": {
  "kernelspec": {
   "display_name": "Python 3 (ipykernel)",
   "language": "python",
   "name": "python3"
  },
  "language_info": {
   "codemirror_mode": {
    "name": "ipython",
    "version": 3
   },
   "file_extension": ".py",
   "mimetype": "text/x-python",
   "name": "python",
   "nbconvert_exporter": "python",
   "pygments_lexer": "ipython3",
   "version": "3.10.8"
  }
 },
 "nbformat": 4,
 "nbformat_minor": 5
}
