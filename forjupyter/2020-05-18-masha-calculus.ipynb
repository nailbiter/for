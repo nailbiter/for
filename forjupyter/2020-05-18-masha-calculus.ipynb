{
 "cells": [
  {
   "cell_type": "code",
   "execution_count": 37,
   "metadata": {},
   "outputs": [
    {
     "name": "stdout",
     "output_type": "stream",
     "text": [
      "{mu: 1/13, x: 0, y: -2*sqrt(3), z: 0}\n"
     ]
    },
    {
     "data": {
      "text/plain": [
       "[((0, 0, -2*sqrt(3)), log(13)),\n",
       " ((0, 0, 2*sqrt(3)), log(13)),\n",
       " ((0, -2*sqrt(3), 0), log(13)),\n",
       " ((0, 2*sqrt(3), 0), log(13)),\n",
       " ((-2*sqrt(3), 0, 0), log(13)),\n",
       " ((2*sqrt(3), 0, 0), log(13)),\n",
       " ((0, -sqrt(6), -sqrt(6)), 2*log(7)),\n",
       " ((0, -sqrt(6), sqrt(6)), 2*log(7)),\n",
       " ((0, sqrt(6), -sqrt(6)), 2*log(7)),\n",
       " ((0, sqrt(6), sqrt(6)), 2*log(7)),\n",
       " ((-sqrt(6), 0, -sqrt(6)), 2*log(7)),\n",
       " ((-sqrt(6), 0, sqrt(6)), 2*log(7)),\n",
       " ((-sqrt(6), -sqrt(6), 0), 2*log(7)),\n",
       " ((-sqrt(6), sqrt(6), 0), 2*log(7)),\n",
       " ((sqrt(6), 0, -sqrt(6)), 2*log(7)),\n",
       " ((sqrt(6), 0, sqrt(6)), 2*log(7)),\n",
       " ((sqrt(6), -sqrt(6), 0), 2*log(7)),\n",
       " ((sqrt(6), sqrt(6), 0), 2*log(7)),\n",
       " ((-2, -2, -2), 3*log(5)),\n",
       " ((-2, -2, 2), 3*log(5)),\n",
       " ((-2, 2, -2), 3*log(5)),\n",
       " ((-2, 2, 2), 3*log(5)),\n",
       " ((2, -2, -2), 3*log(5)),\n",
       " ((2, -2, 2), 3*log(5)),\n",
       " ((2, 2, -2), 3*log(5)),\n",
       " ((2, 2, 2), 3*log(5))]"
      ]
     },
     "execution_count": 37,
     "metadata": {},
     "output_type": "execute_result"
    }
   ],
   "source": [
    "import sympy\n",
    "from sympy import diff, log\n",
    "from sympy.abc import x,y,z,mu\n",
    "\n",
    "f = log(x**2+1) + log(y**2+1) + log(z**2+1)\n",
    "g = x**2+y**2+z**2\n",
    "# sympy.simplify(diff(f,x)-mu*diff(g,x))\n",
    "sols = sympy.solve([g-12,*[diff(f,v) - mu*diff(g,v) for v in [x,y,z]]])\n",
    "print(sols[2])\n",
    "res = {tuple(sol.values())[1:]:f.subs([(k,sol[k]) for k in sol]) for sol in sols}\n",
    "sorted([(k,res[k]) for k in res],key=lambda r:r[1])"
   ]
  },
  {
   "cell_type": "code",
   "execution_count": 44,
   "metadata": {},
   "outputs": [
    {
     "data": {
      "text/plain": [
       "[((0, 1, -sqrt(2)), 1 - sqrt(2)), ((0, 1, sqrt(2)), 1 + sqrt(2))]"
      ]
     },
     "execution_count": 44,
     "metadata": {},
     "output_type": "execute_result"
    }
   ],
   "source": [
    "import sympy\n",
    "from sympy import diff, log\n",
    "from sympy.abc import x,y,z,nu,mu\n",
    "\n",
    "f = x+y+z\n",
    "g = x**2+z**2-2\n",
    "h=x+y-1\n",
    "sols = sympy.solve([g,h,*[diff(f,v) - mu*diff(g,v)-nu*diff(h,v) for v in [x,y,z]]])\n",
    "sols = [{k:sol[k] for k in [x,y,z]} for sol in sols]\n",
    "res = {tuple(sol.values()):f.subs([(k,sol[k]) for k in sol]) for sol in sols}\n",
    "sorted([(k,res[k]) for k in res],key=lambda r:r[1])"
   ]
  },
  {
   "cell_type": "code",
   "execution_count": 45,
   "metadata": {},
   "outputs": [
    {
     "data": {
      "text/plain": [
       "[((-sqrt(2), -sqrt(2)/2, sqrt(2)/2), 1/2),\n",
       " ((sqrt(2), sqrt(2)/2, -sqrt(2)/2), 1/2),\n",
       " ((-sqrt(2), -sqrt(2)/2, -sqrt(2)/2), 3/2),\n",
       " ((sqrt(2), sqrt(2)/2, sqrt(2)/2), 3/2)]"
      ]
     },
     "execution_count": 45,
     "metadata": {},
     "output_type": "execute_result"
    }
   ],
   "source": [
    "import sympy\n",
    "from sympy import diff, log\n",
    "from sympy.abc import x,y,z,nu,mu\n",
    "\n",
    "f = y*z+x*y\n",
    "g = x*y-1\n",
    "h= y**2+z**2-1\n",
    "sols = sympy.solve([g,h,*[diff(f,v) - mu*diff(g,v)-nu*diff(h,v) for v in [x,y,z]]])\n",
    "sols = [{k:sol[k] for k in [x,y,z]} for sol in sols]\n",
    "res = {tuple(sol.values()):f.subs([(k,sol[k]) for k in sol]) for sol in sols}\n",
    "sorted([(k,res[k]) for k in res],key=lambda r:r[1])"
   ]
  },
  {
   "cell_type": "code",
   "execution_count": 47,
   "metadata": {},
   "outputs": [
    {
     "data": {
      "text/plain": [
       "[((-sqrt(2)/2, -sqrt(2)/4), exp(-1/4)),\n",
       " ((sqrt(2)/2, sqrt(2)/4), exp(-1/4)),\n",
       " ((-sqrt(2)/2, sqrt(2)/4), exp(1/4)),\n",
       " ((sqrt(2)/2, -sqrt(2)/4), exp(1/4))]"
      ]
     },
     "execution_count": 47,
     "metadata": {},
     "output_type": "execute_result"
    }
   ],
   "source": [
    "import sympy\n",
    "from sympy import diff, log\n",
    "from sympy.abc import x,y,z,nu,mu\n",
    "\n",
    "f = sympy.exp(-x*y)\n",
    "g = x**2+4*y**2-1\n",
    "sols = sympy.solve([g,*[diff(f,v) - mu*diff(g,v) for v in [x,y]]])\n",
    "sols = [{k:sol[k] for k in [x,y]} for sol in sols]\n",
    "res = {tuple(sol.values()):f.subs([(k,sol[k]) for k in sol]) for sol in sols}\n",
    "sorted([(k,res[k]) for k in res],key=lambda r:r[1])"
   ]
  },
  {
   "cell_type": "code",
   "execution_count": 51,
   "metadata": {},
   "outputs": [
    {
     "data": {
      "text/plain": [
       "[1.2840254166877414, 1.2657973760454555]"
      ]
     },
     "execution_count": 51,
     "metadata": {},
     "output_type": "execute_result"
    }
   ],
   "source": [
    "import math\n",
    "[math.exp(1/4),math.exp(1/math.sqrt(18))]"
   ]
  },
  {
   "cell_type": "code",
   "execution_count": 97,
   "metadata": {},
   "outputs": [
    {
     "data": {
      "text/latex": [
       "$\\displaystyle \\left(\\frac{Q \\left(\\left(- \\frac{Q^{\\frac{1}{\\alpha - 1}} b^{- \\frac{1}{\\alpha - 1}} m \\left(\\alpha - 1\\right)}{\\alpha n}\\right)^{\\alpha - 1}\\right)^{- \\alpha}}{b}\\right)^{- \\frac{1}{\\alpha - 1}}$"
      ],
      "text/plain": [
       "(Q*((-Q**(1/(alpha - 1))*b**(-1/(alpha - 1))*m*(alpha - 1)/(alpha*n))**(alpha - 1))**(-alpha)/b)**(-1/(alpha - 1))"
      ]
     },
     "execution_count": 97,
     "metadata": {},
     "output_type": "execute_result"
    }
   ],
   "source": [
    "import sympy\n",
    "from sympy import diff, log, Symbol\n",
    "from sympy.abc import mu,L,K\n",
    "\n",
    "Q,alpha,m,n,b = sympy.symbols(\"Q alpha m n b\",positive=True)\n",
    "\n",
    "g = b*L**alpha*K**(1-alpha)-Q\n",
    "f = m*L+n*K\n",
    "# h=x+y-1\n",
    "vs = [L,K]\n",
    "sols = sympy.solve([g,*[diff(f,v) - mu*diff(g,v) for v in vs]],*vs,mu,dict=True)\n",
    "sols[0][K]"
   ]
  },
  {
   "cell_type": "code",
   "execution_count": 100,
   "metadata": {},
   "outputs": [
    {
     "data": {
      "text/latex": [
       "$\\displaystyle \\left(- \\frac{Q^{\\frac{1}{\\alpha - 1}} b^{- \\frac{1}{\\alpha - 1}} m \\left(\\alpha - 1\\right)}{\\alpha n}\\right)^{\\alpha - 1}$"
      ],
      "text/plain": [
       "(-Q**(1/(alpha - 1))*b**(-1/(alpha - 1))*m*(alpha - 1)/(alpha*n))**(alpha - 1)"
      ]
     },
     "execution_count": 100,
     "metadata": {},
     "output_type": "execute_result"
    }
   ],
   "source": [
    "solss = {k:sympy.simplify(sols[0][k]) for k in vs}\n",
    "sympy.simplify(solss[K],positive=True)\n",
    "solss[L]\n",
    "# solss = {(sol[k] for k in vs) for sol in sols}\n",
    "# solss\n",
    "# # sols\n",
    "# res = {tuple(solss.values()):f.subs([(k,sol[k]) for k in sol]) for sol in solss}\n",
    "# sorted([(k,res[k]) for k in res],key=lambda r:r[1])"
   ]
  },
  {
   "cell_type": "code",
   "execution_count": 114,
   "metadata": {},
   "outputs": [
    {
     "data": {
      "text/plain": [
       "[x**2 - y**2 - z,\n",
       " x**2 + z**2 - 4,\n",
       " -2*mu*x - 2*nu*x + 1,\n",
       " 2*mu*y + 1,\n",
       " mu - 2*nu*z + 1]"
      ]
     },
     "execution_count": 114,
     "metadata": {},
     "output_type": "execute_result"
    }
   ],
   "source": [
    "import sympy\n",
    "from sympy import diff, log\n",
    "from sympy.abc import x,y,z,mu,nu\n",
    "\n",
    "f = x+y+z\n",
    "g = x**2-y**2-z\n",
    "h = x**2+z**2-4\n",
    "keys = [x,y,z]\n",
    "eqs = [g,h,*[diff(f,v) - mu*diff(g,v)-nu*diff(h,v) for v in keys]]\n",
    "# sols = sympy.nsolve(eqs,[*keys,mu,nu],[1,1,1,0,0])\n",
    "# print(sols)\n",
    "eqs\n",
    "# res = {tuple(sol.values()):f.subs([(k,sol[k]) for k in sol]) for sol in sols}\n",
    "# sorted([(k,res[k]) for k in res],key=lambda r:r[1])"
   ]
  }
 ],
 "metadata": {
  "kernelspec": {
   "display_name": "Python 3",
   "language": "python",
   "name": "python3"
  },
  "language_info": {
   "codemirror_mode": {
    "name": "ipython",
    "version": 3
   },
   "file_extension": ".py",
   "mimetype": "text/x-python",
   "name": "python",
   "nbconvert_exporter": "python",
   "pygments_lexer": "ipython3",
   "version": "3.7.7"
  }
 },
 "nbformat": 4,
 "nbformat_minor": 4
}
