{
 "cells": [
  {
   "cell_type": "code",
   "execution_count": 84,
   "metadata": {},
   "outputs": [
    {
     "data": {
      "text/latex": [
       "$\\displaystyle \\left[\\begin{matrix}a & b & c & d\\\\0 & - b + c & b - c & 0\\\\0 & 0 & - c + d & c - d\\\\0 & 0 & 0 & \\frac{a^{2} - b^{2} + c \\left(a - b\\right) + d \\left(a - b\\right)}{a}\\\\0 & 0 & 0 & 0\\\\0 & 0 & 0 & 0\\\\0 & 0 & 0 & 0\\\\0 & 0 & 0 & 0\\\\0 & 0 & 0 & 0\\\\0 & 0 & 0 & 0\\\\0 & 0 & 0 & 0\\\\0 & 0 & 0 & 0\\\\0 & 0 & 0 & 0\\\\0 & 0 & 0 & 0\\\\0 & 0 & 0 & 0\\\\0 & 0 & 0 & 0\\\\0 & 0 & 0 & 0\\\\0 & 0 & 0 & 0\\\\0 & 0 & 0 & 0\\\\0 & 0 & 0 & 0\\\\0 & 0 & 0 & 0\\\\0 & 0 & 0 & 0\\\\0 & 0 & 0 & 0\\\\0 & 0 & 0 & 0\\end{matrix}\\right]$"
      ],
      "text/plain": [
       "Matrix([\n",
       "[a,      b,      c,                                       d],\n",
       "[0, -b + c,  b - c,                                       0],\n",
       "[0,      0, -c + d,                                   c - d],\n",
       "[0,      0,      0, (a**2 - b**2 + c*(a - b) + d*(a - b))/a],\n",
       "[0,      0,      0,                                       0],\n",
       "[0,      0,      0,                                       0],\n",
       "[0,      0,      0,                                       0],\n",
       "[0,      0,      0,                                       0],\n",
       "[0,      0,      0,                                       0],\n",
       "[0,      0,      0,                                       0],\n",
       "[0,      0,      0,                                       0],\n",
       "[0,      0,      0,                                       0],\n",
       "[0,      0,      0,                                       0],\n",
       "[0,      0,      0,                                       0],\n",
       "[0,      0,      0,                                       0],\n",
       "[0,      0,      0,                                       0],\n",
       "[0,      0,      0,                                       0],\n",
       "[0,      0,      0,                                       0],\n",
       "[0,      0,      0,                                       0],\n",
       "[0,      0,      0,                                       0],\n",
       "[0,      0,      0,                                       0],\n",
       "[0,      0,      0,                                       0],\n",
       "[0,      0,      0,                                       0],\n",
       "[0,      0,      0,                                       0]])"
      ]
     },
     "execution_count": 84,
     "metadata": {},
     "output_type": "execute_result"
    }
   ],
   "source": [
    "import sympy\n",
    "from itertools import permutations\n",
    "res = []\n",
    "for p in permutations(map(lambda x:sympy.Symbol(x),[\"a\",\"b\",\"c\",\"d\"]),4):\n",
    "    res.append(list(p))\n",
    "def GE(A,stop=-1):\n",
    "    rows,cols = A.shape\n",
    "    for j in range(cols):\n",
    "        is_pass = False\n",
    "        if(stop<0 or j<stop):\n",
    "            if(A[j,j]==0):\n",
    "                pivotRow = j+1\n",
    "                while (pivotRow<rows):\n",
    "                    if (A[pivotRow,j] == 0):\n",
    "                        pivotRow = pivotRow+1\n",
    "                    else:\n",
    "                        break\n",
    "                if(pivotRow==rows):\n",
    "                    is_pass=True\n",
    "                else:    \n",
    "                    for k in range(cols):\n",
    "                        temp = A[pivotRow,k]\n",
    "                        A[pivotRow,k] = A[j,k]\n",
    "                        A[j,k] = temp\n",
    "            if(not is_pass):\n",
    "                for i in range(j+1,rows):\n",
    "                    r = A[i,j]/A[j,j]\n",
    "                    for k in range(cols):\n",
    "                        A[i,k] = sympy.simplify(A[i,k] - r*A[j,k])\n",
    "    return A\n",
    "        \n",
    "GE(sympy.Matrix(res))"
   ]
  }
 ],
 "metadata": {
  "kernelspec": {
   "display_name": "Python 3",
   "language": "python",
   "name": "python3"
  },
  "language_info": {
   "codemirror_mode": {
    "name": "ipython",
    "version": 3
   },
   "file_extension": ".py",
   "mimetype": "text/x-python",
   "name": "python",
   "nbconvert_exporter": "python",
   "pygments_lexer": "ipython3",
   "version": "3.7.7"
  }
 },
 "nbformat": 4,
 "nbformat_minor": 4
}
