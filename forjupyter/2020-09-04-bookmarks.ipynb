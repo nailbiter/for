{
 "cells": [
  {
   "cell_type": "code",
   "execution_count": 7,
   "metadata": {},
   "outputs": [
    {
     "data": {
      "text/plain": [
       "datetime.date(2020, 9, 6)"
      ]
     },
     "execution_count": 7,
     "metadata": {},
     "output_type": "execute_result"
    }
   ],
   "source": [
    "from datetime import datetime, timedelta\n",
    "\n",
    "date = datetime.today().date()\n",
    "while date.isocalendar()[2]!=7:\n",
    "    date += timedelta(days=1)\n",
    "date"
   ]
  },
  {
   "cell_type": "code",
   "execution_count": 40,
   "metadata": {},
   "outputs": [
    {
     "data": {
      "text/plain": [
       "'<div style=\"padding-left:20px;\"><div>Утр. – Ев. 2-е, Мк., 70 зач., XVI, 1–8. Лит. – 1 Кор., 166 зач., XVI, 13–24. <a href=\"http://www.patriarchia.ru/bible/mf/21/index.html#mf-87-21.33\">Мф., 87 зач., XXI, 33–42.</a></div>\\n<div>Свт.: <a href=\"http://www.patriarchia.ru/bible/heb/7/index.html#heb-318-7.2,26\">Евр., 318 зач., VII, 26 – VIII, 2.</a> \\xa0 <a href=\"http://www.patriarchia.ru/bible/jn/10/index.html#jn-36-10.9\">Ин., 36 зач., X, 9–16.</a></div></div>'"
      ]
     },
     "execution_count": 40,
     "metadata": {},
     "output_type": "execute_result"
    }
   ],
   "source": [
    "from bs4 import BeautifulSoup\n",
    "import requests\n",
    "url = f\"http://www.patriarchia.ru/bu/{date.strftime('%Y-%m-%d')}/\"\n",
    "req = requests.get(url)\n",
    "soup = BeautifulSoup(req.text, \"html.parser\")\n",
    "# print(soup.title)\n",
    "\n",
    "_link = None\n",
    "for i,link in enumerate(soup.find_all('span')):\n",
    "    if link.has_attr(\"class\") and link[\"class\"]==[\"chten\"]:\n",
    "        _link = link\n",
    "    if _link is not None:\n",
    "        break\n",
    "\"+\".join([str(c) for c in _link.children])"
   ]
  }
 ],
 "metadata": {
  "kernelspec": {
   "display_name": "Python 3",
   "language": "python",
   "name": "python3"
  },
  "language_info": {
   "codemirror_mode": {
    "name": "ipython",
    "version": 3
   },
   "file_extension": ".py",
   "mimetype": "text/x-python",
   "name": "python",
   "nbconvert_exporter": "python",
   "pygments_lexer": "ipython3",
   "version": "3.8.5"
  }
 },
 "nbformat": 4,
 "nbformat_minor": 4
}
