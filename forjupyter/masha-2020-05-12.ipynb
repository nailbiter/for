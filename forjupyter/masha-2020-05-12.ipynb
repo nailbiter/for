{
 "cells": [
  {
   "cell_type": "code",
   "execution_count": 11,
   "metadata": {},
   "outputs": [
    {
     "name": "stdout",
     "output_type": "stream",
     "text": [
      "['去', '来', '是', '有', '在']\n"
     ]
    }
   ],
   "source": [
    "from itertools import permutations\n",
    "\n",
    "answers = (\"有\",\"是\",\"在\",\"来\",\"去\")\n",
    "\n",
    "choices = [\n",
    "    [2,3,4],\n",
    "    [0,1,3],\n",
    "    [1],\n",
    "    [0,1],\n",
    "    [2,3]\n",
    "]\n",
    "for p in permutations(range(len(answers))):\n",
    "    should_skip = False\n",
    "    for i in range(len(answers)):\n",
    "        if(p[i] not in choices[i]):\n",
    "            should_skip = True\n",
    "    if(not should_skip):\n",
    "        print([answers[i] for i in p])"
   ]
  }
 ],
 "metadata": {
  "kernelspec": {
   "display_name": "Python 3",
   "language": "python",
   "name": "python3"
  },
  "language_info": {
   "codemirror_mode": {
    "name": "ipython",
    "version": 3
   },
   "file_extension": ".py",
   "mimetype": "text/x-python",
   "name": "python",
   "nbconvert_exporter": "python",
   "pygments_lexer": "ipython3",
   "version": "3.7.7"
  }
 },
 "nbformat": 4,
 "nbformat_minor": 4
}
