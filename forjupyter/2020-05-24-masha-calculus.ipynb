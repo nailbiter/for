{
 "cells": [
  {
   "cell_type": "code",
   "execution_count": 17,
   "metadata": {},
   "outputs": [
    {
     "name": "stdout",
     "output_type": "stream",
     "text": [
      "2*(-2*sqrt(2) + sqrt(1 + E) + E*sqrt(1 + E))/3\n"
     ]
    },
    {
     "data": {
      "text/latex": [
       "$\\displaystyle -4.61731075298519 \\cdot 10^{-16}$"
      ],
      "text/plain": [
       "-4.61731075298519e-16"
      ]
     },
     "execution_count": 17,
     "metadata": {},
     "output_type": "execute_result"
    }
   ],
   "source": [
    "# 6\n",
    "from sympy import integrate,simplify, sqrt, exp, factor\n",
    "from sympy.abc import w,v, e\n",
    "import math\n",
    "\n",
    "correct = factor(integrate(sqrt(1+exp(v)),(w,0,exp(v)),(v,0,1)))\n",
    "answer = 2/3*((1+e)**(3/2)-2**(3/2))\n",
    "print(correct)\n",
    "(answer-correct).subs(e,math.e).evalf()"
   ]
  },
  {
   "cell_type": "code",
   "execution_count": 22,
   "metadata": {},
   "outputs": [
    {
     "data": {
      "text/latex": [
       "$\\displaystyle \\frac{x^{2} \\sqrt{x^{2}}}{3}$"
      ],
      "text/plain": [
       "x**2*sqrt(x**2)/3"
      ]
     },
     "execution_count": 22,
     "metadata": {},
     "output_type": "execute_result"
    }
   ],
   "source": [
    "# 10\n",
    "from sympy.abc import x,y\n",
    "correct = integrate(y*sqrt(x**2-y**2),(y,0,x),(x,0,2))\n",
    "correct\n",
    "integrate(y*sqrt(x**2-y**2),(y,0,x))"
   ]
  },
  {
   "cell_type": "code",
   "execution_count": 23,
   "metadata": {},
   "outputs": [
    {
     "data": {
      "text/latex": [
       "$\\displaystyle - \\frac{17}{2} + \\frac{e^{16}}{2}$"
      ],
      "text/plain": [
       "-17/2 + exp(16)/2"
      ]
     },
     "execution_count": 23,
     "metadata": {},
     "output_type": "execute_result"
    }
   ],
   "source": [
    "# 16\n",
    "from sympy.abc import x,y\n",
    "correct = integrate(y**2*exp(x*y),(x,0,y),(y,0,4))\n",
    "correct"
   ]
  },
  {
   "cell_type": "code",
   "execution_count": 24,
   "metadata": {},
   "outputs": [
    {
     "data": {
      "text/latex": [
       "$\\displaystyle \\frac{2}{3}$"
      ],
      "text/plain": [
       "2/3"
      ]
     },
     "execution_count": 24,
     "metadata": {},
     "output_type": "execute_result"
    }
   ],
   "source": [
    "# 22\n",
    "from sympy.abc import x,y\n",
    "correct = integrate(y, (x,y,4-3*y),(y,0,1))\n",
    "correct\n",
    "answer = integrate(y,())"
   ]
  },
  {
   "cell_type": "code",
   "execution_count": 27,
   "metadata": {},
   "outputs": [
    {
     "data": {
      "text/latex": [
       "$\\displaystyle \\frac{16 r^{3}}{3}$"
      ],
      "text/plain": [
       "16*r**3/3"
      ]
     },
     "execution_count": 27,
     "metadata": {},
     "output_type": "execute_result"
    }
   ],
   "source": [
    "# 32\n",
    "from sympy.abc import z,r\n",
    "integrate(1,(x,-sqrt(r**2-y**2),sqrt(r**2-y**2)),(z,-sqrt(r**2-y**2),sqrt(r**2-y**2)),(y,-r,r))"
   ]
  },
  {
   "cell_type": "code",
   "execution_count": 30,
   "metadata": {},
   "outputs": [
    {
     "data": {
      "text/latex": [
       "$\\displaystyle - \\cos{\\left(1 \\right)} + \\sin{\\left(1 \\right)}$"
      ],
      "text/plain": [
       "-cos(1) + sin(1)"
      ]
     },
     "execution_count": 30,
     "metadata": {},
     "output_type": "execute_result"
    }
   ],
   "source": [
    "# 52\n",
    "from sympy import sin\n",
    "# integrate(sqrt(y)*sin(y),(y,x**2,1),(x,0,1))\n",
    "integrate(sqrt(y)*sin(y),(x,0,sqrt(y)),(y,0,1))"
   ]
  },
  {
   "cell_type": "code",
   "execution_count": 32,
   "metadata": {},
   "outputs": [
    {
     "data": {
      "text/latex": [
       "$\\displaystyle - \\frac{2}{15}$"
      ],
      "text/plain": [
       "-2/15"
      ]
     },
     "execution_count": 32,
     "metadata": {},
     "output_type": "execute_result"
    }
   ],
   "source": [
    "# 58\n",
    "integrate(y,(x,-1,y-y**3),(y,-1,0)) + integrate(y,(x,sqrt(y)-1,y-y**3),(y,0,1))"
   ]
  },
  {
   "cell_type": "code",
   "execution_count": 34,
   "metadata": {},
   "outputs": [
    {
     "data": {
      "text/latex": [
       "$\\displaystyle 4$"
      ],
      "text/plain": [
       "4"
      ]
     },
     "execution_count": 34,
     "metadata": {},
     "output_type": "execute_result"
    }
   ],
   "source": [
    "# 68\n",
    "from sympy import Abs\n",
    "integrate(2+x**2*y**3-y**2*sin(x),(x,-Abs(y),Abs(y)),(y,-1,1))"
   ]
  },
  {
   "cell_type": "code",
   "execution_count": 39,
   "metadata": {},
   "outputs": [
    {
     "data": {
      "text/latex": [
       "$\\displaystyle \\frac{\\pi \\left(- a^{2} + b^{2}\\right)}{2}$"
      ],
      "text/plain": [
       "pi*(-a**2 + b**2)/2"
      ]
     },
     "execution_count": 39,
     "metadata": {},
     "output_type": "execute_result"
    }
   ],
   "source": [
    "# section 15.3, problem 10\n",
    "from sympy.abc import r,theta, a,b\n",
    "from sympy import pi\n",
    "simplify(integrate(sin(theta)**2*r,(r,a,b),(theta,0,2*pi)))"
   ]
  },
  {
   "cell_type": "code",
   "execution_count": 44,
   "metadata": {},
   "outputs": [
    {
     "data": {
      "text/latex": [
       "$\\displaystyle -4 + \\frac{3 \\pi}{2}$"
      ],
      "text/plain": [
       "-4 + 3*pi/2"
      ]
     },
     "execution_count": 44,
     "metadata": {},
     "output_type": "execute_result"
    }
   ],
   "source": [
    "# 16\n",
    "from sympy import Min, Max, cos\n",
    "simplify(4*integrate(r,(r,0,1-cos(theta)),(theta,0,pi/2)))"
   ]
  },
  {
   "cell_type": "code",
   "execution_count": 47,
   "metadata": {},
   "outputs": [
    {
     "data": {
      "text/latex": [
       "$\\displaystyle 6 \\pi$"
      ],
      "text/plain": [
       "6*pi"
      ]
     },
     "execution_count": 47,
     "metadata": {},
     "output_type": "execute_result"
    }
   ],
   "source": [
    "# 26\n",
    "simplify(integrate(r,(r,0,Min(sqrt(z/2),sqrt(6-z))),(theta,0,2*pi),(z,0,6)))"
   ]
  },
  {
   "cell_type": "code",
   "execution_count": 54,
   "metadata": {},
   "outputs": [
    {
     "data": {
      "text/latex": [
       "$\\displaystyle \\frac{16}{9}$"
      ],
      "text/plain": [
       "16/9"
      ]
     },
     "execution_count": 54,
     "metadata": {},
     "output_type": "execute_result"
    }
   ],
   "source": [
    "# 32\n",
    "# simplify()\n",
    "integrate(r**2,(r,0,2*cos(theta)),(theta,0,pi/2))"
   ]
  }
 ],
 "metadata": {
  "kernelspec": {
   "display_name": "Python 3",
   "language": "python",
   "name": "python3"
  },
  "language_info": {
   "codemirror_mode": {
    "name": "ipython",
    "version": 3
   },
   "file_extension": ".py",
   "mimetype": "text/x-python",
   "name": "python",
   "nbconvert_exporter": "python",
   "pygments_lexer": "ipython3",
   "version": "3.7.7"
  }
 },
 "nbformat": 4,
 "nbformat_minor": 4
}
