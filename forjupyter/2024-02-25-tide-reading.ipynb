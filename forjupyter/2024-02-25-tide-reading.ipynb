{
 "cells": [
  {
   "cell_type": "code",
   "execution_count": 28,
   "id": "7b4ef7eb",
   "metadata": {},
   "outputs": [
    {
     "data": {
      "application/vnd.jupyter.widget-view+json": {
       "model_id": "3cc95d1c6d9649d5878451f4f2cde4e9",
       "version_major": 2,
       "version_minor": 0
      },
      "text/plain": [
       "  0%|          | 0/10 [00:00<?, ?it/s]"
      ]
     },
     "metadata": {},
     "output_type": "display_data"
    }
   ],
   "source": [
    "import sympy\n",
    "from sympy.abc import A, B, C, D\n",
    "import tqdm.notebook\n",
    "\n",
    "\n",
    "def symbol(letter: str, i: int) -> sympy.Symbol:\n",
    "    if i <= 0:\n",
    "        return 0\n",
    "    else:\n",
    "        return sympy.Symbol(f\"{letter}_{i}\")\n",
    "\n",
    "\n",
    "def h(t):\n",
    "    if t == 0:\n",
    "        return 0\n",
    "    else:\n",
    "        return A * h(t - 1) + B * symbol(\"x\", t - 1) + symbol(\"eta\", t - 1)\n",
    "\n",
    "\n",
    "def expanded_h(t: int, include_eta: bool = True):\n",
    "    res = 0\n",
    "    for i in range(1, t):\n",
    "        res += A ** (i - 1) * (\n",
    "            B * symbol(\"x\", t - i) + (symbol(\"eta\", t - i) if include_eta else 0)\n",
    "        )\n",
    "    return res\n",
    "\n",
    "\n",
    "for i in tqdm.notebook.trange(10):\n",
    "    assert sympy.expand(h(2) - expanded_h(2)) == 0"
   ]
  },
  {
   "cell_type": "code",
   "execution_count": 37,
   "id": "3aa3e8bf",
   "metadata": {},
   "outputs": [
    {
     "data": {
      "application/vnd.jupyter.widget-view+json": {
       "model_id": "3f66263762d743a6943474c80e73e50c",
       "version_major": 2,
       "version_minor": 0
      },
      "text/plain": [
       "  0%|          | 0/10 [00:00<?, ?it/s]"
      ]
     },
     "metadata": {},
     "output_type": "display_data"
    }
   ],
   "source": [
    "def summation_in_7(t: int):\n",
    "    res = 0\n",
    "    for i in range(1, t):\n",
    "        res += (A**i - A ** (i - 1)) * B * symbol(\"x\", t - i)\n",
    "    return res\n",
    "\n",
    "\n",
    "# t = 5\n",
    "for t in tqdm.notebook.trange(10):\n",
    "    res = sympy.expand(\n",
    "        expanded_h(t, include_eta=False)\n",
    "        - expanded_h(t - 1, include_eta=False)\n",
    "        - summation_in_7(t - 1)\n",
    "        - B * symbol(\"x\", t - 1)\n",
    "    )\n",
    "    #     print((t,res))\n",
    "    assert res == 0, (t, res)"
   ]
  }
 ],
 "metadata": {
  "kernelspec": {
   "display_name": "conda-base",
   "language": "python",
   "name": "conda-base"
  },
  "language_info": {
   "codemirror_mode": {
    "name": "ipython",
    "version": 3
   },
   "file_extension": ".py",
   "mimetype": "text/x-python",
   "name": "python",
   "nbconvert_exporter": "python",
   "pygments_lexer": "ipython3",
   "version": "3.9.13"
  },
  "toc": {
   "base_numbering": 1,
   "nav_menu": {},
   "number_sections": true,
   "sideBar": true,
   "skip_h1_title": false,
   "title_cell": "Table of Contents",
   "title_sidebar": "Contents",
   "toc_cell": false,
   "toc_position": {},
   "toc_section_display": true,
   "toc_window_display": false
  }
 },
 "nbformat": 4,
 "nbformat_minor": 5
}
