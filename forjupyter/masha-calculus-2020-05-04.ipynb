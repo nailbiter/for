{
 "cells": [
  {
   "cell_type": "code",
   "execution_count": 2,
   "metadata": {},
   "outputs": [
    {
     "data": {
      "text/latex": [
       "$\\displaystyle \\frac{\\sin{\\left(\\frac{1}{t} \\right)} \\sin{\\left(\\sqrt{t} \\right)}}{t^{2}} + \\frac{\\cos{\\left(\\frac{1}{t} \\right)} \\cos{\\left(\\sqrt{t} \\right)}}{2 \\sqrt{t}}$"
      ],
      "text/plain": [
       "sin(1/t)*sin(sqrt(t))/t**2 + cos(1/t)*cos(sqrt(t))/(2*sqrt(t))"
      ]
     },
     "execution_count": 2,
     "metadata": {},
     "output_type": "execute_result"
    }
   ],
   "source": [
    "from sympy import Symbol, diff, simplify, sin, cos, sqrt\n",
    "\n",
    "# x = Symbol(\"x\")\n",
    "# y = Symbol(\"y\")\n",
    "t = Symbol(\"t\")\n",
    "\n",
    "x = sqrt(t)\n",
    "y = 1/t\n",
    "z = sin(x)*cos(y)\n",
    "diff(z,t)"
   ]
  },
  {
   "cell_type": "code",
   "execution_count": 7,
   "metadata": {},
   "outputs": [
    {
     "data": {
      "text/latex": [
       "$\\displaystyle s e^{s t} \\cos{\\left(\\sqrt{s^{2} + t^{2}} \\right)} - \\frac{t e^{s t} \\sin{\\left(\\sqrt{s^{2} + t^{2}} \\right)}}{\\sqrt{s^{2} + t^{2}}}$"
      ],
      "text/plain": [
       "s*exp(s*t)*cos(sqrt(s**2 + t**2)) - t*exp(s*t)*sin(sqrt(s**2 + t**2))/sqrt(s**2 + t**2)"
      ]
     },
     "execution_count": 7,
     "metadata": {},
     "output_type": "execute_result"
    }
   ],
   "source": [
    "from sympy import exp\n",
    "\n",
    "s = Symbol(\"s\")\n",
    "\n",
    "r = s*t\n",
    "theta = sqrt(s**2+t**2)\n",
    "z = exp(r)*cos(theta)\n",
    "diff(z,t)"
   ]
  },
  {
   "cell_type": "code",
   "execution_count": 9,
   "metadata": {},
   "outputs": [
    {
     "data": {
      "text/plain": [
       "[32, -39]"
      ]
     },
     "execution_count": 9,
     "metadata": {},
     "output_type": "execute_result"
    }
   ],
   "source": [
    "d = dict()\n",
    "d[\"u12\"] = 5\n",
    "d[\"us12\"] = 4\n",
    "d[\"ut12\"] = -3\n",
    "d[\"v12\"] = 7\n",
    "d[\"vs12\"] = 2\n",
    "d[\"vt12\"] = 6\n",
    "d[\"Gu57\"] = 9\n",
    "d[\"Gv57\"] = -2\n",
    "\n",
    "d[\"Rs12\"] = d[\"Gu57\"]*d[\"us12\"] + d[\"Gv57\"]*d[\"vs12\"]\n",
    "d[\"Rt12\"] = d[\"Gu57\"]*d[\"ut12\"] + d[\"Gv57\"]*d[\"vt12\"]\n",
    "[d[\"Rs12\"],d[\"Rt12\"]]"
   ]
  },
  {
   "cell_type": "code",
   "execution_count": 16,
   "metadata": {},
   "outputs": [
    {
     "data": {
      "text/plain": [
       "[7, 2]"
      ]
     },
     "execution_count": 16,
     "metadata": {},
     "output_type": "execute_result"
    }
   ],
   "source": [
    "u = Symbol(\"u\")\n",
    "v = Symbol(\"v\")\n",
    "\n",
    "d = dict()\n",
    "d[(0,0),\"f\"] = 3\n",
    "d[(0,0),\"g\"] = 6\n",
    "d[(0,0),\"fx\"] = 4\n",
    "d[(0,0),\"fy\"] = 8\n",
    "d[(1,2),\"f\"] = 6\n",
    "d[(1,2),\"g\"] = 3\n",
    "d[(1,2),\"fx\"] = 2\n",
    "d[(1,2),\"fy\"] = 5\n",
    "\n",
    "f = {\"x\":exp(u)+sin(v),\"y\":exp(u)+cos(v)}\n",
    "d[(0,0),\"gu\"] = diff(f[\"x\"],u).subs([(u,0),(v,0)])*d[(1,2),\"fx\"]+diff(f[\"y\"],u).subs([(u,0),(v,0)])*d[(1,2),\"fy\"]\n",
    "d[(0,0),\"gv\"] = diff(f[\"x\"],v).subs([(u,0),(v,0)])*d[(1,2),\"fx\"]+diff(f[\"y\"],v).subs([(u,0),(v,0)])*d[(1,2),\"fy\"]\n",
    "[d[(0,0),\"gu\"],d[(0,0),\"gv\"]]"
   ]
  },
  {
   "cell_type": "code",
   "execution_count": 26,
   "metadata": {},
   "outputs": [
    {
     "data": {
      "text/plain": [
       "[-24, 28]"
      ]
     },
     "execution_count": 26,
     "metadata": {},
     "output_type": "execute_result"
    }
   ],
   "source": [
    "#16\n",
    "r = Symbol(\"r\")\n",
    "s = Symbol(\"s\")\n",
    "f = {\"x\":2*r-s,\"y\":s**2-4*r}\n",
    "subs = [(r,1),(s,2)]\n",
    "pt = tuple([{k:f[k].subs(subs) for k in f}[r] for r in [\"x\",\"y\"]])\n",
    "d[(1,2),\"gr\"] = diff(f[\"x\"],r).subs(subs)*d[pt,\"fx\"]+diff(f[\"y\"],r).subs(subs)*d[pt,\"fy\"]\n",
    "d[(1,2),\"gs\"] = diff(f[\"x\"],s).subs(subs)*d[pt,\"fx\"]+diff(f[\"y\"],s).subs(subs)*d[pt,\"fy\"]\n",
    "[d[(1,2),\"gr\"],d[(1,2),\"gs\"]]\n",
    "# [diff(f[\"x\"],r).subs(subs),d[pt,\"fx\"],diff(f[\"y\"],u).subs(subs),d[pt,\"fy\"]]"
   ]
  },
  {
   "cell_type": "code",
   "execution_count": 39,
   "metadata": {},
   "outputs": [
    {
     "data": {
      "text/latex": [
       "$\\displaystyle \\frac{\\sqrt{q} r}{\\sqrt{q} r + 2 q \\sqrt{r}}$"
      ],
      "text/plain": [
       "sqrt(q)*r/(sqrt(q)*r + 2*q*sqrt(r))"
      ]
     },
     "execution_count": 39,
     "metadata": {},
     "output_type": "execute_result"
    }
   ],
   "source": [
    "#22\n",
    "q = Symbol(\"q\")\n",
    "p = Symbol(\"p\")\n",
    "r = Symbol(\"r\")\n",
    "\n",
    "u = p*q*sqrt(r)\n",
    "v = p*sqrt(q)*r\n",
    "T = v/(2*u+v)\n",
    "\n",
    "subs = [(p,2),(q,1),(r,4)]\n",
    "[diff(T,x).subs(subs) for x in [p,q,r]]\n",
    "simplify(T)"
   ]
  },
  {
   "cell_type": "code",
   "execution_count": 56,
   "metadata": {},
   "outputs": [
    {
     "data": {
      "text/latex": [
       "$\\displaystyle 2 x^{5} y^{3} - x^{2} + 2 x y$"
      ],
      "text/plain": [
       "2*x**5*y**3 - x**2 + 2*x*y"
      ]
     },
     "execution_count": 56,
     "metadata": {},
     "output_type": "execute_result"
    }
   ],
   "source": [
    "#29\n",
    "from sympy import atan, expand\n",
    "\n",
    "x = Symbol(\"x\")\n",
    "y = Symbol(\"y\")\n",
    "\n",
    "F = atan(x**2*y) - x - x*y**2\n",
    "myans = -simplify(diff(F,x))/simplify(diff(F,y))\n",
    "herans = simplify((1+x**4*y**2+y**2+x**4*y**4-2*x*y)/(2*x*y+2*x**5*y**3-x**2))\n",
    "expand((1+y**2)*(1+x**4*y**2)-2*x*y)\n",
    "expand(2*x*y*(1+x**4*y**2)-x**2)"
   ]
  },
  {
   "cell_type": "code",
   "execution_count": 59,
   "metadata": {},
   "outputs": [
    {
     "data": {
      "text/latex": [
       "$\\displaystyle - \\frac{x + y z}{y \\left(y - 2 z\\right)}$"
      ],
      "text/plain": [
       "-(x + y*z)/(y*(y - 2*z))"
      ]
     },
     "execution_count": 59,
     "metadata": {},
     "output_type": "execute_result"
    }
   ],
   "source": [
    "#34\n",
    "from sympy import ln\n",
    "\n",
    "z = Symbol(\"z\")\n",
    "F = y*z+x*ln(y)-z**2\n",
    "simplify(-diff(F,y)/diff(F,z))"
   ]
  }
 ],
 "metadata": {
  "kernelspec": {
   "display_name": "Python 3",
   "language": "python",
   "name": "python3"
  },
  "language_info": {
   "codemirror_mode": {
    "name": "ipython",
    "version": 3
   },
   "file_extension": ".py",
   "mimetype": "text/x-python",
   "name": "python",
   "nbconvert_exporter": "python",
   "pygments_lexer": "ipython3",
   "version": "3.7.7"
  }
 },
 "nbformat": 4,
 "nbformat_minor": 4
}
