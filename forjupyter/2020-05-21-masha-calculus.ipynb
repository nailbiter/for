{
 "cells": [
  {
   "cell_type": "code",
   "execution_count": 4,
   "metadata": {},
   "outputs": [
    {
     "data": {
      "text/latex": [
       "$\\displaystyle - 2 e - 1 + \\frac{2}{e} + e^{2}$"
      ],
      "text/plain": [
       "-2*E - 1 + 2*exp(-1) + exp(2)"
      ]
     },
     "execution_count": 4,
     "metadata": {},
     "output_type": "execute_result"
    }
   ],
   "source": [
    "# 22\n",
    "from sympy import integrate, exp, simplify\n",
    "from sympy.abc import x,y\n",
    "\n",
    "simplify(integrate(y*exp(x-y),(x,0,2),(y,0,1)))\n",
    "# integrate(y*exp(x-y),(x,0,2))"
   ]
  },
  {
   "cell_type": "code",
   "execution_count": 8,
   "metadata": {},
   "outputs": [
    {
     "data": {
      "text/latex": [
       "$\\displaystyle \\log{\\left(512 \\right)}$"
      ],
      "text/plain": [
       "log(512)"
      ]
     },
     "execution_count": 8,
     "metadata": {},
     "output_type": "execute_result"
    }
   ],
   "source": [
    "# 29\n",
    "from sympy import factorint\n",
    "simplify(integrate(x*y**2/(x**2+1),(x,0,1),(y,-3,3)))\n",
    "# factorint(512)"
   ]
  },
  {
   "cell_type": "code",
   "execution_count": 18,
   "metadata": {},
   "outputs": [
    {
     "data": {
      "text/latex": [
       "$\\displaystyle 0$"
      ],
      "text/plain": [
       "0"
      ]
     },
     "execution_count": 18,
     "metadata": {},
     "output_type": "execute_result"
    }
   ],
   "source": [
    "# 34\n",
    "from sympy import log\n",
    "my_ans = simplify(integrate(1/(1+x+y),(x,1,3),(y,1,2)))\n",
    "her_answ = 6*log(6)-4*log(4)-5*log(5)+3*log(3)\n",
    "simplify(my_ans-her_answ)\n",
    "# [factorint(19683),factorint(12500)]"
   ]
  },
  {
   "cell_type": "code",
   "execution_count": 25,
   "metadata": {},
   "outputs": [
    {
     "data": {
      "text/plain": [
       "144"
      ]
     },
     "execution_count": 25,
     "metadata": {},
     "output_type": "execute_result"
    }
   ],
   "source": [
    "# 1\n",
    "from itertools import product\n",
    "z = lambda x,y:x*y\n",
    "sum([z(x+1,y+1)*4 for x,y in product(range(0,6,2),range(0,4,2))])"
   ]
  },
  {
   "cell_type": "code",
   "execution_count": 28,
   "metadata": {},
   "outputs": [
    {
     "data": {
      "text/latex": [
       "$\\displaystyle \\frac{640}{3}$"
      ],
      "text/plain": [
       "640/3"
      ]
     },
     "execution_count": 28,
     "metadata": {},
     "output_type": "execute_result"
    }
   ],
   "source": [
    "# 42\n",
    "from sympy.abc import x\n",
    "5*integrate(16-x**2,(x,0,4))\n",
    "# 640/3"
   ]
  },
  {
   "cell_type": "code",
   "execution_count": 33,
   "metadata": {},
   "outputs": [
    {
     "data": {
      "text/latex": [
       "$\\displaystyle 4 \\pi^{2}$"
      ],
      "text/plain": [
       "4*pi**2"
      ]
     },
     "execution_count": 33,
     "metadata": {},
     "output_type": "execute_result"
    }
   ],
   "source": [
    "# 50\n",
    "from sympy.abc import x,y\n",
    "from sympy import sin,cos,pi\n",
    "f = 1+x**2*sin(y)+y**2*sin(x)\n",
    "f\n",
    "integrate(f,(x,-pi,pi),(y,-pi,pi))"
   ]
  }
 ],
 "metadata": {
  "kernelspec": {
   "display_name": "Python 3",
   "language": "python",
   "name": "python3"
  },
  "language_info": {
   "codemirror_mode": {
    "name": "ipython",
    "version": 3
   },
   "file_extension": ".py",
   "mimetype": "text/x-python",
   "name": "python",
   "nbconvert_exporter": "python",
   "pygments_lexer": "ipython3",
   "version": "3.7.7"
  }
 },
 "nbformat": 4,
 "nbformat_minor": 4
}
