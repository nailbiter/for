{
 "cells": [
  {
   "cell_type": "code",
   "execution_count": 2,
   "metadata": {},
   "outputs": [
    {
     "ename": "SyntaxError",
     "evalue": "invalid syntax (<ipython-input-2-62fdab6d3a67>, line 11)",
     "output_type": "error",
     "traceback": [
      "\u001b[0;36m  File \u001b[0;32m\"<ipython-input-2-62fdab6d3a67>\"\u001b[0;36m, line \u001b[0;32m11\u001b[0m\n\u001b[0;31m    domain = {\"x\":}\u001b[0m\n\u001b[0m                  ^\u001b[0m\n\u001b[0;31mSyntaxError\u001b[0m\u001b[0;31m:\u001b[0m invalid syntax\n"
     ]
    }
   ],
   "source": [
    "import matplotlib\n",
    "import numpy as np\n",
    "from scipy.stats import multivariate_normal\n",
    "import matplotlib.pyplot as plt\n",
    "from mpl_toolkits.mplot3d import Axes3D\n",
    "import math\n",
    "\n",
    "\n",
    "#global const's\n",
    "N = 1000\n",
    "domain = {\"x\":}\n",
    "#global var's\n",
    "#procedures\n",
    "def f(x,y):\n",
    "    return x*math.sin(x*y)\n",
    "\n",
    "#main\n",
    "x1 = np.linspace(-5, 5, N)\n",
    "x2 = np.linspace(-5, 5, N)\n",
    "\n",
    "X1, X2 = np.meshgrid(x1, x2)\n",
    "X = np.c_[np.ravel(X1), np.ravel(X2)]\n",
    "\n",
    "Y_plot = np.array([f(p[0],p[1]) for p in X])\n",
    "Y_plot = Y_plot.reshape(X1.shape)\n",
    "\n",
    "fig = plt.figure()\n",
    "ax = fig.add_subplot(111, projection='3d')\n",
    "surf = ax.plot_surface(X1, X2, Y_plot, cmap='bwr', linewidth=0)\n",
    "fig.show()"
   ]
  },
  {
   "cell_type": "code",
   "execution_count": 26,
   "metadata": {},
   "outputs": [
    {
     "data": {
      "text/latex": [
       "$\\displaystyle 1$"
      ],
      "text/plain": [
       "1"
      ]
     },
     "execution_count": 26,
     "metadata": {},
     "output_type": "execute_result"
    }
   ],
   "source": [
    "from sympy import diff, sin, cos, exp\n",
    "\n",
    "\n",
    "#global const's\n",
    "#global var's\n",
    "y = sympy.Symbol(\"y\")\n",
    "x = sympy.Symbol(\"x\")\n",
    "s = sympy.Symbol(\"s\")\n",
    "t = sympy.Symbol(\"t\")\n",
    "#procedures\n",
    "\n",
    "# print(sympy.diff(x*sympy.sin(x*y),x))\n",
    "# print(sympy.diff(x*sympy.sin(x*y),y))\n",
    "expr = diff(t*exp(s/t),t)\n",
    "expr.subs(s,0).subs(t,1)"
   ]
  },
  {
   "cell_type": "code",
   "execution_count": 1,
   "metadata": {},
   "outputs": [
    {
     "ename": "NameError",
     "evalue": "name 'sympy' is not defined",
     "output_type": "error",
     "traceback": [
      "\u001b[0;31m---------------------------------------------------------------------------\u001b[0m",
      "\u001b[0;31mNameError\u001b[0m                                 Traceback (most recent call last)",
      "\u001b[0;32m<ipython-input-1-9280e1d9b4f2>\u001b[0m in \u001b[0;36m<module>\u001b[0;34m\u001b[0m\n\u001b[1;32m      4\u001b[0m \u001b[0;31m#global const's\u001b[0m\u001b[0;34m\u001b[0m\u001b[0;34m\u001b[0m\u001b[0;34m\u001b[0m\u001b[0m\n\u001b[1;32m      5\u001b[0m \u001b[0;31m#global var's\u001b[0m\u001b[0;34m\u001b[0m\u001b[0;34m\u001b[0m\u001b[0;34m\u001b[0m\u001b[0m\n\u001b[0;32m----> 6\u001b[0;31m \u001b[0my\u001b[0m \u001b[0;34m=\u001b[0m \u001b[0msympy\u001b[0m\u001b[0;34m.\u001b[0m\u001b[0mSymbol\u001b[0m\u001b[0;34m(\u001b[0m\u001b[0;34m\"y\"\u001b[0m\u001b[0;34m)\u001b[0m\u001b[0;34m\u001b[0m\u001b[0;34m\u001b[0m\u001b[0m\n\u001b[0m\u001b[1;32m      7\u001b[0m \u001b[0mx\u001b[0m \u001b[0;34m=\u001b[0m \u001b[0msympy\u001b[0m\u001b[0;34m.\u001b[0m\u001b[0mSymbol\u001b[0m\u001b[0;34m(\u001b[0m\u001b[0;34m\"x\"\u001b[0m\u001b[0;34m)\u001b[0m\u001b[0;34m\u001b[0m\u001b[0;34m\u001b[0m\u001b[0m\n\u001b[1;32m      8\u001b[0m \u001b[0;31m#procedures\u001b[0m\u001b[0;34m\u001b[0m\u001b[0;34m\u001b[0m\u001b[0;34m\u001b[0m\u001b[0m\n",
      "\u001b[0;31mNameError\u001b[0m: name 'sympy' is not defined"
     ]
    }
   ],
   "source": [
    "from sympy import diff, sin, cos, exp\n",
    "\n",
    "\n",
    "#global const's\n",
    "#global var's\n",
    "y = sympy.Symbol(\"y\")\n",
    "x = sympy.Symbol(\"x\")\n",
    "#procedures\n",
    "\n",
    "[diff(x*y**2-x**3*y,x),diff(x*y**2-x**3*y,y)]\n",
    "diff(x*y**2-x**3*y,y)"
   ]
  },
  {
   "cell_type": "code",
   "execution_count": 35,
   "metadata": {},
   "outputs": [
    {
     "data": {
      "text/latex": [
       "$\\displaystyle \\left(x y \\sin{\\left(y \\right)} + y \\cos{\\left(y \\right)} + \\sin{\\left(y \\right)}\\right) e^{x y}$"
      ],
      "text/plain": [
       "(x*y*sin(y) + y*cos(y) + sin(y))*exp(x*y)"
      ]
     },
     "execution_count": 35,
     "metadata": {},
     "output_type": "execute_result"
    }
   ],
   "source": [
    "from sympy import diff, sin, cos, exp\n",
    "\n",
    "\n",
    "#global const's\n",
    "#global var's\n",
    "y = sympy.Symbol(\"y\")\n",
    "x = sympy.Symbol(\"x\")\n",
    "#procedures\n",
    "\n",
    "u = exp(x*y)*sin(y)\n",
    "d = {\"xy\":diff(diff(u,x),y),\"yx\":diff(diff(u,y),x)}\n",
    "for k in d:d[k] = sympy.simplify(d[k])\n",
    "d[\"xy\"]"
   ]
  },
  {
   "cell_type": "code",
   "execution_count": 38,
   "metadata": {},
   "outputs": [
    {
     "data": {
      "text/latex": [
       "$\\displaystyle \\frac{3 v}{4 \\left(u + v^{2}\\right)^{\\frac{5}{2}}}$"
      ],
      "text/plain": [
       "3*v/(4*(u + v**2)**(5/2))"
      ]
     },
     "execution_count": 38,
     "metadata": {},
     "output_type": "execute_result"
    }
   ],
   "source": [
    "from sympy import diff, sin, cos, exp, simplify, sqrt, Symbol\n",
    "\n",
    "\n",
    "#global const's\n",
    "#global var's\n",
    "u = Symbol(\"u\")\n",
    "v = Symbol(\"v\")\n",
    "#procedures\n",
    "\n",
    "W = sqrt(u+v**2)\n",
    "simplify(diff(W,u,u,v))"
   ]
  },
  {
   "cell_type": "code",
   "execution_count": 41,
   "metadata": {},
   "outputs": [
    {
     "data": {
      "text/latex": [
       "$\\displaystyle \\frac{y \\left(- x^{2} + y^{2}\\right)}{\\left(x^{2} + y^{2}\\right)^{2}}$"
      ],
      "text/plain": [
       "y*(-x**2 + y**2)/(x**2 + y**2)**2"
      ]
     },
     "execution_count": 41,
     "metadata": {},
     "output_type": "execute_result"
    }
   ],
   "source": [
    "from sympy import diff, sin, cos, exp, simplify, sqrt, Symbol\n",
    "\n",
    "\n",
    "#global const's\n",
    "#global var's\n",
    "x = Symbol(\"x\")\n",
    "y = Symbol(\"y\")\n",
    "#procedures\n",
    "\n",
    "simplify(diff(x*y/(x**2+y**2),x))"
   ]
  },
  {
   "cell_type": "code",
   "execution_count": 45,
   "metadata": {},
   "outputs": [
    {
     "data": {
      "text/latex": [
       "$\\displaystyle -8$"
      ],
      "text/plain": [
       "-8"
      ]
     },
     "execution_count": 45,
     "metadata": {},
     "output_type": "execute_result"
    }
   ],
   "source": [
    "from sympy import diff, sin, cos, exp, simplify, sqrt, Symbol\n",
    "\n",
    "\n",
    "#global const's\n",
    "#global var's\n",
    "x = Symbol(\"x\")\n",
    "y = Symbol(\"y\")\n",
    "#procedures\n",
    "\n",
    "f = (x+2)**2-2*(y-1)**2-5\n",
    "f.subs([(x,2),(y,3)])\n",
    "diff(f,x).subs([(x,2),(y,3)])\n",
    "diff(f,y).subs([(x,2),(y,3)])"
   ]
  },
  {
   "cell_type": "code",
   "execution_count": 54,
   "metadata": {},
   "outputs": [
    {
     "data": {
      "text/plain": [
       "6.3"
      ]
     },
     "execution_count": 54,
     "metadata": {},
     "output_type": "execute_result"
    }
   ],
   "source": [
    "f = 6\n",
    "fx = 1\n",
    "fy = -1\n",
    "f+0.2*fx-0.1*fy\n",
    "2.2-4.9+9"
   ]
  },
  {
   "cell_type": "code",
   "execution_count": 62,
   "metadata": {},
   "outputs": [
    {
     "data": {
      "text/plain": [
       "129.0"
      ]
     },
     "execution_count": 62,
     "metadata": {},
     "output_type": "execute_result"
    }
   ],
   "source": [
    "d = dict()\n",
    "pt = (94,80)\n",
    "def p(pt1,pt2):\n",
    "    return (pt1[0]+pt2[0],pt1[1]+pt2[1])\n",
    "def m(p):\n",
    "    return (-p[0],-p[1])\n",
    "dx = (2,0)\n",
    "dy = (0,5)\n",
    "d[(94,80)] = 127\n",
    "d[(94,75)] = 122\n",
    "d[(94,85)] = 132\n",
    "d[(92,80)] = 119\n",
    "d[(96,80)] = 135\n",
    "\n",
    "f = d[pt]\n",
    "# fx = (d[p(pt,dx)])\n",
    "fx = (d[p(pt,dx)]-d[p(pt,m(dx))])/(2*dx[0])\n",
    "fy = (d[p(pt,dy)]-d[p(pt,m(dy))])/(2*dy[1])\n",
    "f+(95-94)*fx+(78-80)*fy"
   ]
  },
  {
   "cell_type": "code",
   "execution_count": 65,
   "metadata": {},
   "outputs": [
    {
     "data": {
      "text/latex": [
       "$\\displaystyle dx z e^{- y^{2} - z^{2}} - 2 dy x y z e^{- y^{2} - z^{2}} + dz x \\left(1 - 2 z^{2}\\right) e^{- y^{2} - z^{2}}$"
      ],
      "text/plain": [
       "dx*z*exp(-y**2 - z**2) - 2*dy*x*y*z*exp(-y**2 - z**2) + dz*x*(1 - 2*z**2)*exp(-y**2 - z**2)"
      ]
     },
     "execution_count": 65,
     "metadata": {},
     "output_type": "execute_result"
    }
   ],
   "source": [
    "from sympy import diff, sin, cos, exp, simplify, sqrt, Symbol\n",
    "\n",
    "\n",
    "#global const's\n",
    "#global var's\n",
    "x = Symbol(\"x\")\n",
    "y = Symbol(\"y\")\n",
    "z = Symbol(\"z\")\n",
    "dx = Symbol(\"dx\")\n",
    "dy = Symbol(\"dy\")\n",
    "dz = Symbol(\"dz\")\n",
    "#procedures\n",
    "\n",
    "L = x*z*sympy.exp(-y**2-z**2)\n",
    "dx*simplify(diff(L,x))+dy*simplify(diff(L,y))+dz*simplify(diff(L,z))"
   ]
  },
  {
   "cell_type": "code",
   "execution_count": 76,
   "metadata": {},
   "outputs": [
    {
     "data": {
      "text/latex": [
       "$\\displaystyle 2.8 \\pi$"
      ],
      "text/plain": [
       "2.8*pi"
      ]
     },
     "execution_count": 76,
     "metadata": {},
     "output_type": "execute_result"
    }
   ],
   "source": [
    "from sympy import diff, sin, cos, exp, simplify, sqrt, Symbol\n",
    "\n",
    "\n",
    "#global const's\n",
    "#global var's\n",
    "D = Symbol(\"D\")\n",
    "h = Symbol(\"h\")\n",
    "dD = Symbol(\"dD\")\n",
    "dh = Symbol(\"dh\")\n",
    "pi = Symbol(\"pi\")\n",
    "#procedures\n",
    "\n",
    "V = pi*D**2*h/4\n",
    "(diff(V,D)*dD+diff(V,h)*dh).subs([(D,4),(dD,0.1),(h,10),(dh,0.2)\n",
    "#                                   ,(pi,math.pi)\n",
    "                                 ])"
   ]
  }
 ],
 "metadata": {
  "kernelspec": {
   "display_name": "Python 3",
   "language": "python",
   "name": "python3"
  },
  "language_info": {
   "codemirror_mode": {
    "name": "ipython",
    "version": 3
   },
   "file_extension": ".py",
   "mimetype": "text/x-python",
   "name": "python",
   "nbconvert_exporter": "python",
   "pygments_lexer": "ipython3",
   "version": "3.7.7"
  }
 },
 "nbformat": 4,
 "nbformat_minor": 4
}
