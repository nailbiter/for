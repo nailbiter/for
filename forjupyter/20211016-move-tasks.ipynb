{
 "cells": [
  {
   "cell_type": "code",
   "execution_count": 1,
   "id": "0b0867af",
   "metadata": {},
   "outputs": [],
   "source": [
    "%load_ext autoreload\n",
    "%autoreload 1"
   ]
  },
  {
   "cell_type": "code",
   "execution_count": 57,
   "id": "c032f818",
   "metadata": {},
   "outputs": [],
   "source": [
    "%aimport common_google_drive\n",
    "# from googleapiclient.discovery import build\n",
    "# from googleapiclient.http import MediaIoBaseDownload\n",
    "# from google_auth_oauthlib.flow import InstalledAppFlow\n",
    "# from google.auth.transport.requests import Request\n",
    "# from google.oauth2.credentials import Credentials\n",
    "# import io\n",
    "import pandas as pd\n",
    "from pymongo import MongoClient\n",
    "import os\n",
    "from datetime import datetime\n",
    "import re\n",
    "import tqdm\n",
    "\n",
    "creds = common_google_drive.get_creds(\n",
    "    client_secret_file=\"2021-04-23-music-lib/client_secret.json\",\n",
    "    create_if_not_exist=True,\n",
    "#     token\n",
    ")"
   ]
  },
  {
   "cell_type": "code",
   "execution_count": 70,
   "id": "2707147c",
   "metadata": {},
   "outputs": [
    {
     "data": {
      "text/html": [
       "<div>\n",
       "<style scoped>\n",
       "    .dataframe tbody tr th:only-of-type {\n",
       "        vertical-align: middle;\n",
       "    }\n",
       "\n",
       "    .dataframe tbody tr th {\n",
       "        vertical-align: top;\n",
       "    }\n",
       "\n",
       "    .dataframe thead th {\n",
       "        text-align: right;\n",
       "    }\n",
       "</style>\n",
       "<table border=\"1\" class=\"dataframe\">\n",
       "  <thead>\n",
       "    <tr style=\"text-align: right;\">\n",
       "      <th></th>\n",
       "      <th>name</th>\n",
       "      <th>URL</th>\n",
       "      <th>scheduled_date</th>\n",
       "      <th>status</th>\n",
       "      <th>when</th>\n",
       "      <th>due</th>\n",
       "      <th>uuid</th>\n",
       "    </tr>\n",
       "  </thead>\n",
       "  <tbody>\n",
       "    <tr>\n",
       "      <th>0</th>\n",
       "      <td>try лечебное голодание</td>\n",
       "      <td>None</td>\n",
       "      <td>1991-12-24</td>\n",
       "      <td>DONE</td>\n",
       "      <td>None</td>\n",
       "      <td>NaT</td>\n",
       "      <td>476ef677-07e3-4851-9c4d-b8de0a191ee4</td>\n",
       "    </tr>\n",
       "    <tr>\n",
       "      <th>1</th>\n",
       "      <td>regular weekly srm test</td>\n",
       "      <td>None</td>\n",
       "      <td>1991-12-24</td>\n",
       "      <td>REGULAR</td>\n",
       "      <td>WEEKEND</td>\n",
       "      <td>NaT</td>\n",
       "      <td>f73bd7bc-9415-4cb3-ba07-5c80a384792b</td>\n",
       "    </tr>\n",
       "    <tr>\n",
       "      <th>2</th>\n",
       "      <td>switch golod to monday, not friday</td>\n",
       "      <td>None</td>\n",
       "      <td>1991-12-24</td>\n",
       "      <td>DONE</td>\n",
       "      <td>WEEKEND</td>\n",
       "      <td>NaT</td>\n",
       "      <td>6db4f09b-2259-4678-a0c1-013f8e8f8c66</td>\n",
       "    </tr>\n",
       "    <tr>\n",
       "      <th>3</th>\n",
       "      <td>do one exercise laps per eve ring routine</td>\n",
       "      <td>None</td>\n",
       "      <td>1991-12-24</td>\n",
       "      <td>REGULAR</td>\n",
       "      <td>EVENING</td>\n",
       "      <td>NaT</td>\n",
       "      <td>d0ccbf4d-a2bd-49f9-977c-20bb3b01722c</td>\n",
       "    </tr>\n",
       "    <tr>\n",
       "      <th>4</th>\n",
       "      <td>start coursera</td>\n",
       "      <td>None</td>\n",
       "      <td>1991-12-24</td>\n",
       "      <td>REGULAR</td>\n",
       "      <td>EVENING</td>\n",
       "      <td>NaT</td>\n",
       "      <td>a0ee2bc4-4f82-42ff-a520-a35682ea9a3f</td>\n",
       "    </tr>\n",
       "  </tbody>\n",
       "</table>\n",
       "</div>"
      ],
      "text/plain": [
       "                                        name   URL scheduled_date   status  \\\n",
       "0                     try лечебное голодание  None     1991-12-24     DONE   \n",
       "1                    regular weekly srm test  None     1991-12-24  REGULAR   \n",
       "2         switch golod to monday, not friday  None     1991-12-24     DONE   \n",
       "3  do one exercise laps per eve ring routine  None     1991-12-24  REGULAR   \n",
       "4                             start coursera  None     1991-12-24  REGULAR   \n",
       "\n",
       "      when due                                  uuid  \n",
       "0     None NaT  476ef677-07e3-4851-9c4d-b8de0a191ee4  \n",
       "1  WEEKEND NaT  f73bd7bc-9415-4cb3-ba07-5c80a384792b  \n",
       "2  WEEKEND NaT  6db4f09b-2259-4678-a0c1-013f8e8f8c66  \n",
       "3  EVENING NaT  d0ccbf4d-a2bd-49f9-977c-20bb3b01722c  \n",
       "4  EVENING NaT  a0ee2bc4-4f82-42ff-a520-a35682ea9a3f  "
      ]
     },
     "execution_count": 70,
     "metadata": {},
     "output_type": "execute_result"
    }
   ],
   "source": [
    "tasks_df = common_google_drive.download_df_from_google_sheets(\n",
    "    creds,\n",
    "    spreadsheet_id=\"1xFndlfiywpGO1H7DYSP3LEdljESNtj4SwLHBUrmj1i4\",\n",
    "    sheet_name=\"pool of weekend tasks\"\n",
    ")\n",
    "\n",
    "tasks_df.scheduled_date = tasks_df.scheduled_date.apply(lambda s:None if len(s)==0 else datetime.strptime(s,\"%Y/%m/%d\"))\n",
    "tasks_df.head()\n",
    "\n",
    "def _due_processor(s):\n",
    "    if len(s)==0:\n",
    "        return None\n",
    "    m = re.match(r\"(?P<year>\\d{4})/(?P<month>\\d{2})/(?P<day>\\d{2}) (?P<hour>\\d{1,2}):(?P<minute>\\d{1,2})(:(?P<second>\\d{1,2}))?\",s)\n",
    "    assert m is not None,s\n",
    "    kwargs = {k:int(m.group(k)) for k in \"year,month,day,hour,minute\".split(\",\")}\n",
    "    kwargs[\"second\"] = 0 if m.group(\"second\") is None else int(m.group(\"second\"))\n",
    "    return datetime(*list(kwargs.values()))\n",
    "\n",
    "tasks_df.due = tasks_df.due.apply(_due_processor)\n",
    "tasks_df.status = tasks_df.status.apply(lambda s:s if s in \"DONE,REGULAR,FAILED\".split(\",\") else None)\n",
    "tasks_df.URL = tasks_df.URL.apply(lambda s:None if len(s)==0 else s)\n",
    "tasks_df.when = tasks_df.when.apply(lambda s:s if s in \"WEEKEND,EVENING,PARTTIME\".split(\",\") else None)\n",
    "tasks_df.head()"
   ]
  },
  {
   "cell_type": "code",
   "execution_count": 71,
   "id": "42b013b5",
   "metadata": {},
   "outputs": [
    {
     "data": {
      "text/plain": [
       "array(['DONE', 'REGULAR', 'FAILED', None], dtype=object)"
      ]
     },
     "execution_count": 71,
     "metadata": {},
     "output_type": "execute_result"
    }
   ],
   "source": [
    "assert len(tasks_df[[len(u)!=len(\"476ef677-07e3-4851-9c4d-b8de0a191ee4\") or u is None for u in tasks_df.uuid]])==0\n",
    "tasks_df.status.unique()"
   ]
  },
  {
   "cell_type": "code",
   "execution_count": 73,
   "id": "ad352674",
   "metadata": {},
   "outputs": [
    {
     "data": {
      "application/vnd.jupyter.widget-view+json": {
       "model_id": "1409a65ecc7a4e5a91a99dbe4d9a6c70",
       "version_major": 2,
       "version_minor": 0
      },
      "text/plain": [
       "HBox(children=(HTML(value=''), FloatProgress(value=0.0, max=532.0), HTML(value='')))"
      ]
     },
     "metadata": {},
     "output_type": "display_data"
    },
    {
     "name": "stdout",
     "output_type": "stream",
     "text": [
      "\n"
     ]
    }
   ],
   "source": [
    "client = MongoClient(os.environ[\"PYASSISTANTBOT_MONGO_URL\"])\n",
    "for r in tqdm.notebook.tqdm(tasks_df.to_dict(orient=\"records\")):\n",
    "    for k in [\"due\",\"scheduled_date\"]:\n",
    "        if pd.isna(r[k]):\n",
    "            r[k] = None\n",
    "    client.gstasks.tasks.insert_one(r)"
   ]
  }
 ],
 "metadata": {
  "kernelspec": {
   "display_name": "Python 3",
   "language": "python",
   "name": "python3"
  },
  "language_info": {
   "codemirror_mode": {
    "name": "ipython",
    "version": 3
   },
   "file_extension": ".py",
   "mimetype": "text/x-python",
   "name": "python",
   "nbconvert_exporter": "python",
   "pygments_lexer": "ipython3",
   "version": "3.9.1"
  }
 },
 "nbformat": 4,
 "nbformat_minor": 5
}
