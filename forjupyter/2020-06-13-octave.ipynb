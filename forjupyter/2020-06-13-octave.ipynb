{
 "cells": [
  {
   "cell_type": "code",
   "execution_count": 2,
   "metadata": {},
   "outputs": [],
   "source": [
    "%load ~/Downloads/Telegram Desktop/min_norm.m"
   ]
  },
  {
   "cell_type": "code",
   "execution_count": 3,
   "metadata": {},
   "outputs": [],
   "source": [
    "function [norm_val,det_img_idx] = min_norm(I, v, ht)\n",
    "% Input\n",
    "% v - left singular vector, NxM, where N - length of the data\n",
    "% vector(128*128), M - training data set size\n",
    "% ht - coefficient vector, projection of original data on singular vector space\n",
    "% I - some image vector\n",
    "% Output\n",
    "% norm_val - the smallest distance\n",
    "% det_img_idx - the closest point in training set -> detected image\n",
    "%==========================================================================\n",
    "% Please write your code here\n",
    "%==========================================================================\n",
    "    % project data on singular vector space\n",
    "    % compute distance to each point\n",
    "    % find smallest distance(norm_val) and index(det_img_idx) \n",
    "end"
   ]
  },
  {
   "cell_type": "code",
   "execution_count": 4,
   "metadata": {},
   "outputs": [],
   "source": [
    "%load ~/Downloads/Telegram Desktop/load_img.m"
   ]
  },
  {
   "cell_type": "code",
   "execution_count": 5,
   "metadata": {},
   "outputs": [],
   "source": [
    "function I = load_img(ID)\n",
    "% this function loads data vector with specified ID, from specified location\n",
    "%==========================================================================\n",
    "% You don't need to change this function\n",
    "%==========================================================================\n",
    "fid = fopen(int2str(ID));\n",
    "if fid == -1\n",
    "    I = -1;\n",
    "    return\n",
    "end\n",
    "I = fread(fid);\n",
    "fclose(fid);\n",
    "end"
   ]
  },
  {
   "cell_type": "code",
   "execution_count": 17,
   "metadata": {},
   "outputs": [],
   "source": [
    "d = [10 5 0 1];"
   ]
  },
  {
   "cell_type": "code",
   "execution_count": 27,
   "metadata": {},
   "outputs": [
    {
     "name": "stdout",
     "output_type": "stream",
     "text": [
      "A =\n",
      "\n",
      "    1    2    3    4\n",
      "    4    5    6    7\n",
      "    7    8    9   10\n",
      "   10   11   12   13\n",
      "\n",
      "x =\n",
      "\n",
      "   10    5    1    0\n",
      "\n",
      "y =\n",
      "\n",
      "   1   2   4   3\n",
      "\n",
      "ans =\n",
      "\n",
      "    1    2    4    3\n",
      "    4    5    7    6\n",
      "    7    8   10    9\n",
      "   10   11   13   12\n",
      "\n"
     ]
    }
   ],
   "source": [
    "A = [1 2 3 4; 4 5 6 7; 7 8 9 10; 10 11 12 13]\n",
    "\n",
    "[x,y] = sort(d,\"descend\")\n",
    "A(:,y)"
   ]
  }
 ],
 "metadata": {
  "kernelspec": {
   "display_name": "Octave",
   "language": "octave",
   "name": "octave"
  },
  "language_info": {
   "file_extension": ".m",
   "help_links": [
    {
     "text": "GNU Octave",
     "url": "https://www.gnu.org/software/octave/support.html"
    },
    {
     "text": "Octave Kernel",
     "url": "https://github.com/Calysto/octave_kernel"
    },
    {
     "text": "MetaKernel Magics",
     "url": "https://metakernel.readthedocs.io/en/latest/source/README.html"
    }
   ],
   "mimetype": "text/x-octave",
   "name": "octave",
   "version": "5.2.0"
  }
 },
 "nbformat": 4,
 "nbformat_minor": 4
}
