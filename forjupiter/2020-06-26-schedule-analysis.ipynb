{
 "cells": [
  {
   "cell_type": "code",
   "execution_count": 68,
   "metadata": {},
   "outputs": [
    {
     "data": {
      "text/html": [
       "<div>\n",
       "<style scoped>\n",
       "    .dataframe tbody tr th:only-of-type {\n",
       "        vertical-align: middle;\n",
       "    }\n",
       "\n",
       "    .dataframe tbody tr th {\n",
       "        vertical-align: top;\n",
       "    }\n",
       "\n",
       "    .dataframe thead th {\n",
       "        text-align: right;\n",
       "    }\n",
       "</style>\n",
       "<table border=\"1\" class=\"dataframe\">\n",
       "  <thead>\n",
       "    <tr style=\"text-align: right;\">\n",
       "      <th></th>\n",
       "      <th></th>\n",
       "    </tr>\n",
       "    <tr>\n",
       "      <th>week</th>\n",
       "      <th>date</th>\n",
       "    </tr>\n",
       "  </thead>\n",
       "  <tbody>\n",
       "    <tr>\n",
       "      <th>17</th>\n",
       "      <th>2020-04-23</th>\n",
       "    </tr>\n",
       "    <tr>\n",
       "      <th>18</th>\n",
       "      <th>2020-04-29</th>\n",
       "    </tr>\n",
       "    <tr>\n",
       "      <th rowspan=\"3\" valign=\"top\">19</th>\n",
       "      <th>2020-05-04</th>\n",
       "    </tr>\n",
       "    <tr>\n",
       "      <th>2020-05-05</th>\n",
       "    </tr>\n",
       "    <tr>\n",
       "      <th>2020-05-06</th>\n",
       "    </tr>\n",
       "    <tr>\n",
       "      <th rowspan=\"2\" valign=\"top\">21</th>\n",
       "      <th>2020-05-20</th>\n",
       "    </tr>\n",
       "    <tr>\n",
       "      <th>2020-05-21</th>\n",
       "    </tr>\n",
       "    <tr>\n",
       "      <th>24</th>\n",
       "      <th>2020-06-12</th>\n",
       "    </tr>\n",
       "    <tr>\n",
       "      <th>25</th>\n",
       "      <th>2020-06-19</th>\n",
       "    </tr>\n",
       "    <tr>\n",
       "      <th rowspan=\"3\" valign=\"top\">26</th>\n",
       "      <th>2020-06-24</th>\n",
       "    </tr>\n",
       "    <tr>\n",
       "      <th>2020-06-25</th>\n",
       "    </tr>\n",
       "    <tr>\n",
       "      <th>2020-06-26</th>\n",
       "    </tr>\n",
       "  </tbody>\n",
       "</table>\n",
       "</div>"
      ],
      "text/plain": [
       "Empty DataFrame\n",
       "Columns: []\n",
       "Index: [(17, 2020-04-23 00:00:00), (18, 2020-04-29 00:00:00), (19, 2020-05-04 00:00:00), (19, 2020-05-05 00:00:00), (19, 2020-05-06 00:00:00), (21, 2020-05-20 00:00:00), (21, 2020-05-21 00:00:00), (24, 2020-06-12 00:00:00), (25, 2020-06-19 00:00:00), (26, 2020-06-24 00:00:00), (26, 2020-06-25 00:00:00), (26, 2020-06-26 00:00:00)]"
      ]
     },
     "execution_count": 68,
     "metadata": {},
     "output_type": "execute_result"
    }
   ],
   "source": [
    "import pandas as pd\n",
    "from datetime import datetime,timedelta\n",
    "\n",
    "def fill_dates(start,end):\n",
    "    res = [start]\n",
    "    while res[-1]<end:\n",
    "        res.append(res[-1]+timedelta(days=1))\n",
    "    return res\n",
    "df = pd.read_csv(\"/Users/nailbiter/Downloads/稼働工数管理（日ver） - 入力 (1).csv\")\n",
    "df = pd.DataFrame([{\"date\":r[\"日付\"]} for r in df.to_dict(orient=\"records\") if r[\"名前\"]==\"Leon\"]).groupby(\"date\").count().reset_index()\n",
    "df[\"dummy_value\"] = 1\n",
    "dates = df.to_dict(orient=\"records\")\n",
    "start,end = (datetime.strptime(dates[i][\"date\"],\"%Y-%m-%d\") for i in [0,-1])\n",
    "df_dates = pd.DataFrame([{\"date\":d} for d in fill_dates(start,max(end,datetime.now()))])\n",
    "df = df_dates.set_index(\"date\").join(df.set_index(\"date\"))\n",
    "pd.DataFrame([\n",
    "    {\"date\":r[\"date\"],\"week\":r[\"date\"].date().isocalendar()[1]} \n",
    "    for r in df.reset_index().to_dict(orient=\"records\") \n",
    "    if r[\"date\"].date().isocalendar()[2] not in [6,7] and pd.isna(r[\"dummy_value\"])] \n",
    ").set_index([\"week\",\"date\"])"
   ]
  },
  {
   "cell_type": "markdown",
   "metadata": {},
   "source": [
    "* `2020-06-19` done"
   ]
  }
 ],
 "metadata": {
  "kernelspec": {
   "display_name": "Python 3",
   "language": "python",
   "name": "python3"
  },
  "language_info": {
   "codemirror_mode": {
    "name": "ipython",
    "version": 3
   },
   "file_extension": ".py",
   "mimetype": "text/x-python",
   "name": "python",
   "nbconvert_exporter": "python",
   "pygments_lexer": "ipython3",
   "version": "3.7.7"
  }
 },
 "nbformat": 4,
 "nbformat_minor": 4
}
