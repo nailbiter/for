{
 "cells": [
  {
   "cell_type": "code",
   "execution_count": 2,
   "metadata": {},
   "outputs": [
    {
     "data": {
      "text/latex": [
       "$\\displaystyle \\frac{64 \\pi}{3}$"
      ],
      "text/plain": [
       "64*pi/3"
      ]
     },
     "execution_count": 2,
     "metadata": {},
     "output_type": "execute_result"
    }
   ],
   "source": [
    "# 18\n",
    "from sympy import integrate, sqrt\n",
    "from sympy.abc import r,z,pi\n",
    "\n",
    "integrate(2*pi*z*r,(r,0,sqrt(z)),(z,0,4))"
   ]
  },
  {
   "cell_type": "code",
   "execution_count": 3,
   "metadata": {},
   "outputs": [
    {
     "data": {
      "text/latex": [
       "$\\displaystyle - 4 \\sqrt{3} \\pi + \\frac{32 \\pi}{3}$"
      ],
      "text/plain": [
       "-4*sqrt(3)*pi + 32*pi/3"
      ]
     },
     "execution_count": 3,
     "metadata": {},
     "output_type": "execute_result"
    }
   ],
   "source": [
    "# 22\n",
    "from sympy import integrate, sqrt\n",
    "from sympy.abc import r,z,pi\n",
    "\n",
    "integrate(2*pi*r,(z,-sqrt(4-r**2),sqrt(4-r**2)),(r,0,1))"
   ]
  },
  {
   "cell_type": "code",
   "execution_count": 4,
   "metadata": {},
   "outputs": [
    {
     "data": {
      "text/latex": [
       "$\\displaystyle \\frac{162 \\pi}{5}$"
      ],
      "text/plain": [
       "162*pi/5"
      ]
     },
     "execution_count": 4,
     "metadata": {},
     "output_type": "execute_result"
    }
   ],
   "source": [
    "# 30\n",
    "from sympy import integrate, sqrt\n",
    "from sympy.abc import r,z,pi\n",
    "\n",
    "integrate(pi*r**2,(z,0,9-r**2),(r,0,3))"
   ]
  },
  {
   "cell_type": "code",
   "execution_count": null,
   "metadata": {},
   "outputs": [],
   "source": [
    "# 31\n",
    "from sympy import integrate, sqrt\n",
    "from sympy.abc import r,z,pi\n",
    "\n",
    "lb_to_m = 0.305\n",
    "integrate(2*pi*r*z,(z,0,12400),(r,0,62000))"
   ]
  },
  {
   "cell_type": "markdown",
   "metadata": {},
   "source": [
    "# 15.8"
   ]
  },
  {
   "cell_type": "code",
   "execution_count": 13,
   "metadata": {},
   "outputs": [
    {
     "data": {
      "text/latex": [
       "$\\displaystyle \\frac{\\pi}{3}$"
      ],
      "text/plain": [
       "pi/3"
      ]
     },
     "execution_count": 13,
     "metadata": {},
     "output_type": "execute_result"
    }
   ],
   "source": [
    "# 18\n",
    "from sympy import integrate, sin, sec,simplify,pi, cos\n",
    "from sympy.abc import phi,theta,rho\n",
    "\n",
    "simplify(integrate((rho**2)*sin(phi),(rho,0,sec(phi)),(theta,0,2*pi),(phi,0,pi/4)))\n",
    "# integrate(sin(phi)/(3*cos(phi)**3),(phi,0,pi/4))"
   ]
  },
  {
   "cell_type": "code",
   "execution_count": 14,
   "metadata": {},
   "outputs": [
    {
     "data": {
      "text/latex": [
       "$\\displaystyle \\frac{47 \\pi}{3360}$"
      ],
      "text/plain": [
       "47*pi/3360"
      ]
     },
     "execution_count": 14,
     "metadata": {},
     "output_type": "execute_result"
    }
   ],
   "source": [
    "# 22\n",
    "from sympy import integrate, sin, sec,simplify,pi, cos\n",
    "from sympy.abc import phi,theta,rho\n",
    "\n",
    "x,y,z = rho*sin(phi)*cos(theta),rho*sin(phi)*sin(theta), rho*cos(phi)\n",
    "dV = rho**2*sin(phi)\n",
    "integrate(y**2*z**2*dV,(phi,0,pi/3),(theta,0,2*pi),(rho,0,1))\n",
    "# integrate(sin(phi)/(3*cos(phi)**3),(phi,0,pi/4))"
   ]
  },
  {
   "cell_type": "code",
   "execution_count": 31,
   "metadata": {},
   "outputs": [
    {
     "data": {
      "text/latex": [
       "$\\displaystyle 10 \\pi$"
      ],
      "text/plain": [
       "10*pi"
      ]
     },
     "execution_count": 31,
     "metadata": {},
     "output_type": "execute_result"
    }
   ],
   "source": [
    "# 29\n",
    "from sympy import integrate, sin, sec,simplify,pi, cos\n",
    "from sympy.abc import phi,theta,rho\n",
    "\n",
    "x,y,z = rho*sin(phi)*cos(theta),rho*sin(phi)*sin(theta), rho*cos(phi)\n",
    "dV = (rho**2)*sin(phi)\n",
    "m = integrate(dV,(rho,0,4*cos(phi)),(phi,0,pi/3),(theta,0,2*pi))\n",
    "# integrate(dV*z,(rho,0,4*cos(phi)),(phi,0,pi/3),(theta,0,2*pi))\n",
    "m"
   ]
  },
  {
   "cell_type": "code",
   "execution_count": 30,
   "metadata": {},
   "outputs": [
    {
     "data": {
      "text/latex": [
       "$\\displaystyle 2 \\pi \\left(- \\frac{a^{3} \\cos{\\left(\\phi \\right)}}{3} + \\frac{a^{2} \\sqrt{a^{2}}}{3}\\right)$"
      ],
      "text/plain": [
       "2*pi*(-a**3*cos(phi)/3 + a**2*sqrt(a**2)/3)"
      ]
     },
     "execution_count": 30,
     "metadata": {},
     "output_type": "execute_result"
    }
   ],
   "source": [
    "# 49.a\n",
    "\n",
    "from sympy import integrate, cot, pi, sqrt\n",
    "from sympy.abc import rho,a,phi\n",
    "\n",
    "2*pi*integrate(rho*(sqrt(a**2-rho**2)-rho*cos(phi)),(rho,0,a))"
   ]
  }
 ],
 "metadata": {
  "kernelspec": {
   "display_name": "Python 3",
   "language": "python",
   "name": "python3"
  },
  "language_info": {
   "codemirror_mode": {
    "name": "ipython",
    "version": 3
   },
   "file_extension": ".py",
   "mimetype": "text/x-python",
   "name": "python",
   "nbconvert_exporter": "python",
   "pygments_lexer": "ipython3",
   "version": "3.8.0"
  }
 },
 "nbformat": 4,
 "nbformat_minor": 2
}
