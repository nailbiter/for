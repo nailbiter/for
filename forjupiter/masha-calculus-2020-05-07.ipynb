{
 "cells": [
  {
   "cell_type": "code",
   "execution_count": 16,
   "metadata": {},
   "outputs": [
    {
     "name": "stdout",
     "output_type": "stream",
     "text": [
      "15.3923048454133\n",
      "13.3923048454133\n"
     ]
    }
   ],
   "source": [
    "# 4\n",
    "from sympy import Symbol, diff, simplify, cos, sin\n",
    "from math import pi,sqrt\n",
    "\n",
    "x = Symbol(\"x\")\n",
    "y = Symbol(\"y\")\n",
    "\n",
    "def directional_derivative(f,symbols,theta,pt=[]):\n",
    "    assert(len(symbols)==2)\n",
    "    pd = [diff(f,s) for s in symbols]\n",
    "    dd = simplify(cos(theta)*pd[0] + sin(theta)*pd[1])\n",
    "    if(len(pt)>0):\n",
    "        assert(len(pt)==2)\n",
    "        return dd.subs([(symbols[i],pt[i]) for i in range(2)])\n",
    "    else:\n",
    "        return dd\n",
    "    \n",
    "\n",
    "f = x*y**3 - x**2\n",
    "print((y**3/2+x+3*sqrt(3)*x*y**2/2).subs([(x,1),(y,2)]))\n",
    "print(directional_derivative(f,[x,y],pi/3,[1,2]))"
   ]
  },
  {
   "cell_type": "code",
   "execution_count": 13,
   "metadata": {},
   "outputs": [
    {
     "name": "stdout",
     "output_type": "stream",
     "text": [
      "8.30769230769231\n"
     ]
    },
    {
     "data": {
      "text/plain": [
       "8.307692307692308"
      ]
     },
     "execution_count": 13,
     "metadata": {},
     "output_type": "execute_result"
    }
   ],
   "source": [
    "# 8\n",
    "from sympy import log\n",
    "from math import acos\n",
    "\n",
    "def gradient(f,symbols,pt=[]):\n",
    "    g = [simplify(diff(f,s)) for s in symbols]\n",
    "    if(len(pt)==0):\n",
    "        return g\n",
    "    else:\n",
    "        assert(len(pt)==len(symbols))\n",
    "        subs = [tuple(l) for l in zip(symbols,pt)]\n",
    "        return [gg.subs(subs) for gg in g]\n",
    "\n",
    "f = x**2*log(y)\n",
    "g = gradient(f,[x,y])\n",
    "gradient(x**2*log(y),[x,y],[3,1])\n",
    "print(directional_derivative(f,[x,y],acos(-5/13),[3,1]))\n",
    "108/13"
   ]
  },
  {
   "cell_type": "code",
   "execution_count": 15,
   "metadata": {},
   "outputs": [
    {
     "name": "stdout",
     "output_type": "stream",
     "text": [
      "-0.599999999999998\n"
     ]
    },
    {
     "data": {
      "text/plain": [
       "-3.6"
      ]
     },
     "execution_count": 15,
     "metadata": {},
     "output_type": "execute_result"
    }
   ],
   "source": [
    "# 14\n",
    "from sympy import exp\n",
    "\n",
    "u = Symbol(\"u\")\n",
    "v = Symbol(\"v\")\n",
    "\n",
    "f = u**2*exp(-v)\n",
    "print(directional_derivative(f,[u,v],acos(4/5),[3,0]))\n",
    "6*3/5-9*4/5"
   ]
  },
  {
   "cell_type": "code",
   "execution_count": 18,
   "metadata": {},
   "outputs": [
    {
     "data": {
      "text/plain": [
       "[4, 1]"
      ]
     },
     "execution_count": 18,
     "metadata": {},
     "output_type": "execute_result"
    }
   ],
   "source": [
    "# 22\n",
    "t = Symbol(\"t\")\n",
    "s = Symbol(\"s\")\n",
    "\n",
    "f = t*exp(s*t)\n",
    "gradient(f,[s,t],[0,2])"
   ]
  },
  {
   "cell_type": "code",
   "execution_count": 19,
   "metadata": {},
   "outputs": [
    {
     "data": {
      "text/plain": [
       "[12, -92]"
      ]
     },
     "execution_count": 19,
     "metadata": {},
     "output_type": "execute_result"
    }
   ],
   "source": [
    "# 27\n",
    "\n",
    "f = x**4*y-x**2*y**3\n",
    "gradient(f,[x,y],[2,-3])"
   ]
  },
  {
   "cell_type": "code",
   "execution_count": 21,
   "metadata": {},
   "outputs": [
    {
     "data": {
      "text/plain": [
       "[4, 4, 4]"
      ]
     },
     "execution_count": 21,
     "metadata": {},
     "output_type": "execute_result"
    }
   ],
   "source": [
    "# 41\n",
    "def tangent_plane(f,symbols,pt):\n",
    "    assert(len(symbols)==len(pt))\n",
    "    g = gradient(f,symbols,pt)\n",
    "    d = -sum([pt[i]*g[i] for i in range(len(pt))])\n",
    "    return sum([symbols[i]*g[i] for i in range(len(pt))])+d\n",
    "\n",
    "z = Symbol(\"z\")\n",
    "tangent_plane(2*(x-2)**2+(y-1)**2+(z-3)**2,[x,y,z],[3,3,5])\n",
    "gradient(2*(x-2)**2+(y-1)**2+(z-3)**2,[x,y,z],[3,3,5])"
   ]
  },
  {
   "cell_type": "code",
   "execution_count": 45,
   "metadata": {},
   "outputs": [
    {
     "name": "stdout",
     "output_type": "stream",
     "text": [
      "[[0, -pi, 1]]\n",
      "[-2, 0, -1]\n",
      "82.20400287354063\n"
     ]
    },
    {
     "data": {
      "text/latex": [
       "$\\displaystyle -1$"
      ],
      "text/plain": [
       "-1"
      ]
     },
     "execution_count": 45,
     "metadata": {},
     "output_type": "execute_result"
    }
   ],
   "source": [
    "#65\n",
    "\n",
    "import sympy\n",
    "import math\n",
    "\n",
    "t = Symbol(\"t\")\n",
    "r = [sympy.cos(sympy.pi*t),sympy.sin(sympy.pi*t),t]\n",
    "diff_r = [diff(r[i],t).subs(t,1) for i in range(3)]\n",
    "def norm(v):\n",
    "    return math.sqrt(sum([vi**2 for vi in v]))\n",
    "def inner_product(v,w):\n",
    "    assert(len(v)==len(w))\n",
    "    return sum([v[i]*w[i] for i in range(len(v))])\n",
    "def angle(v,w):\n",
    "    assert(len(v)==3)\n",
    "    assert(len(w)==3)\n",
    "    return math.acos(abs(inner_product(v,w))/norm(v)/norm(w))\n",
    "\n",
    "print([diff_r])\n",
    "f = x**2+y**2-z\n",
    "g = gradient(f,[x,y,z],[sympy.cos(sympy.pi),sympy.sin(sympy.pi),1])\n",
    "# print(tangent_plane(f,[x,y,z],[sympy.cos(sympy.pi),sympy.sin(sympy.pi),1]))\n",
    "print(g)\n",
    "# angle = math.pi/2 - \n",
    "print(angle(g,diff_r)/math.pi*180)\n",
    "# print(2.4/180*math.pi)\n",
    "inner_product(diff_r,g)"
   ]
  }
 ],
 "metadata": {
  "kernelspec": {
   "display_name": "Python 3",
   "language": "python",
   "name": "python3"
  },
  "language_info": {
   "codemirror_mode": {
    "name": "ipython",
    "version": 3
   },
   "file_extension": ".py",
   "mimetype": "text/x-python",
   "name": "python",
   "nbconvert_exporter": "python",
   "pygments_lexer": "ipython3",
   "version": "3.7.7"
  }
 },
 "nbformat": 4,
 "nbformat_minor": 4
}
