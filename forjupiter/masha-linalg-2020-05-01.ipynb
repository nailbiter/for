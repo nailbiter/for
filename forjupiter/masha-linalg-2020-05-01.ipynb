{
 "cells": [
  {
   "cell_type": "code",
   "execution_count": 10,
   "metadata": {},
   "outputs": [
    {
     "name": "stdout",
     "output_type": "stream",
     "text": [
      "[[-8]]\n",
      "[[8]]\n",
      "[[11]]\n"
     ]
    }
   ],
   "source": [
    "import numpy as np\n",
    "v1 = np.matrix([1,2,3])\n",
    "v2 = np.matrix([2,1,0])\n",
    "w = np.matrix([1,0,1])\n",
    "\n",
    "print((v2 - v1)*(v1-w).transpose())\n",
    "print((v1-w)*(v1-w).transpose())\n",
    "print((v2-v1)*(v2-v1).transpose())"
   ]
  },
  {
   "cell_type": "code",
   "execution_count": 20,
   "metadata": {},
   "outputs": [
    {
     "data": {
      "text/plain": [
       "matrix([[ 0.09090909, -0.09090909, -0.27272727],\n",
       "        [-0.09090909,  0.09090909,  0.27272727],\n",
       "        [-0.27272727,  0.27272727,  0.81818182]])"
      ]
     },
     "execution_count": 20,
     "metadata": {},
     "output_type": "execute_result"
    }
   ],
   "source": [
    "# import\n",
    "A = (v1-v2).transpose()\n",
    "A*np.linalg.inv(A.transpose()*A)*A.transpose()"
   ]
  },
  {
   "cell_type": "code",
   "execution_count": 47,
   "metadata": {},
   "outputs": [
    {
     "data": {
      "text/plain": [
       "-6.0"
      ]
     },
     "execution_count": 47,
     "metadata": {},
     "output_type": "execute_result"
    }
   ],
   "source": [
    "import numpy as np\n",
    "import sympy\n",
    "\n",
    "a = sympy.Symbol(\"a\")\n",
    "b = sympy.Symbol(\"b\")\n",
    "c = sympy.Symbol(\"c\")\n",
    "d = sympy.Symbol(\"d\")\n",
    "\n",
    "u = [1,2,3]\n",
    "v = [2,1,0]\n",
    "w = [1,0,1]\n",
    "\n",
    "list(map(lambda s:s.subs(d,1),list(sympy.linsolve([a*s[0]+b*s[1]+c*s[2]+d for s in [u,v,w]],[a,b,c,d]))[0]))\n",
    "M = np.matrix([u,v,w])\n",
    "np.linalg.det(M)"
   ]
  }
 ],
 "metadata": {
  "kernelspec": {
   "display_name": "Python 3",
   "language": "python",
   "name": "python3"
  },
  "language_info": {
   "codemirror_mode": {
    "name": "ipython",
    "version": 3
   },
   "file_extension": ".py",
   "mimetype": "text/x-python",
   "name": "python",
   "nbconvert_exporter": "python",
   "pygments_lexer": "ipython3",
   "version": "3.7.7"
  }
 },
 "nbformat": 4,
 "nbformat_minor": 4
}
