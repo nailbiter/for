{
 "cells": [
  {
   "cell_type": "code",
   "execution_count": 34,
   "metadata": {},
   "outputs": [
    {
     "data": {
      "image/png": "[encoded data removed]",
      "text/plain": [
       "<Figure size 432x288 with 1 Axes>"
      ]
     },
     "metadata": {
      "needs_background": "light"
     },
     "output_type": "display_data"
    },
    {
     "name": "stdout",
     "output_type": "stream",
     "text": [
      "{(-1, -1): 'local minimum', (-1, 0): 'saddle', (-1, 1): 'local minimum', (1, -1): 'saddle', (1, 0): 'local maximum', (1, 1): 'saddle'}\n"
     ]
    }
   ],
   "source": [
    "# 4\n",
    "import sympy\n",
    "import matplotlib.pyplot as plt\n",
    "import numpy as np\n",
    "\n",
    "x,y = (sympy.Symbol(l) for l in [\"x\",\"y\"])\n",
    "\n",
    "f = 3*x-x**3-2*y**2+y**4\n",
    "fx = sympy.diff(f,x)\n",
    "fy = sympy.diff(f,y)\n",
    "fxx = sympy.diff(f,x,x)\n",
    "fxy = sympy.diff(f,x,y)\n",
    "fyy = sympy.diff(f,y,y)\n",
    "hessian_det = fxx*fyy-fxy**2\n",
    "\n",
    "res = sympy.solve([fx,fy],dict=True)\n",
    "res_x = [i[x] for i in res]\n",
    "res_y = [i[y] for i in res]\n",
    "def second_derivative_test(i):\n",
    "    hessian_det_value = hessian_det.subs([(x,res_x[i]),(y,res_y[i])])\n",
    "    fxx_value = fxx.subs([(x,res_x[i]),(y,res_y[i])])\n",
    "    if(hessian_det_value<0):\n",
    "        return \"saddle\"\n",
    "    elif(hessian_det_value==0):\n",
    "        return \"inconclusive\"\n",
    "    elif(hessian_det_value>0 and fxx_value>0):\n",
    "        return \"local minimum\"\n",
    "    else:\n",
    "        return \"local maximum\"\n",
    "KEYS = [\"saddle\",\"inconclusive\",\"local minimum\",\"local maximum\"]\n",
    "group_indexes = {k:[i for i in range(len(res)) if second_derivative_test(i)==k] for k in KEYS}\n",
    "\n",
    "data = (([res_x[i] for i in group_indexes[k]],[res_y[i] for i in group_indexes[k]]) for k in KEYS)\n",
    "# colors = (\"red\", \"black\", \"blue\",\"yellow\")\n",
    "markers = (\"s\",\"x\",\"v\",\"^\")\n",
    "groups = tuple(KEYS)\n",
    "# Create plot\n",
    "fig = plt.figure()\n",
    "ax = fig.add_subplot(1, 1, 1)\n",
    "for data, marker, group in zip(data, markers, groups):\n",
    "    x, y = data\n",
    "    ax.scatter(x, y, alpha=0.8, marker=marker, edgecolors='none', s=30, label=group)\n",
    "plt.title('Matplot scatter plot')\n",
    "plt.legend()\n",
    "plt.show()\n",
    "print({(res_x[i],res_y[i]):next(k for k in KEYS if i in group_indexes[k]) for i in range(len(res))})"
   ]
  },
  {
   "cell_type": "code",
   "execution_count": 42,
   "metadata": {},
   "outputs": [
    {
     "name": "stdout",
     "output_type": "stream",
     "text": [
      "fx: 2*y*sin(x)\n",
      "fy: 2*y - 2*cos(x)\n",
      "hessian_det: 4*y*cos(x) - 4*sin(x)**2\n",
      "solve's res: [{x: 0, y: 1}, {y: 0, x: pi/2}, {x: pi, y: -1}, {y: 0, x: 3*pi/2}]\n",
      "{(0, 1): 'local minimum', (pi/2, 0): 'saddle', (pi, -1): 'local minimum', (3*pi/2, 0): 'saddle'}\n"
     ]
    }
   ],
   "source": [
    "# 15, 19\n",
    "import sympy\n",
    "import matplotlib.pyplot as plt\n",
    "import numpy as np\n",
    "\n",
    "x,y = (sympy.Symbol(l) for l in [\"x\",\"y\"])\n",
    "\n",
    "# f = sympy.exp(x)*sympy.cos(y)\n",
    "f = y**2-2*y*sympy.cos(x)\n",
    "fx = sympy.simplify(sympy.diff(f,x))\n",
    "fy = sympy.simplify(sympy.diff(f,y))\n",
    "fxx = sympy.diff(f,x,x)\n",
    "fxy = sympy.diff(f,x,y)\n",
    "fyy = sympy.diff(f,y,y)\n",
    "hessian_det = sympy.simplify(fxx*fyy-fxy**2)\n",
    "print(f\"fx: {fx}\")\n",
    "print(f\"fy: {fy}\")\n",
    "print(f\"hessian_det: {hessian_det}\")\n",
    "\n",
    "res = sympy.solve([fx,fy],dict=True)\n",
    "print(f\"solve's res: {res}\")\n",
    "res_x = [i[x] for i in res]\n",
    "res_y = [i[y] for i in res]\n",
    "def second_derivative_test(i):\n",
    "    hessian_det_value = hessian_det.subs([(x,res_x[i]),(y,res_y[i])])\n",
    "    fxx_value = fxx.subs([(x,res_x[i]),(y,res_y[i])])\n",
    "    if(hessian_det_value<0):\n",
    "        return \"saddle\"\n",
    "    elif(hessian_det_value==0):\n",
    "        return \"inconclusive\"\n",
    "    elif(hessian_det_value>0 and fxx_value>0):\n",
    "        return \"local minimum\"\n",
    "    else:\n",
    "        return \"local maximum\"\n",
    "KEYS = [\"saddle\",\"inconclusive\",\"local minimum\",\"local maximum\"]\n",
    "group_indexes = {k:[i for i in range(len(res)) if second_derivative_test(i)==k] for k in KEYS}\n",
    "\n",
    "print({(res_x[i],res_y[i]):next(k for k in KEYS if i in group_indexes[k]) for i in range(len(res))})"
   ]
  },
  {
   "cell_type": "code",
   "execution_count": 43,
   "metadata": {},
   "outputs": [
    {
     "data": {
      "image/png": "[encoded data removed]",
      "text/plain": [
       "<Figure size 432x288 with 1 Axes>"
      ]
     },
     "metadata": {
      "needs_background": "light"
     },
     "output_type": "display_data"
    },
    {
     "name": "stdout",
     "output_type": "stream",
     "text": [
      "{(1, 0): 'local minimum'}\n"
     ]
    }
   ],
   "source": [
    "# 31\n",
    "import sympy\n",
    "import matplotlib.pyplot as plt\n",
    "import numpy as np\n",
    "\n",
    "x,y = (sympy.Symbol(l) for l in [\"x\",\"y\"])\n",
    "\n",
    "f = x**2+y**2-2*x\n",
    "fx = sympy.diff(f,x)\n",
    "fy = sympy.diff(f,y)\n",
    "fxx = sympy.diff(f,x,x)\n",
    "fxy = sympy.diff(f,x,y)\n",
    "fyy = sympy.diff(f,y,y)\n",
    "hessian_det = fxx*fyy-fxy**2\n",
    "\n",
    "res = sympy.solve([fx,fy],dict=True)\n",
    "res_x = [i[x] for i in res]\n",
    "res_y = [i[y] for i in res]\n",
    "def second_derivative_test(i):\n",
    "    hessian_det_value = hessian_det.subs([(x,res_x[i]),(y,res_y[i])])\n",
    "    fxx_value = fxx.subs([(x,res_x[i]),(y,res_y[i])])\n",
    "    if(hessian_det_value<0):\n",
    "        return \"saddle\"\n",
    "    elif(hessian_det_value==0):\n",
    "        return \"inconclusive\"\n",
    "    elif(hessian_det_value>0 and fxx_value>0):\n",
    "        return \"local minimum\"\n",
    "    else:\n",
    "        return \"local maximum\"\n",
    "KEYS = [\"saddle\",\"inconclusive\",\"local minimum\",\"local maximum\"]\n",
    "group_indexes = {k:[i for i in range(len(res)) if second_derivative_test(i)==k] for k in KEYS}\n",
    "\n",
    "data = (([res_x[i] for i in group_indexes[k]],[res_y[i] for i in group_indexes[k]]) for k in KEYS)\n",
    "# colors = (\"red\", \"black\", \"blue\",\"yellow\")\n",
    "markers = (\"s\",\"x\",\"v\",\"^\")\n",
    "groups = tuple(KEYS)\n",
    "# Create plot\n",
    "fig = plt.figure()\n",
    "ax = fig.add_subplot(1, 1, 1)\n",
    "for data, marker, group in zip(data, markers, groups):\n",
    "    x, y = data\n",
    "    ax.scatter(x, y, alpha=0.8, marker=marker, edgecolors='none', s=30, label=group)\n",
    "plt.title('Matplot scatter plot')\n",
    "plt.legend()\n",
    "plt.show()\n",
    "print({(res_x[i],res_y[i]):next(k for k in KEYS if i in group_indexes[k]) for i in range(len(res))})"
   ]
  },
  {
   "cell_type": "code",
   "execution_count": 69,
   "metadata": {},
   "outputs": [
    {
     "name": "stdout",
     "output_type": "stream",
     "text": [
      "pt: [19.99999802 40.00000104 40.00000293]\n"
     ]
    },
    {
     "data": {
      "text/plain": [
       "4799.999999999632"
      ]
     },
     "execution_count": 69,
     "metadata": {},
     "output_type": "execute_result"
    }
   ],
   "source": [
    "# 41, 49, 53\n",
    "import scipy\n",
    "import math\n",
    "f = lambda x:2*x[0]*x[1]+2*x[0]*x[2]+x[1]*x[2]\n",
    "res = scipy.optimize.minimize(f,(20,20,80),constraints={\"type\":\"eq\",\"fun\":lambda x:x[0]*x[1]*x[2]-32000},bounds = ((0, None), (0, None),(0,None)))\n",
    "# f = lambda x:(x[0]-2)**2+x[1]**2+(1-x[1]-x[0]+3)**2\n",
    "# res = scipy.optimize.minimize(f,(0,0))\n",
    "print(f\"pt: {res.x}\")\n",
    "# print(2/math.sqrt(3))\n",
    "f(res.x)\n",
    "# scipy.optimize.minimize"
   ]
  },
  {
   "cell_type": "code",
   "execution_count": 72,
   "metadata": {},
   "outputs": [
    {
     "name": "stdout",
     "output_type": "stream",
     "text": [
      "pt: [2.66666658 0.66666667]\n",
      "1.1547005383792517\n"
     ]
    },
    {
     "data": {
      "text/plain": [
       "1.1547005383792575"
      ]
     },
     "execution_count": 72,
     "metadata": {},
     "output_type": "execute_result"
    }
   ],
   "source": [
    "# 41,\n",
    "import scipy\n",
    "import math\n",
    "# f = lambda x:2*x[0]*x[1]+2*x[0]*x[2]+x[1]*x[2]\n",
    "# res = scipy.optimize.minimize(f,(20,20,80),constraints={\"type\":\"eq\",\"fun\":lambda x:x[0]*x[1]*x[2]-32000},bounds = ((0, None), (0, None),(0,None)))\n",
    "f = lambda x:math.sqrt((x[0]-2)**2+x[1]**2+(1-x[1]-x[0]+3)**2)\n",
    "res = scipy.optimize.minimize(f,(0,0))\n",
    "print(f\"pt: {res.x}\")\n",
    "print(2/math.sqrt(3))\n",
    "f(res.x)\n",
    "# scipy.optimize.minimize"
   ]
  },
  {
   "cell_type": "code",
   "execution_count": 73,
   "metadata": {},
   "outputs": [
    {
     "name": "stdout",
     "output_type": "stream",
     "text": [
      "fx: y*(1 - x)*exp(-x - y)\n",
      "fy: x*(1 - y)*exp(-x - y)\n",
      "hessian_det: (-x**2 + 2*x - y**2 + 2*y - 1)*exp(-2*x - 2*y)\n",
      "solve's res: [{x: 0, y: 0}, {y: 1, x: 1}]\n",
      "{(0, 0): 'saddle', (1, 1): 'local maximum'}\n"
     ]
    }
   ],
   "source": [
    "# 15, 19\n",
    "import sympy\n",
    "import matplotlib.pyplot as plt\n",
    "import numpy as np\n",
    "\n",
    "x,y = (sympy.Symbol(l) for l in [\"x\",\"y\"])\n",
    "\n",
    "# f = sympy.exp(x)*sympy.cos(y)\n",
    "f = x*y*sympy.exp(-x-y)\n",
    "fx = sympy.simplify(sympy.diff(f,x))\n",
    "fy = sympy.simplify(sympy.diff(f,y))\n",
    "fxx = sympy.diff(f,x,x)\n",
    "fxy = sympy.diff(f,x,y)\n",
    "fyy = sympy.diff(f,y,y)\n",
    "hessian_det = sympy.simplify(fxx*fyy-fxy**2)\n",
    "print(f\"fx: {fx}\")\n",
    "print(f\"fy: {fy}\")\n",
    "print(f\"hessian_det: {hessian_det}\")\n",
    "\n",
    "res = sympy.solve([fx,fy],dict=True)\n",
    "print(f\"solve's res: {res}\")\n",
    "res_x = [i[x] for i in res]\n",
    "res_y = [i[y] for i in res]\n",
    "def second_derivative_test(i):\n",
    "    hessian_det_value = hessian_det.subs([(x,res_x[i]),(y,res_y[i])])\n",
    "    fxx_value = fxx.subs([(x,res_x[i]),(y,res_y[i])])\n",
    "    if(hessian_det_value<0):\n",
    "        return \"saddle\"\n",
    "    elif(hessian_det_value==0):\n",
    "        return \"inconclusive\"\n",
    "    elif(hessian_det_value>0 and fxx_value>0):\n",
    "        return \"local minimum\"\n",
    "    else:\n",
    "        return \"local maximum\"\n",
    "KEYS = [\"saddle\",\"inconclusive\",\"local minimum\",\"local maximum\"]\n",
    "group_indexes = {k:[i for i in range(len(res)) if second_derivative_test(i)==k] for k in KEYS}\n",
    "\n",
    "print({(res_x[i],res_y[i]):next(k for k in KEYS if i in group_indexes[k]) for i in range(len(res))})"
   ]
  }
 ],
 "metadata": {
  "kernelspec": {
   "display_name": "Python 3",
   "language": "python",
   "name": "python3"
  },
  "language_info": {
   "codemirror_mode": {
    "name": "ipython",
    "version": 3
   },
   "file_extension": ".py",
   "mimetype": "text/x-python",
   "name": "python",
   "nbconvert_exporter": "python",
   "pygments_lexer": "ipython3",
   "version": "3.7.7"
  }
 },
 "nbformat": 4,
 "nbformat_minor": 4
}
