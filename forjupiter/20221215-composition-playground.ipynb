{
 "cells": [
  {
   "cell_type": "code",
   "execution_count": 2,
   "id": "5198fa01",
   "metadata": {},
   "outputs": [
    {
     "name": "stdout",
     "output_type": "stream",
     "text": [
      "Python 3.9.13\r\n"
     ]
    }
   ],
   "source": [
    "!python3 --version"
   ]
  },
  {
   "cell_type": "code",
   "execution_count": 11,
   "id": "e3dd7027",
   "metadata": {},
   "outputs": [
    {
     "data": {
      "text/plain": [
       "16"
      ]
     },
     "execution_count": 11,
     "metadata": {},
     "output_type": "execute_result"
    }
   ],
   "source": [
    "import functools\n",
    "def a(x,y):\n",
    "    \"\"\"\n",
    "    return x+y\n",
    "    \"\"\"\n",
    "    return x+y\n",
    "def b(z):\n",
    "    return z**2\n",
    "def composition(f1,f2):\n",
    "    @functools.wraps(f2)\n",
    "    def _composition(*args,f1_composition_args=[],f1_composition_kwargs={},**kwargs):\n",
    "        return f1(f2(*args,**kwargs),*f1_composition_args,**f1_composition_kwargs)\n",
    "    return _composition\n",
    "ba = composition(b,a)\n",
    "\n",
    "ba(2,2)"
   ]
  }
 ],
 "metadata": {
  "kernelspec": {
   "display_name": "Python 3 (ipykernel)",
   "language": "python",
   "name": "python3"
  },
  "language_info": {
   "codemirror_mode": {
    "name": "ipython",
    "version": 3
   },
   "file_extension": ".py",
   "mimetype": "text/x-python",
   "name": "python",
   "nbconvert_exporter": "python",
   "pygments_lexer": "ipython3",
   "version": "3.10.8"
  }
 },
 "nbformat": 4,
 "nbformat_minor": 5
}
