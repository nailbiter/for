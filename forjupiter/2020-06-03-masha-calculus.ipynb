{
 "cells": [
  {
   "cell_type": "code",
   "execution_count": 1,
   "metadata": {},
   "outputs": [
    {
     "data": {
      "text/latex": [
       "$\\displaystyle \\frac{e \\left(-2 + e\\right)}{4}$"
      ],
      "text/plain": [
       "E*(-2 + E)/4"
      ]
     },
     "execution_count": 1,
     "metadata": {},
     "output_type": "execute_result"
    }
   ],
   "source": [
    "# 8\n",
    "from sympy import integrate, exp, simplify\n",
    "from sympy.abc import x,y,z\n",
    "\n",
    "simplify(integrate(x*y*exp(z),(z,0,2-x**2-y**2),(y,0,1),(x,0,1)))"
   ]
  },
  {
   "cell_type": "code",
   "execution_count": 2,
   "metadata": {},
   "outputs": [
    {
     "data": {
      "text/latex": [
       "$\\displaystyle - \\frac{16}{3}$"
      ],
      "text/plain": [
       "-16/3"
      ]
     },
     "execution_count": 2,
     "metadata": {},
     "output_type": "execute_result"
    }
   ],
   "source": [
    "# 14\n",
    "from sympy import integrate, exp, simplify\n",
    "from sympy.abc import y,x,z\n",
    "\n",
    "simplify(integrate(x-y,(z,x**2-1,1-x**2),(x,-1,1),(y,0,2)))"
   ]
  },
  {
   "cell_type": "code",
   "execution_count": 11,
   "metadata": {},
   "outputs": [
    {
     "data": {
      "text/latex": [
       "$\\displaystyle 16 \\pi$"
      ],
      "text/plain": [
       "16*pi"
      ]
     },
     "execution_count": 11,
     "metadata": {},
     "output_type": "execute_result"
    }
   ],
   "source": [
    "# 20\n",
    "from sympy import integrate, exp, simplify, sqrt\n",
    "from sympy.abc import pi,r,y\n",
    "\n",
    "# 2*pi*r\n",
    "# sqrt(8)\n",
    "# pi\n",
    "# 2*pi*r\n",
    "integrate(2*pi*r,(y,r**2,8-r**2),(r,0,2))"
   ]
  },
  {
   "cell_type": "code",
   "execution_count": 20,
   "metadata": {},
   "outputs": [
    {
     "name": "stdout",
     "output_type": "stream",
     "text": [
      "5/12\n",
      "5/12\n",
      "5/12\n",
      "5/12\n",
      "1/6\n",
      "-2*Integral(sqrt(y**2 - 2*y + 1), (y, 0, 1))/3 - 2*Integral(y**2*sqrt(y**2 - 2*y + 1), (y, 0, 1))/3 - 2*Integral(-2*y*sqrt(y**2 - 2*y + 1), (y, 0, 1))/3 - 2*Integral(-1, (y, 0, 1))/3\n"
     ]
    }
   ],
   "source": [
    "# 34\n",
    "from sympy import integrate,sqrt\n",
    "from sympy.abc import x,y,z\n",
    "\n",
    "f = 1\n",
    "print(integrate(f,(y,0,1-x),(z,0,1-x**2),(x,0,1)))\n",
    "print(integrate(f,(z,0,1-x**2),(y,0,1-x),(x,0,1)))\n",
    "print(integrate(f,(z,0,1-x**2),(x,0,1-y),(y,0,1)))\n",
    "print(integrate(f,(y,0,1-x),(x,0,sqrt(1-z)),(z,0,1)))\n",
    "print(integrate(f,(x,0,sqrt(1-z)),(y,0,1-sqrt(1-z)),(z,0,1)))\n",
    "print(integrate(f,(x,0,sqrt(1-z)),(z,0,y*(2-y)),(y,0,1)))"
   ]
  },
  {
   "cell_type": "code",
   "execution_count": 30,
   "metadata": {},
   "outputs": [
    {
     "name": "stdout",
     "output_type": "stream",
     "text": [
      "(x, z, y) => 1/3\n",
      "(x, y, z) => 1/3\n",
      "(z, x, y) => -1/6\n",
      "(z, y, x) => 1/6\n",
      "(y, x, z) => 1/3\n",
      "(y, z, x) => -1/3\n"
     ]
    }
   ],
   "source": [
    "# 36\n",
    "from sympy import integrate,sqrt\n",
    "from sympy.abc import x,y,z\n",
    "\n",
    "d = {\n",
    "    (x,z,y):[(0,1),(y,1),(0,z)],\n",
    "    (x,y,z):[(0,1),(0,z),(0,z)],\n",
    "    (z,x,y):[(0,1),(0,y),(y,x)],\n",
    "    (z,y,x):[(0,1),(1,x),(y,x)],\n",
    "    (y,x,z):[(0,1),(0,z),(0,z)],\n",
    "    (y,z,x):[(0,1),(1,x),(0,z)],\n",
    "}\n",
    "\n",
    "f = 1\n",
    "for k,v in d.items():\n",
    "    e = integrate(f,*[(kk,v[len(v)-i-1][0],v[len(v)-i-1][1]) for i,kk in enumerate(k)])\n",
    "    print(f\"{k} => {e}\")"
   ]
  },
  {
   "cell_type": "code",
   "execution_count": 45,
   "metadata": {},
   "outputs": [
    {
     "name": "stdout",
     "output_type": "stream",
     "text": [
      "m: 1/24\n",
      "mx: 1/5\n",
      "my: 2/5\n",
      "mz: 1/5\n",
      "int_x: 1/120\n",
      "int_y: 1/60\n",
      "int_z: 1/120\n"
     ]
    }
   ],
   "source": [
    "# 42\n",
    "from sympy import integrate,sqrt\n",
    "from sympy.abc import x,y,z\n",
    "\n",
    "f = y\n",
    "# print(f\"f: {f}\")\n",
    "ib = [(z,0,1-y-x),(y,0,1-x),(x,0,1)]\n",
    "m = integrate(f,*ib)\n",
    "print(f\"m: {m}\")\n",
    "for s in [x,y,z]:\n",
    "    e = integrate(s*f,*ib)/m\n",
    "    print(f\"m{s}: {e}\")\n",
    "for s in [x,y,z]:\n",
    "    e = integrate(s*f,*ib)\n",
    "    print(f\"int_{s}: {e}\")"
   ]
  },
  {
   "cell_type": "code",
   "execution_count": 48,
   "metadata": {},
   "outputs": [
    {
     "data": {
      "text/latex": [
       "$\\displaystyle \\frac{1}{120}$"
      ],
      "text/plain": [
       "1/120"
      ]
     },
     "execution_count": 48,
     "metadata": {},
     "output_type": "execute_result"
    }
   ],
   "source": [
    "1/2+3/4-1-1/5\n",
    "integrate(x*y,*ib)\n",
    "integrate(x*(1-x)**3/6,(x,0,1))"
   ]
  },
  {
   "cell_type": "code",
   "execution_count": 44,
   "metadata": {},
   "outputs": [
    {
     "data": {
      "text/latex": [
       "$\\displaystyle \\frac{2}{3}$"
      ],
      "text/plain": [
       "2/3"
      ]
     },
     "execution_count": 44,
     "metadata": {},
     "output_type": "execute_result"
    }
   ],
   "source": [
    "# 54\n",
    "from sympy import integrate,sqrt\n",
    "from sympy.abc import x,y,z, r, pi\n",
    "\n",
    "f = 2*pi*r\n",
    "# integrate(z*f,(z,0,sqrt(1-r**2)),(r,0,1))/pi\n",
    "integrate(f,(r,0,sqrt(1-z**2)),(z,0,1))/pi"
   ]
  }
 ],
 "metadata": {
  "kernelspec": {
   "display_name": "Python 3",
   "language": "python",
   "name": "python3"
  },
  "language_info": {
   "codemirror_mode": {
    "name": "ipython",
    "version": 3
   },
   "file_extension": ".py",
   "mimetype": "text/x-python",
   "name": "python",
   "nbconvert_exporter": "python",
   "pygments_lexer": "ipython3",
   "version": "3.7.7"
  }
 },
 "nbformat": 4,
 "nbformat_minor": 4
}
