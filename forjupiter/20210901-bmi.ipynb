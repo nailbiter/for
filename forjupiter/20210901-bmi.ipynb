{
 "cells": [
  {
   "cell_type": "markdown",
   "id": "8fe58a76",
   "metadata": {},
   "source": [
    "[last medical report says](https://drive.google.com/file/d/1PlqmtNuURQM8JYrTedqvlBcssA-gsLLX/view) (p. 27) says that"
   ]
  },
  {
   "cell_type": "code",
   "execution_count": 1,
   "id": "af64ed37",
   "metadata": {},
   "outputs": [],
   "source": [
    "height = 176.4\n",
    "weight = 78.7\n",
    "bmi = 25.3"
   ]
  },
  {
   "cell_type": "markdown",
   "id": "41d51ab3",
   "metadata": {},
   "source": [
    "this agrees with formula at https://www.cdc.gov/healthyweight/assessing/bmi/childrens_bmi/childrens_bmi_formula.html"
   ]
  },
  {
   "cell_type": "code",
   "execution_count": 4,
   "id": "b29aed72",
   "metadata": {},
   "outputs": [
    {
     "data": {
      "text/plain": [
       "25.291673736766057"
      ]
     },
     "execution_count": 4,
     "metadata": {},
     "output_type": "execute_result"
    }
   ],
   "source": [
    "def compute_bmi(h,w): return w/(h/100)**2\n",
    "compute_bmi(height,weight)"
   ]
  },
  {
   "cell_type": "markdown",
   "id": "4b6c0a2e",
   "metadata": {},
   "source": [
    "inversing, to have a BMI<=24.9 (which is \"healthy\"), I need to have weight <= than"
   ]
  },
  {
   "cell_type": "code",
   "execution_count": 6,
   "id": "65b88e21",
   "metadata": {},
   "outputs": [
    {
     "data": {
      "text/plain": [
       "'77.48'"
      ]
     },
     "execution_count": 6,
     "metadata": {},
     "output_type": "execute_result"
    }
   ],
   "source": [
    "import numpy as np\n",
    "# see https://drive.google.com/file/d/1PlqmtNuURQM8JYrTedqvlBcssA-gsLLX/view, p.27\n",
    "HEALTHY_BMI = 24.9\n",
    "f\"{max([w for w in np.arange(70,80,0.01) if compute_bmi(height,w)<=HEALTHY_BMI]):.2f}\""
   ]
  },
  {
   "cell_type": "markdown",
   "id": "4721c8d8",
   "metadata": {},
   "source": [
    "==> I should try to maintain my weight in range 76.5~77.5"
   ]
  }
 ],
 "metadata": {
  "kernelspec": {
   "display_name": "Python 3",
   "language": "python",
   "name": "python3"
  },
  "language_info": {
   "codemirror_mode": {
    "name": "ipython",
    "version": 3
   },
   "file_extension": ".py",
   "mimetype": "text/x-python",
   "name": "python",
   "nbconvert_exporter": "python",
   "pygments_lexer": "ipython3",
   "version": "3.9.1"
  }
 },
 "nbformat": 4,
 "nbformat_minor": 5
}
