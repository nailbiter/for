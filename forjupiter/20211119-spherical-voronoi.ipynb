{
 "cells": [
  {
   "cell_type": "markdown",
   "id": "540c0a50",
   "metadata": {},
   "source": [
    "[spherical_geometry](https://github.com/spacetelescope/spherical_geometry/releases/tag/1.2.20)"
   ]
  },
  {
   "cell_type": "code",
   "execution_count": 7,
   "id": "f807e1ad",
   "metadata": {},
   "outputs": [],
   "source": [
    "import spherical_geometry.polygon\n",
    "import scipy\n",
    "import zipfile\n",
    "import os\n",
    "import pandas as pd\n",
    "import json\n",
    "import numpy as np\n",
    "import scipy.spatial\n",
    "import astropy.coordinates\n",
    "import shapely.geometry.polygon, shapely.geos\n",
    "import logging\n",
    "import tqdm,tqdm.notebook\n",
    "\n",
    "def astropy_q_to_deg(x):\n",
    "    return float(np.array(x.to(\"deg\")))"
   ]
  },
  {
   "cell_type": "markdown",
   "id": "946ffae6",
   "metadata": {},
   "source": [
    "TODO:\n",
    "- [x] download data\n",
    "- [x] calculate spherical voronoi\n",
    "- [x] load into `spherical_geometry`\n",
    "- [x] find Japan's geojson\n",
    "- [x] compute intersections\n",
    "- [ ] visualize intersections\n",
    "- [ ] compute radii\n",
    "- [ ] compute res\n",
    "- [ ] write text\n",
    "- [ ] convert to markdown\n",
    "- [ ] make pull req\n",
    "- [ ] oversee acceptance\n",
    "- [ ] publish"
   ]
  },
  {
   "cell_type": "code",
   "execution_count": 2,
   "id": "709575b7",
   "metadata": {},
   "outputs": [
    {
     "data": {
      "text/html": [
       "<div>\n",
       "<style scoped>\n",
       "    .dataframe tbody tr th:only-of-type {\n",
       "        vertical-align: middle;\n",
       "    }\n",
       "\n",
       "    .dataframe tbody tr th {\n",
       "        vertical-align: top;\n",
       "    }\n",
       "\n",
       "    .dataframe thead th {\n",
       "        text-align: right;\n",
       "    }\n",
       "</style>\n",
       "<table border=\"1\" class=\"dataframe\">\n",
       "  <thead>\n",
       "    <tr style=\"text-align: right;\">\n",
       "      <th></th>\n",
       "      <th>name</th>\n",
       "      <th>n_passengers</th>\n",
       "      <th>lonlat</th>\n",
       "    </tr>\n",
       "  </thead>\n",
       "  <tbody>\n",
       "    <tr>\n",
       "      <th>523</th>\n",
       "      <td>那覇空港</td>\n",
       "      <td>14008</td>\n",
       "      <td>(127.652285, 26.20666)</td>\n",
       "    </tr>\n",
       "    <tr>\n",
       "      <th>528</th>\n",
       "      <td>赤嶺</td>\n",
       "      <td>4841</td>\n",
       "      <td>(127.660665, 26.193265)</td>\n",
       "    </tr>\n",
       "    <tr>\n",
       "      <th>527</th>\n",
       "      <td>小禄</td>\n",
       "      <td>7707</td>\n",
       "      <td>(127.66703000000001, 26.196550000000002)</td>\n",
       "    </tr>\n",
       "    <tr>\n",
       "      <th>529</th>\n",
       "      <td>奥武山公園</td>\n",
       "      <td>4438</td>\n",
       "      <td>(127.67524, 26.200654999999998)</td>\n",
       "    </tr>\n",
       "    <tr>\n",
       "      <th>521</th>\n",
       "      <td>旭橋</td>\n",
       "      <td>8749</td>\n",
       "      <td>(127.67548, 26.21195)</td>\n",
       "    </tr>\n",
       "  </tbody>\n",
       "</table>\n",
       "</div>"
      ],
      "text/plain": [
       "      name  n_passengers                                    lonlat\n",
       "523   那覇空港         14008                    (127.652285, 26.20666)\n",
       "528     赤嶺          4841                   (127.660665, 26.193265)\n",
       "527     小禄          7707  (127.66703000000001, 26.196550000000002)\n",
       "529  奥武山公園          4438           (127.67524, 26.200654999999998)\n",
       "521     旭橋          8749                     (127.67548, 26.21195)"
      ]
     },
     "execution_count": 2,
     "metadata": {},
     "output_type": "execute_result"
    }
   ],
   "source": [
    "# assume file `S12-20_GML.zip` from https://nlftp.mlit.go.jp/ksj/gml/datalist/KsjTmplt-S12-v2_7.html\n",
    "# was downloaded into `Downloads` folder under the name `S12-20_GML.zip`\n",
    "# change the next line appropriately if this is not so\n",
    "zf = zipfile.ZipFile(f\"{os.environ['HOME']}/Downloads/S12-20_GML.zip\")\n",
    "assert \"S12-20_GML/S12-20_NumberOfPassengers.geojson\" in zf.namelist(), \"make sure you have the right archive\"\n",
    "zf.extract(\"S12-20_GML/S12-20_NumberOfPassengers.geojson\",\"/tmp/1224bf86_54a4_4e74_963f_7ebdbc7bac70\")\n",
    "\n",
    "with open('/tmp/1224bf86_54a4_4e74_963f_7ebdbc7bac70/S12-20_GML/S12-20_NumberOfPassengers.geojson', errors=\"ignore\") as f:\n",
    "    data = json.load(f)\n",
    "data = pd.DataFrame(data[\"features\"])\n",
    "# cf. https://nlftp.mlit.go.jp/ksj/gml/datalist/KsjTmplt-S12-v2_7.html\n",
    "data = pd.DataFrame({\n",
    "    \"name\": data.properties.apply(lambda d: d[\"S12_001\"]),\n",
    "    \"n_passengers\": data.properties.apply(lambda d: d[\"S12_041\"]),\n",
    "    \"lonlat\": data.geometry.apply(lambda g: tuple(sum(map(np.array, g[\"coordinates\"]))/len(g[\"coordinates\"]))),\n",
    "})\n",
    "data = pd.DataFrame([slice_.iloc[0] for _,slice_ in data.groupby(\"lonlat\")])\n",
    "print(len(data))\n",
    "data.head()"
   ]
  },
  {
   "cell_type": "code",
   "execution_count": 3,
   "id": "79223b41",
   "metadata": {},
   "outputs": [],
   "source": [
    "points = np.array(astropy.coordinates.spherical_to_cartesian(1,np.radians(data.lonlat.apply(lambda t:t[1])),np.radians(data.lonlat.apply(lambda t:t[0]))))\n",
    "points = points.transpose()"
   ]
  },
  {
   "cell_type": "code",
   "execution_count": 4,
   "id": "27a6db69",
   "metadata": {},
   "outputs": [],
   "source": [
    "#Spherical Voronoi threshold (taken from https://docs.scipy.org/doc/scipy/reference/generated/scipy.spatial.SphericalVoronoi.html)\n",
    "DEFAULT_SPHERICAL_VORONOI_THRESHOLD = 1e-06\n",
    "duplicates = scipy.spatial.cKDTree(points).query_pairs(DEFAULT_SPHERICAL_VORONOI_THRESHOLD)\n",
    "assert {a for a,b in duplicates} & {b for a,b in duplicates} == set()\n",
    "filtered_points = np.array([pt for i,pt in enumerate(points) if i not in {b for a,b in duplicates}])"
   ]
  },
  {
   "cell_type": "code",
   "execution_count": 5,
   "id": "702cefc6",
   "metadata": {},
   "outputs": [],
   "source": [
    "sv = scipy.spatial.SphericalVoronoi(\n",
    "    filtered_points,\n",
    "    center=np.zeros(3),\n",
    "    radius=1,\n",
    "    threshold=DEFAULT_SPHERICAL_VORONOI_THRESHOLD,\n",
    ")"
   ]
  },
  {
   "cell_type": "code",
   "execution_count": 8,
   "id": "aeb643ad",
   "metadata": {},
   "outputs": [
    {
     "data": {
      "application/vnd.jupyter.widget-view+json": {
       "model_id": "1f815d7ad9cc4004adfaf5fdd98b70ed",
       "version_major": 2,
       "version_minor": 0
      },
      "text/plain": [
       "HBox(children=(HTML(value=''), FloatProgress(value=0.0, max=9889.0), HTML(value='')))"
      ]
     },
     "metadata": {},
     "output_type": "display_data"
    },
    {
     "name": "stdout",
     "output_type": "stream",
     "text": [
      "\n"
     ]
    }
   ],
   "source": [
    "polygons = []\n",
    "sg_polygons = []\n",
    "for pt,region in tqdm.notebook.tqdm(list(zip(filtered_points,sv.regions))):\n",
    "    n = len(region)\n",
    "    region_points = [sv.vertices[region][i] for i in range(n)]\n",
    "    region_points = region_points+region_points[0]\n",
    "    pts = []\n",
    "    for rp in region_points:\n",
    "        pts.append([float(np.array(astropy.coordinates.cartesian_to_spherical(*rp)[i].to(\"degree\"))) for i in range(2,0,-1)])\n",
    "    polygons.append(shapely.geometry.polygon.Polygon(pts))\n",
    "    \n",
    "    sg_polygons.append(spherical_geometry.polygon.SingleSphericalPolygon(region_points, pt))\n",
    "polygons;"
   ]
  },
  {
   "cell_type": "code",
   "execution_count": 12,
   "id": "e278a5f9",
   "metadata": {},
   "outputs": [
    {
     "data": {
      "text/plain": [
       "True     8655\n",
       "False    1234\n",
       "dtype: int64"
      ]
     },
     "execution_count": 12,
     "metadata": {},
     "output_type": "execute_result"
    }
   ],
   "source": [
    "pd.Series([polygon.contains_lonlat(*point) for point,polygon in zip(sv.points,sg_polygons)]).value_counts()\n",
    "# sg_polygons[0].contains_lonlat(*sv.points[0])"
   ]
  },
  {
   "cell_type": "code",
   "execution_count": 11,
   "id": "94056d14",
   "metadata": {},
   "outputs": [],
   "source": [
    "# I assume you have downloaded the file `countries.geojson` from https://datahub.io/core/geo-countries \n",
    "# to `Downloads/countries.geojson` in your home folder\n",
    "with open(f\"{os.environ['HOME']}/Downloads/countries.geojson\") as f:\n",
    "    countries_geojson = json.load(f)\n",
    "\n",
    "japan_geojson = [f[\"geometry\"] for f in countries_geojson[\"features\"] if f[\"properties\"][\"ADMIN\"]==\"Japan\"][0]\n",
    "\n",
    "polygons = japan_geojson[\"coordinates\"]\n",
    "biggest_polygon = max(polygons,key=lambda polygon:shapely.geometry.polygon.Polygon(polygon[0]).area)\n",
    "biggest_polygon;\n",
    "\n",
    "#taken from https://www.latlong.net/place/tokyo-japan-8040.html\n",
    "tokyo_latlon = 35.652832, 139.839478\n",
    "\n",
    "_df = pd.DataFrame(biggest_polygon[0],columns=[\"lon\",\"lat\"])\n",
    "japan_sg_polygon = spherical_geometry.polygon.SingleSphericalPolygon(\n",
    "    #points\n",
    "    np.array(astropy.coordinates.spherical_to_cartesian(1,np.radians(_df.lat),np.radians(_df.lon))).transpose(),\n",
    "    #inside\n",
    "    inside=astropy.coordinates.spherical_to_cartesian(1,*np.radians(tokyo_latlon)),\n",
    ")\n",
    "japan_polygon = shapely.geometry.polygon.Polygon(biggest_polygon[0])"
   ]
  },
  {
   "cell_type": "code",
   "execution_count": 13,
   "id": "23daeb6a",
   "metadata": {},
   "outputs": [
    {
     "name": "stdout",
     "output_type": "stream",
     "text": [
      "CPU times: user 6min 42s, sys: 2.16 s, total: 6min 44s\n",
      "Wall time: 6min 48s\n"
     ]
    },
    {
     "data": {
      "text/plain": [
       "[SingleSphericalPolygon(array([[-0.58699322,  0.46792191,  0.66067242],\n",
       "       [-0.58711885,  0.46815556,  0.66039521],\n",
       "       [-0.58720845,  0.46836321,  0.66016827],\n",
       "       ...,\n",
       "       [-0.58689955,  0.46755277,  0.66101689],\n",
       "       [-0.58690197,  0.4677587 ,  0.66086904],\n",
       "       [-0.58699322,  0.46792191,  0.66067242]]), array([ 0.5808175 , -0.54698242, -0.60287748]))]"
      ]
     },
     "execution_count": 13,
     "metadata": {},
     "output_type": "execute_result"
    }
   ],
   "source": [
    "%%time\n",
    "japan_sg_polygon.intersection(sg_polygons[0])"
   ]
  },
  {
   "cell_type": "code",
   "execution_count": 26,
   "id": "58f2c4d3",
   "metadata": {},
   "outputs": [
    {
     "data": {
      "text/plain": [
       "46.698055555555555"
      ]
     },
     "execution_count": 26,
     "metadata": {},
     "output_type": "execute_result"
    }
   ],
   "source": [
    "from datetime import timedelta\n",
    "(timedelta(minutes=6,seconds=48)*len(sg_polygons)).total_seconds()/60**2/24"
   ]
  },
  {
   "cell_type": "code",
   "execution_count": 192,
   "id": "7bff642e",
   "metadata": {},
   "outputs": [
    {
     "data": {
      "text/plain": [
       "count     2478.000000\n",
       "mean      2403.367099\n",
       "std       2257.181420\n",
       "min         46.832563\n",
       "25%       1232.016900\n",
       "50%       1829.557480\n",
       "75%       2778.677174\n",
       "max      31696.133952\n",
       "dtype: float64"
      ]
     },
     "execution_count": 192,
     "metadata": {},
     "output_type": "execute_result"
    }
   ],
   "source": [
    "import geopy.distance\n",
    "import seaborn as sns\n",
    "\n",
    "dists = []\n",
    "for s,e in zip(biggest_polygon[0][:-1],biggest_polygon[0][1:]):\n",
    "    d = geopy.distance.distance(s[::-1],e[::-1]).meters\n",
    "    dists.append(d)\n",
    "pd.Series(dists).describe()"
   ]
  },
  {
   "cell_type": "code",
   "execution_count": 376,
   "id": "39e70de1",
   "metadata": {},
   "outputs": [
    {
     "data": {
      "text/plain": [
       "False    7955\n",
       "True     1934\n",
       "dtype: int64"
      ]
     },
     "execution_count": 376,
     "metadata": {},
     "output_type": "execute_result"
    }
   ],
   "source": [
    "_s = []\n",
    "for i,(pt,polygon) in enumerate(zip(sv.points,polygons)):\n",
    "    _,lat,lon = astropy.coordinates.cartesian_to_spherical(*pt)\n",
    "    _pt = shapely.geometry.Point(astropy_q_to_deg(lon),astropy_q_to_deg(lat))\n",
    "    _s.append(polygon.contains(_pt))\n",
    "pd.Series(_s).value_counts()"
   ]
  },
  {
   "cell_type": "code",
   "execution_count": 307,
   "id": "faf57553",
   "metadata": {},
   "outputs": [
    {
     "data": {
      "application/vnd.jupyter.widget-view+json": {
       "model_id": "5234c786422b49d49cb64e2b5a1c6304",
       "version_major": 2,
       "version_minor": 0
      },
      "text/plain": [
       "HBox(children=(HTML(value=''), FloatProgress(value=0.0, max=9889.0), HTML(value='')))"
      ]
     },
     "metadata": {},
     "output_type": "display_data"
    },
    {
     "name": "stderr",
     "output_type": "stream",
     "text": [
      "ERROR:shapely.geos:TopologyException: Input geom 1 is invalid: Self-intersection at or near point 277.0375295488376 38.075180445995954 at 277.0375295488376 38.075180445995954\n",
      "WARNING:root:The operation 'GEOSIntersection_r' could not be performed. Likely cause is invalidity of the geometry <shapely.geometry.polygon.Polygon object at 0x12d405370>\n"
     ]
    },
    {
     "name": "stdout",
     "output_type": "stream",
     "text": [
      "\n"
     ]
    },
    {
     "data": {
      "text/plain": [
       "1"
      ]
     },
     "execution_count": 307,
     "metadata": {},
     "output_type": "execute_result"
    }
   ],
   "source": [
    "intersections = []\n",
    "_error_count = 0\n",
    "for i,polygon in tqdm.notebook.tqdm(list(enumerate(polygons))):\n",
    "    try:\n",
    "        intersection = japan_polygon.intersection(polygon)\n",
    "        intersections.append((i,intersection))\n",
    "    except shapely.geos.TopologicalError as te:\n",
    "        logging.warning(te)\n",
    "        _error_count += 1\n",
    "# intersections = [japan_polygon.intersection(polygon) for polygon in tqdm.notebook.tqdm(polygons)]\n",
    "_error_count"
   ]
  },
  {
   "cell_type": "code",
   "execution_count": 312,
   "id": "b01d108d",
   "metadata": {},
   "outputs": [
    {
     "data": {
      "text/plain": [
       "Polygon         9871\n",
       "MultiPolygon      17\n",
       "dtype: int64"
      ]
     },
     "execution_count": 312,
     "metadata": {},
     "output_type": "execute_result"
    }
   ],
   "source": [
    "pd.Series([intersection[1].geom_type for intersection in intersections]).value_counts()"
   ]
  },
  {
   "cell_type": "code",
   "execution_count": 42,
   "id": "8bca7004",
   "metadata": {},
   "outputs": [
    {
     "data": {
      "application/vnd.jupyter.widget-view+json": {
       "model_id": "43311d9a3b874929988bb8b6e091537f",
       "version_major": 2,
       "version_minor": 0
      },
      "text/plain": [
       "HBox(children=(HTML(value=''), FloatProgress(value=0.0, max=9889.0), HTML(value='')))"
      ]
     },
     "metadata": {},
     "output_type": "display_data"
    },
    {
     "name": "stdout",
     "output_type": "stream",
     "text": [
      "\n",
      "CPU times: user 21min 53s, sys: 8.65 s, total: 22min 1s\n",
      "Wall time: 22min 12s\n"
     ]
    },
    {
     "data": {
      "text/plain": [
       "True     6750\n",
       "False    3139\n",
       "dtype: int64"
      ]
     },
     "execution_count": 42,
     "metadata": {},
     "output_type": "execute_result"
    }
   ],
   "source": [
    "%%time\n",
    "pd.Series([\n",
    "    pd.Series([japan_sg_polygon.contains_point(pt) for pt in sg_polygon._points]).all()\n",
    "    for sg_polygon\n",
    "    in tqdm.notebook.tqdm(sg_polygons)\n",
    "]).value_counts()"
   ]
  },
  {
   "cell_type": "code",
   "execution_count": 93,
   "id": "ebd4aee1",
   "metadata": {},
   "outputs": [
    {
     "data": {
      "application/vnd.jupyter.widget-view+json": {
       "model_id": "3e40f2aabb5643e48e1a9d9fa1878b0d",
       "version_major": 2,
       "version_minor": 0
      },
      "text/plain": [
       "HBox(children=(HTML(value=''), FloatProgress(value=0.0, max=9889.0), HTML(value='')))"
      ]
     },
     "metadata": {},
     "output_type": "display_data"
    },
    {
     "name": "stdout",
     "output_type": "stream",
     "text": [
      "\n"
     ]
    },
    {
     "data": {
      "text/plain": [
       "1425"
      ]
     },
     "execution_count": 93,
     "metadata": {},
     "output_type": "execute_result"
    }
   ],
   "source": [
    "voronoi_edges = set()\n",
    "\n",
    "for sg_polygon,region in tqdm.notebook.tqdm(list(zip(sg_polygons,sv.regions))):\n",
    "#     n = len(region)\n",
    "#     region_points = [sv.vertices[region][i] for i in range(n)]\n",
    "#     region_points = region_points+region_points[0]\n",
    "#     region_points = list(map(tuple,region_points))\n",
    "#     if not pd.Series([japan_sg_polygon.contains_point(pt) for pt in sg_polygon._points]).all():\n",
    "    region_points = sg_polygon.points\n",
    "    for s,e in zip(region_points[:-1],region_points[1:]):\n",
    "        if japan_sg_polygon.contains_point(s)!=japan_sg_polygon.contains_point(e):\n",
    "            voronoi_edges.add(tuple(list(s)+list(e)))\n",
    "len(voronoi_edges)"
   ]
  },
  {
   "cell_type": "code",
   "execution_count": 104,
   "id": "b856a78d",
   "metadata": {},
   "outputs": [
    {
     "data": {
      "application/vnd.jupyter.widget-view+json": {
       "model_id": "43f46b57d4174433b3d8747b149812ee",
       "version_major": 2,
       "version_minor": 0
      },
      "text/plain": [
       "HBox(children=(HTML(value=''), FloatProgress(value=0.0, max=3531150.0), HTML(value='')))"
      ]
     },
     "metadata": {},
     "output_type": "display_data"
    },
    {
     "name": "stdout",
     "output_type": "stream",
     "text": [
      "\n"
     ]
    }
   ],
   "source": [
    "import itertools\n",
    "intersection_vertices = set()\n",
    "for e1,e2 in tqdm.notebook.tqdm(list(itertools.product(zip(japan_sg_polygon.points[:-1],japan_sg_polygon.points[1:]), voronoi_edges))):\n",
    "    e2 = list(e2)\n",
    "    iv = spherical_geometry.great_circle_arc.intersection(*e1,e2[:3],e2[3:])\n",
    "    if not np.isnan(iv).any():\n",
    "        intersection_vertices.add(tuple(iv))\n",
    "#     if len(intersection_vertices)>5:\n",
    "#         break"
   ]
  },
  {
   "cell_type": "code",
   "execution_count": 109,
   "id": "a4372df3",
   "metadata": {},
   "outputs": [
    {
     "data": {
      "application/vnd.jupyter.widget-view+json": {
       "model_id": "cc25ce87fe384b0d81484df70f18bf4b",
       "version_major": 2,
       "version_minor": 0
      },
      "text/plain": [
       "HBox(children=(HTML(value=''), FloatProgress(value=0.0, max=9889.0), HTML(value='')))"
      ]
     },
     "metadata": {},
     "output_type": "display_data"
    },
    {
     "name": "stdout",
     "output_type": "stream",
     "text": [
      "\n"
     ]
    },
    {
     "data": {
      "text/plain": [
       "(6750, 9889)"
      ]
     },
     "execution_count": 109,
     "metadata": {},
     "output_type": "execute_result"
    }
   ],
   "source": [
    "inner_polygons = [\n",
    "    sg_polygon\n",
    "    for sg_polygon\n",
    "    in tqdm.notebook.tqdm(sg_polygons)\n",
    "    if pd.Series([japan_sg_polygon.contains_point(p) for p in sg_polygon.points]).all()\n",
    "]\n",
    "len(inner_polygons),len(sg_polygons)"
   ]
  },
  {
   "cell_type": "code",
   "execution_count": 124,
   "id": "641ffe30",
   "metadata": {},
   "outputs": [
    {
     "data": {
      "text/plain": [
       "True     3771\n",
       "False    2979\n",
       "dtype: int64"
      ]
     },
     "execution_count": 124,
     "metadata": {},
     "output_type": "execute_result"
    }
   ],
   "source": [
    "pd.Series(inner_polygons).apply(lambda p:p.is_clockwise()).value_counts()"
   ]
  },
  {
   "cell_type": "code",
   "execution_count": 130,
   "id": "20886eab",
   "metadata": {},
   "outputs": [
    {
     "data": {
      "text/html": [
       "<div>\n",
       "<style scoped>\n",
       "    .dataframe tbody tr th:only-of-type {\n",
       "        vertical-align: middle;\n",
       "    }\n",
       "\n",
       "    .dataframe tbody tr th {\n",
       "        vertical-align: top;\n",
       "    }\n",
       "\n",
       "    .dataframe thead th {\n",
       "        text-align: right;\n",
       "    }\n",
       "</style>\n",
       "<table border=\"1\" class=\"dataframe\">\n",
       "  <thead>\n",
       "    <tr style=\"text-align: right;\">\n",
       "      <th></th>\n",
       "      <th>0</th>\n",
       "      <th>1</th>\n",
       "      <th>2</th>\n",
       "      <th>3</th>\n",
       "      <th>4</th>\n",
       "      <th>5</th>\n",
       "      <th>6</th>\n",
       "    </tr>\n",
       "  </thead>\n",
       "  <tbody>\n",
       "    <tr>\n",
       "      <th>0</th>\n",
       "      <td>131.050067</td>\n",
       "      <td>130.937112</td>\n",
       "      <td>131.059526</td>\n",
       "      <td>131.059977</td>\n",
       "      <td>131.036295</td>\n",
       "      <td>131.059606</td>\n",
       "      <td>131.050067</td>\n",
       "    </tr>\n",
       "    <tr>\n",
       "      <th>1</th>\n",
       "      <td>34.180206</td>\n",
       "      <td>34.189016</td>\n",
       "      <td>34.200912</td>\n",
       "      <td>34.202548</td>\n",
       "      <td>34.208087</td>\n",
       "      <td>34.205106</td>\n",
       "      <td>34.180206</td>\n",
       "    </tr>\n",
       "  </tbody>\n",
       "</table>\n",
       "</div>"
      ],
      "text/plain": [
       "            0           1           2           3           4           5  \\\n",
       "0  131.050067  130.937112  131.059526  131.059977  131.036295  131.059606   \n",
       "1   34.180206   34.189016   34.200912   34.202548   34.208087   34.205106   \n",
       "\n",
       "            6  \n",
       "0  131.050067  \n",
       "1   34.180206  "
      ]
     },
     "execution_count": 130,
     "metadata": {},
     "output_type": "execute_result"
    }
   ],
   "source": [
    "pd.DataFrame(inner_polygons[0].to_lonlat())"
   ]
  },
  {
   "cell_type": "code",
   "execution_count": 126,
   "id": "670d70a9",
   "metadata": {},
   "outputs": [
    {
     "data": {
      "text/html": [
       "<div>\n",
       "<style scoped>\n",
       "    .dataframe tbody tr th:only-of-type {\n",
       "        vertical-align: middle;\n",
       "    }\n",
       "\n",
       "    .dataframe tbody tr th {\n",
       "        vertical-align: top;\n",
       "    }\n",
       "\n",
       "    .dataframe thead th {\n",
       "        text-align: right;\n",
       "    }\n",
       "</style>\n",
       "<table border=\"1\" class=\"dataframe\">\n",
       "  <thead>\n",
       "    <tr style=\"text-align: right;\">\n",
       "      <th></th>\n",
       "      <th>geojson</th>\n",
       "    </tr>\n",
       "  </thead>\n",
       "  <tbody>\n",
       "    <tr>\n",
       "      <th>0</th>\n",
       "      <td>{\"type\": \"Feature\", \"geometry\": {\"type\": \"Poly...</td>\n",
       "    </tr>\n",
       "    <tr>\n",
       "      <th>1</th>\n",
       "      <td>{\"type\": \"Feature\", \"geometry\": {\"type\": \"Poly...</td>\n",
       "    </tr>\n",
       "    <tr>\n",
       "      <th>2</th>\n",
       "      <td>{\"type\": \"Feature\", \"geometry\": {\"type\": \"Poly...</td>\n",
       "    </tr>\n",
       "    <tr>\n",
       "      <th>3</th>\n",
       "      <td>{\"type\": \"Feature\", \"geometry\": {\"type\": \"Poly...</td>\n",
       "    </tr>\n",
       "    <tr>\n",
       "      <th>4</th>\n",
       "      <td>{\"type\": \"Feature\", \"geometry\": {\"type\": \"Poly...</td>\n",
       "    </tr>\n",
       "    <tr>\n",
       "      <th>...</th>\n",
       "      <td>...</td>\n",
       "    </tr>\n",
       "    <tr>\n",
       "      <th>6745</th>\n",
       "      <td>{\"type\": \"Feature\", \"geometry\": {\"type\": \"Poly...</td>\n",
       "    </tr>\n",
       "    <tr>\n",
       "      <th>6746</th>\n",
       "      <td>{\"type\": \"Feature\", \"geometry\": {\"type\": \"Poly...</td>\n",
       "    </tr>\n",
       "    <tr>\n",
       "      <th>6747</th>\n",
       "      <td>{\"type\": \"Feature\", \"geometry\": {\"type\": \"Poly...</td>\n",
       "    </tr>\n",
       "    <tr>\n",
       "      <th>6748</th>\n",
       "      <td>{\"type\": \"Feature\", \"geometry\": {\"type\": \"Poly...</td>\n",
       "    </tr>\n",
       "    <tr>\n",
       "      <th>6749</th>\n",
       "      <td>{\"type\": \"Feature\", \"geometry\": {\"type\": \"Poly...</td>\n",
       "    </tr>\n",
       "  </tbody>\n",
       "</table>\n",
       "<p>6750 rows × 1 columns</p>\n",
       "</div>"
      ],
      "text/plain": [
       "                                                geojson\n",
       "0     {\"type\": \"Feature\", \"geometry\": {\"type\": \"Poly...\n",
       "1     {\"type\": \"Feature\", \"geometry\": {\"type\": \"Poly...\n",
       "2     {\"type\": \"Feature\", \"geometry\": {\"type\": \"Poly...\n",
       "3     {\"type\": \"Feature\", \"geometry\": {\"type\": \"Poly...\n",
       "4     {\"type\": \"Feature\", \"geometry\": {\"type\": \"Poly...\n",
       "...                                                 ...\n",
       "6745  {\"type\": \"Feature\", \"geometry\": {\"type\": \"Poly...\n",
       "6746  {\"type\": \"Feature\", \"geometry\": {\"type\": \"Poly...\n",
       "6747  {\"type\": \"Feature\", \"geometry\": {\"type\": \"Poly...\n",
       "6748  {\"type\": \"Feature\", \"geometry\": {\"type\": \"Poly...\n",
       "6749  {\"type\": \"Feature\", \"geometry\": {\"type\": \"Poly...\n",
       "\n",
       "[6750 rows x 1 columns]"
      ]
     },
     "execution_count": 126,
     "metadata": {},
     "output_type": "execute_result"
    }
   ],
   "source": [
    "_df = pd.DataFrame([\n",
    "    {\n",
    "        \"geojson\": json.dumps({\n",
    "            \"type\": \"Feature\",\n",
    "            \"geometry\": {\n",
    "                \"type\": \"Polygon\",\n",
    "                \"coordinates\": [list(zip(*p.to_lonlat())) if not p.is_clockwise() else list(zip(*p.to_lonlat()))[::-1]]\n",
    "            }\n",
    "        })\n",
    "    }\n",
    "    for p\n",
    "    in inner_polygons\n",
    "])\n",
    "_df.to_csv(\"/tmp/8b4bdfa2_255a_4a03_a0c1_63aad0faa1c0.csv\",index=None)\n",
    "_df"
   ]
  },
  {
   "cell_type": "code",
   "execution_count": 342,
   "id": "5c62f774",
   "metadata": {},
   "outputs": [
    {
     "data": {
      "text/html": [
       "<div>\n",
       "<style scoped>\n",
       "    .dataframe tbody tr th:only-of-type {\n",
       "        vertical-align: middle;\n",
       "    }\n",
       "\n",
       "    .dataframe tbody tr th {\n",
       "        vertical-align: top;\n",
       "    }\n",
       "\n",
       "    .dataframe thead th {\n",
       "        text-align: right;\n",
       "    }\n",
       "</style>\n",
       "<table border=\"1\" class=\"dataframe\">\n",
       "  <thead>\n",
       "    <tr style=\"text-align: right;\">\n",
       "      <th></th>\n",
       "      <th>cnt</th>\n",
       "      <th>geojson</th>\n",
       "      <th>lat</th>\n",
       "      <th>lon</th>\n",
       "    </tr>\n",
       "  </thead>\n",
       "  <tbody>\n",
       "    <tr>\n",
       "      <th>0</th>\n",
       "      <td>836</td>\n",
       "      <td>{\"type\": \"Feature\", \"geometry\": {\"type\": \"Poly...</td>\n",
       "      <td>34.070063</td>\n",
       "      <td>130.903637</td>\n",
       "    </tr>\n",
       "    <tr>\n",
       "      <th>1</th>\n",
       "      <td>838</td>\n",
       "      <td>{\"type\": \"Feature\", \"geometry\": {\"type\": \"Poly...</td>\n",
       "      <td>34.128040</td>\n",
       "      <td>130.912000</td>\n",
       "    </tr>\n",
       "    <tr>\n",
       "      <th>2</th>\n",
       "      <td>842</td>\n",
       "      <td>{\"type\": \"Feature\", \"geometry\": {\"type\": \"Poly...</td>\n",
       "      <td>34.047270</td>\n",
       "      <td>130.915755</td>\n",
       "    </tr>\n",
       "    <tr>\n",
       "      <th>3</th>\n",
       "      <td>843</td>\n",
       "      <td>{\"type\": \"Feature\", \"geometry\": {\"type\": \"Poly...</td>\n",
       "      <td>34.024892</td>\n",
       "      <td>130.916725</td>\n",
       "    </tr>\n",
       "    <tr>\n",
       "      <th>4</th>\n",
       "      <td>847</td>\n",
       "      <td>{\"type\": \"Feature\", \"geometry\": {\"type\": \"Poly...</td>\n",
       "      <td>33.949150</td>\n",
       "      <td>130.921607</td>\n",
       "    </tr>\n",
       "    <tr>\n",
       "      <th>...</th>\n",
       "      <td>...</td>\n",
       "      <td>...</td>\n",
       "      <td>...</td>\n",
       "      <td>...</td>\n",
       "    </tr>\n",
       "    <tr>\n",
       "      <th>7330</th>\n",
       "      <td>9652</td>\n",
       "      <td>{\"type\": \"Feature\", \"geometry\": {\"type\": \"Poly...</td>\n",
       "      <td>39.619299</td>\n",
       "      <td>141.946367</td>\n",
       "    </tr>\n",
       "    <tr>\n",
       "      <th>7331</th>\n",
       "      <td>9653</td>\n",
       "      <td>{\"type\": \"Feature\", \"geometry\": {\"type\": \"Poly...</td>\n",
       "      <td>39.639895</td>\n",
       "      <td>141.947365</td>\n",
       "    </tr>\n",
       "    <tr>\n",
       "      <th>7332</th>\n",
       "      <td>9654</td>\n",
       "      <td>{\"type\": \"Feature\", \"geometry\": {\"type\": \"Poly...</td>\n",
       "      <td>39.463590</td>\n",
       "      <td>141.951300</td>\n",
       "    </tr>\n",
       "    <tr>\n",
       "      <th>7333</th>\n",
       "      <td>9656</td>\n",
       "      <td>{\"type\": \"Feature\", \"geometry\": {\"type\": \"Poly...</td>\n",
       "      <td>39.447235</td>\n",
       "      <td>141.959440</td>\n",
       "    </tr>\n",
       "    <tr>\n",
       "      <th>7334</th>\n",
       "      <td>9660</td>\n",
       "      <td>{\"type\": \"Feature\", \"geometry\": {\"type\": \"Poly...</td>\n",
       "      <td>39.731850</td>\n",
       "      <td>141.964655</td>\n",
       "    </tr>\n",
       "  </tbody>\n",
       "</table>\n",
       "<p>7335 rows × 4 columns</p>\n",
       "</div>"
      ],
      "text/plain": [
       "       cnt                                            geojson        lat  \\\n",
       "0      836  {\"type\": \"Feature\", \"geometry\": {\"type\": \"Poly...  34.070063   \n",
       "1      838  {\"type\": \"Feature\", \"geometry\": {\"type\": \"Poly...  34.128040   \n",
       "2      842  {\"type\": \"Feature\", \"geometry\": {\"type\": \"Poly...  34.047270   \n",
       "3      843  {\"type\": \"Feature\", \"geometry\": {\"type\": \"Poly...  34.024892   \n",
       "4      847  {\"type\": \"Feature\", \"geometry\": {\"type\": \"Poly...  33.949150   \n",
       "...    ...                                                ...        ...   \n",
       "7330  9652  {\"type\": \"Feature\", \"geometry\": {\"type\": \"Poly...  39.619299   \n",
       "7331  9653  {\"type\": \"Feature\", \"geometry\": {\"type\": \"Poly...  39.639895   \n",
       "7332  9654  {\"type\": \"Feature\", \"geometry\": {\"type\": \"Poly...  39.463590   \n",
       "7333  9656  {\"type\": \"Feature\", \"geometry\": {\"type\": \"Poly...  39.447235   \n",
       "7334  9660  {\"type\": \"Feature\", \"geometry\": {\"type\": \"Poly...  39.731850   \n",
       "\n",
       "             lon  \n",
       "0     130.903637  \n",
       "1     130.912000  \n",
       "2     130.915755  \n",
       "3     130.916725  \n",
       "4     130.921607  \n",
       "...          ...  \n",
       "7330  141.946367  \n",
       "7331  141.947365  \n",
       "7332  141.951300  \n",
       "7333  141.959440  \n",
       "7334  141.964655  \n",
       "\n",
       "[7335 rows x 4 columns]"
      ]
     },
     "execution_count": 342,
     "metadata": {},
     "output_type": "execute_result"
    }
   ],
   "source": [
    "_df = pd.DataFrame([\n",
    "    {\n",
    "        \"cnt\": i,\n",
    "        \"geojson\": json.dumps({\n",
    "            \"type\": \"Feature\",\n",
    "            \"geometry\": {\n",
    "                \"type\": p.geom_type,\n",
    "                \"coordinates\": [\n",
    "                    [\n",
    "                        [lon,lat]\n",
    "                        for lon,lat\n",
    "                        in zip(*pp.exterior.coords.xy)\n",
    "                    ]\n",
    "                    for pp\n",
    "                    in ([p] if p.geom_type==\"Polygon\" else p.geoms)\n",
    "                    if len(pp.exterior.coords)>0\n",
    "                ]\n",
    "            }\n",
    "        }),\n",
    "        **{\n",
    "            k:v\n",
    "            for k,v\n",
    "            in zip([\"lat\",\"lon\"],map(lambda x:float(np.array(x.to(\"degree\"))),astropy.coordinates.cartesian_to_spherical(*sv.points[i])[1:]))\n",
    "        }\n",
    "    }\n",
    "    for i, p\n",
    "    in intersections\n",
    "    if sum(map(lambda p:len(p.exterior.coords),[p] if p.geom_type==\"Polygon\" else p.geoms))>0\n",
    "])\n",
    "_df.to_csv(\"/tmp/e623adc7_61c4_409d_ad8d_25939e5d94f6.csv\", index=None)\n",
    "# _df.geojson.iloc[0]\n",
    "_df"
   ]
  }
 ],
 "metadata": {
  "kernelspec": {
   "display_name": "Python 3",
   "language": "python",
   "name": "python3"
  },
  "language_info": {
   "codemirror_mode": {
    "name": "ipython",
    "version": 3
   },
   "file_extension": ".py",
   "mimetype": "text/x-python",
   "name": "python",
   "nbconvert_exporter": "python",
   "pygments_lexer": "ipython3",
   "version": "3.9.1"
  }
 },
 "nbformat": 4,
 "nbformat_minor": 5
}
