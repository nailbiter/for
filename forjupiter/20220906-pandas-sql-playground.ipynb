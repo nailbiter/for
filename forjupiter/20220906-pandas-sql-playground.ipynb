{
 "cells": [
  {
   "cell_type": "code",
   "execution_count": 10,
   "id": "bd52504f-916e-4d09-9bff-9c42ee5b29c5",
   "metadata": {},
   "outputs": [],
   "source": [
    "import pandas as pd\n",
    "import numpy as np\n",
    "from sqlalchemy import create_engine, text\n",
    "import sqlalchemy\n",
    "import string"
   ]
  },
  {
   "cell_type": "code",
   "execution_count": 19,
   "id": "1ab63af6-9576-44e0-8c2f-bd32ba674e23",
   "metadata": {},
   "outputs": [
    {
     "data": {
      "text/html": [
       "<div>\n",
       "<style scoped>\n",
       "    .dataframe tbody tr th:only-of-type {\n",
       "        vertical-align: middle;\n",
       "    }\n",
       "\n",
       "    .dataframe tbody tr th {\n",
       "        vertical-align: top;\n",
       "    }\n",
       "\n",
       "    .dataframe thead th {\n",
       "        text-align: right;\n",
       "    }\n",
       "</style>\n",
       "<table border=\"1\" class=\"dataframe\">\n",
       "  <thead>\n",
       "    <tr style=\"text-align: right;\">\n",
       "      <th></th>\n",
       "      <th>F</th>\n",
       "      <th>G</th>\n",
       "      <th>H</th>\n",
       "      <th>I</th>\n",
       "      <th>J</th>\n",
       "    </tr>\n",
       "  </thead>\n",
       "  <tbody>\n",
       "    <tr>\n",
       "      <th>0</th>\n",
       "      <td>0.098206</td>\n",
       "      <td>-0.064108</td>\n",
       "      <td>0.951791</td>\n",
       "      <td>1.532831</td>\n",
       "      <td>0.686847</td>\n",
       "    </tr>\n",
       "    <tr>\n",
       "      <th>1</th>\n",
       "      <td>1.011544</td>\n",
       "      <td>-0.217404</td>\n",
       "      <td>0.125405</td>\n",
       "      <td>1.485732</td>\n",
       "      <td>0.526711</td>\n",
       "    </tr>\n",
       "    <tr>\n",
       "      <th>2</th>\n",
       "      <td>-0.242030</td>\n",
       "      <td>0.032551</td>\n",
       "      <td>1.037151</td>\n",
       "      <td>1.126227</td>\n",
       "      <td>-0.842131</td>\n",
       "    </tr>\n",
       "    <tr>\n",
       "      <th>3</th>\n",
       "      <td>0.362591</td>\n",
       "      <td>-0.007843</td>\n",
       "      <td>-0.065536</td>\n",
       "      <td>1.330308</td>\n",
       "      <td>-0.237538</td>\n",
       "    </tr>\n",
       "    <tr>\n",
       "      <th>4</th>\n",
       "      <td>-0.575577</td>\n",
       "      <td>-0.814991</td>\n",
       "      <td>-0.174547</td>\n",
       "      <td>-0.735246</td>\n",
       "      <td>-0.864782</td>\n",
       "    </tr>\n",
       "  </tbody>\n",
       "</table>\n",
       "</div>"
      ],
      "text/plain": [
       "          F         G         H         I         J\n",
       "0  0.098206 -0.064108  0.951791  1.532831  0.686847\n",
       "1  1.011544 -0.217404  0.125405  1.485732  0.526711\n",
       "2 -0.242030  0.032551  1.037151  1.126227 -0.842131\n",
       "3  0.362591 -0.007843 -0.065536  1.330308 -0.237538\n",
       "4 -0.575577 -0.814991 -0.174547 -0.735246 -0.864782"
      ]
     },
     "execution_count": 19,
     "metadata": {},
     "output_type": "execute_result"
    }
   ],
   "source": [
    "np.random.seed(42)\n",
    "df1 = pd.DataFrame(np.random.randn(10000,5),columns=list(string.ascii_uppercase[:5]))\n",
    "df1.head()\n",
    "df2 = pd.DataFrame(np.random.randn(10000,5),columns=list(string.ascii_uppercase[5:10]))\n",
    "df2.head()"
   ]
  },
  {
   "cell_type": "code",
   "execution_count": 7,
   "id": "a02bd0fc-f0c3-4202-a186-e5127b579f35",
   "metadata": {},
   "outputs": [],
   "source": [
    "engine = create_engine(\"sqlite+pysqlite:///:memory:\", echo=True, future=True)"
   ]
  },
  {
   "cell_type": "code",
   "execution_count": 20,
   "id": "f439e30c-7bf0-40e3-905c-ab54dcdd2a9e",
   "metadata": {},
   "outputs": [
    {
     "name": "stdout",
     "output_type": "stream",
     "text": [
      "2022-09-06 23:33:32,910 INFO sqlalchemy.engine.Engine BEGIN (implicit)\n",
      "2022-09-06 23:33:32,916 INFO sqlalchemy.engine.Engine PRAGMA main.table_info(\"tn1\")\n",
      "2022-09-06 23:33:32,920 INFO sqlalchemy.engine.Engine [raw sql] ()\n",
      "2022-09-06 23:33:32,923 INFO sqlalchemy.engine.Engine PRAGMA main.table_info(\"tn1\")\n",
      "2022-09-06 23:33:32,924 INFO sqlalchemy.engine.Engine [raw sql] ()\n",
      "2022-09-06 23:33:32,929 INFO sqlalchemy.engine.Engine SELECT name FROM sqlite_master WHERE type='table' ORDER BY name\n",
      "2022-09-06 23:33:32,932 INFO sqlalchemy.engine.Engine [raw sql] ()\n",
      "2022-09-06 23:33:32,935 INFO sqlalchemy.engine.Engine PRAGMA main.table_xinfo(\"tn1\")\n",
      "2022-09-06 23:33:32,936 INFO sqlalchemy.engine.Engine [raw sql] ()\n",
      "2022-09-06 23:33:32,939 INFO sqlalchemy.engine.Engine SELECT sql FROM  (SELECT * FROM sqlite_master UNION ALL   SELECT * FROM sqlite_temp_master) WHERE name = ? AND type = 'table'\n",
      "2022-09-06 23:33:32,940 INFO sqlalchemy.engine.Engine [raw sql] ('tn1',)\n",
      "2022-09-06 23:33:32,942 INFO sqlalchemy.engine.Engine PRAGMA main.foreign_key_list(\"tn1\")\n",
      "2022-09-06 23:33:32,947 INFO sqlalchemy.engine.Engine [raw sql] ()\n",
      "2022-09-06 23:33:32,948 INFO sqlalchemy.engine.Engine PRAGMA temp.foreign_key_list(\"tn1\")\n",
      "2022-09-06 23:33:32,949 INFO sqlalchemy.engine.Engine [raw sql] ()\n",
      "2022-09-06 23:33:32,950 INFO sqlalchemy.engine.Engine SELECT sql FROM  (SELECT * FROM sqlite_master UNION ALL   SELECT * FROM sqlite_temp_master) WHERE name = ? AND type = 'table'\n",
      "2022-09-06 23:33:32,951 INFO sqlalchemy.engine.Engine [raw sql] ('tn1',)\n",
      "2022-09-06 23:33:32,953 INFO sqlalchemy.engine.Engine PRAGMA main.index_list(\"tn1\")\n",
      "2022-09-06 23:33:32,954 INFO sqlalchemy.engine.Engine [raw sql] ()\n",
      "2022-09-06 23:33:32,955 INFO sqlalchemy.engine.Engine PRAGMA temp.index_list(\"tn1\")\n",
      "2022-09-06 23:33:32,957 INFO sqlalchemy.engine.Engine [raw sql] ()\n",
      "2022-09-06 23:33:32,959 INFO sqlalchemy.engine.Engine PRAGMA main.index_list(\"tn1\")\n",
      "2022-09-06 23:33:32,965 INFO sqlalchemy.engine.Engine [raw sql] ()\n",
      "2022-09-06 23:33:32,966 INFO sqlalchemy.engine.Engine PRAGMA temp.index_list(\"tn1\")\n",
      "2022-09-06 23:33:32,971 INFO sqlalchemy.engine.Engine [raw sql] ()\n",
      "2022-09-06 23:33:32,973 INFO sqlalchemy.engine.Engine SELECT sql FROM  (SELECT * FROM sqlite_master UNION ALL   SELECT * FROM sqlite_temp_master) WHERE name = ? AND type = 'table'\n",
      "2022-09-06 23:33:32,975 INFO sqlalchemy.engine.Engine [raw sql] ('tn1',)\n",
      "2022-09-06 23:33:32,980 INFO sqlalchemy.engine.Engine \n",
      "DROP TABLE tn1\n",
      "2022-09-06 23:33:32,983 INFO sqlalchemy.engine.Engine [no key 0.00233s] ()\n",
      "2022-09-06 23:33:32,986 INFO sqlalchemy.engine.Engine \n",
      "CREATE TABLE tn1 (\n",
      "\t\"A\" FLOAT, \n",
      "\t\"B\" FLOAT, \n",
      "\t\"C\" FLOAT, \n",
      "\t\"D\" FLOAT, \n",
      "\t\"E\" FLOAT\n",
      ")\n",
      "\n",
      "\n",
      "2022-09-06 23:33:32,987 INFO sqlalchemy.engine.Engine [no key 0.00101s] ()\n",
      "2022-09-06 23:33:33,086 INFO sqlalchemy.engine.Engine INSERT INTO tn1 (\"A\", \"B\", \"C\", \"D\", \"E\") VALUES (?, ?, ?, ?, ?)\n",
      "2022-09-06 23:33:33,088 INFO sqlalchemy.engine.Engine [generated in 0.07343s] ((0.4967141530112327, -0.13826430117118466, 0.6476885381006925, 1.5230298564080254, -0.23415337472333597), (-0.23413695694918055, 1.5792128155073915, 0.7674347291529088, -0.4694743859349521, 0.5425600435859647), (-0.46341769281246226, -0.46572975357025687, 0.24196227156603412, -1.913280244657798, -1.7249178325130328), (-0.5622875292409727, -1.0128311203344238, 0.3142473325952739, -0.9080240755212109, -1.4123037013352915), (1.465648768921554, -0.22577630048653566, 0.06752820468792384, -1.4247481862134568, -0.5443827245251827), (0.11092258970986608, -1.1509935774223028, 0.37569801834567196, -0.600638689918805, -0.2916937497932768), (-0.6017066122293969, 1.8522781845089378, -0.013497224737933921, -1.0577109289559004, 0.822544912103189), (-1.2208436499710222, 0.2088635950047554, -1.9596701238797756, -1.3281860488984305, 0.19686123586912352)  ... displaying 10 of 10000 total bound parameter sets ...  (0.1973894717674763, -0.7381244883245351, -0.3422926627638551, 1.5101203500159368, -2.484975881799891), (0.05679897242686674, -0.024922878521544612, 0.5000848172348585, 0.26521541324255515, 1.515811055274634))\n",
      "2022-09-06 23:33:33,121 INFO sqlalchemy.engine.Engine PRAGMA main.table_info(\"tn2\")\n",
      "2022-09-06 23:33:33,121 INFO sqlalchemy.engine.Engine [raw sql] ()\n",
      "2022-09-06 23:33:33,122 INFO sqlalchemy.engine.Engine PRAGMA main.table_info(\"tn2\")\n",
      "2022-09-06 23:33:33,123 INFO sqlalchemy.engine.Engine [raw sql] ()\n",
      "2022-09-06 23:33:33,125 INFO sqlalchemy.engine.Engine SELECT name FROM sqlite_master WHERE type='table' ORDER BY name\n",
      "2022-09-06 23:33:33,126 INFO sqlalchemy.engine.Engine [raw sql] ()\n",
      "2022-09-06 23:33:33,128 INFO sqlalchemy.engine.Engine PRAGMA main.table_xinfo(\"tn2\")\n",
      "2022-09-06 23:33:33,130 INFO sqlalchemy.engine.Engine [raw sql] ()\n",
      "2022-09-06 23:33:33,132 INFO sqlalchemy.engine.Engine SELECT sql FROM  (SELECT * FROM sqlite_master UNION ALL   SELECT * FROM sqlite_temp_master) WHERE name = ? AND type = 'table'\n",
      "2022-09-06 23:33:33,133 INFO sqlalchemy.engine.Engine [raw sql] ('tn2',)\n",
      "2022-09-06 23:33:33,134 INFO sqlalchemy.engine.Engine PRAGMA main.foreign_key_list(\"tn2\")\n",
      "2022-09-06 23:33:33,135 INFO sqlalchemy.engine.Engine [raw sql] ()\n",
      "2022-09-06 23:33:33,136 INFO sqlalchemy.engine.Engine PRAGMA temp.foreign_key_list(\"tn2\")\n",
      "2022-09-06 23:33:33,137 INFO sqlalchemy.engine.Engine [raw sql] ()\n",
      "2022-09-06 23:33:33,138 INFO sqlalchemy.engine.Engine SELECT sql FROM  (SELECT * FROM sqlite_master UNION ALL   SELECT * FROM sqlite_temp_master) WHERE name = ? AND type = 'table'\n",
      "2022-09-06 23:33:33,139 INFO sqlalchemy.engine.Engine [raw sql] ('tn2',)\n",
      "2022-09-06 23:33:33,141 INFO sqlalchemy.engine.Engine PRAGMA main.index_list(\"tn2\")\n",
      "2022-09-06 23:33:33,141 INFO sqlalchemy.engine.Engine [raw sql] ()\n",
      "2022-09-06 23:33:33,142 INFO sqlalchemy.engine.Engine PRAGMA temp.index_list(\"tn2\")\n",
      "2022-09-06 23:33:33,143 INFO sqlalchemy.engine.Engine [raw sql] ()\n",
      "2022-09-06 23:33:33,145 INFO sqlalchemy.engine.Engine PRAGMA main.index_list(\"tn2\")\n",
      "2022-09-06 23:33:33,146 INFO sqlalchemy.engine.Engine [raw sql] ()\n",
      "2022-09-06 23:33:33,147 INFO sqlalchemy.engine.Engine PRAGMA temp.index_list(\"tn2\")\n",
      "2022-09-06 23:33:33,148 INFO sqlalchemy.engine.Engine [raw sql] ()\n",
      "2022-09-06 23:33:33,149 INFO sqlalchemy.engine.Engine SELECT sql FROM  (SELECT * FROM sqlite_master UNION ALL   SELECT * FROM sqlite_temp_master) WHERE name = ? AND type = 'table'\n",
      "2022-09-06 23:33:33,150 INFO sqlalchemy.engine.Engine [raw sql] ('tn2',)\n",
      "2022-09-06 23:33:33,151 INFO sqlalchemy.engine.Engine \n",
      "DROP TABLE tn2\n",
      "2022-09-06 23:33:33,152 INFO sqlalchemy.engine.Engine [no key 0.00125s] ()\n",
      "2022-09-06 23:33:33,155 INFO sqlalchemy.engine.Engine \n",
      "CREATE TABLE tn2 (\n",
      "\t\"F\" FLOAT, \n",
      "\t\"G\" FLOAT, \n",
      "\t\"H\" FLOAT, \n",
      "\t\"I\" FLOAT, \n",
      "\t\"J\" FLOAT\n",
      ")\n",
      "\n",
      "\n",
      "2022-09-06 23:33:33,157 INFO sqlalchemy.engine.Engine [no key 0.00130s] ()\n",
      "2022-09-06 23:33:33,225 INFO sqlalchemy.engine.Engine INSERT INTO tn2 (\"F\", \"G\", \"H\", \"I\", \"J\") VALUES (?, ?, ?, ?, ?)\n",
      "2022-09-06 23:33:33,225 INFO sqlalchemy.engine.Engine [generated in 0.04951s] ((0.09820614567905703, -0.06410822887660364, 0.951790756019536, 1.5328311414262208, 0.6868469441346166), (1.011543751170463, -0.21740423230641442, 0.12540480613913454, 1.4857320735996398, 0.5267114602582283), (-0.24202987576281562, 0.03255055478737508, 1.03715129030455, 1.126227010324149, -0.8421311416197738), (0.3625912750468706, -0.007842842553311306, -0.06553584810370829, 1.3303079504307158, -0.23753813989392594), (-0.5755771032751217, -0.8149913043685142, -0.17454693120564455, -0.7352462687781551, -0.8647817625390524), (-0.8899701256670944, -0.8305427041067993, -0.7608323890173405, 0.399052721658541, -1.959982522607138), (-0.7017532479835236, -0.10012990735823264, 1.148624620178139, -0.24592703907658375, -0.15332336788267392), (-0.08794670397811996, -1.8236876537777262, 0.6590931009249315, 0.6174215702113746, 0.814496159286673)  ... displaying 10 of 10000 total bound parameter sets ...  (0.6439145054854205, 0.8259254293592239, -0.21336978383421384, 0.214208055364939, 1.3154223867729191), (-0.22522493452090622, -0.5697775451218469, 0.40918507832743084, -0.2110916707698994, 0.12006294082414522))\n",
      "2022-09-06 23:33:33,250 INFO sqlalchemy.engine.Engine COMMIT\n"
     ]
    }
   ],
   "source": [
    "with engine.begin() as conn:\n",
    "    df1.to_sql(\"tn1\",conn,if_exists=\"replace\",index=False)\n",
    "    df2.to_sql(\"tn2\",conn,if_exists=\"replace\",index=False)"
   ]
  },
  {
   "cell_type": "code",
   "execution_count": 21,
   "id": "162bcf51-660f-4ee3-af20-1a8f3bc1f5fb",
   "metadata": {},
   "outputs": [
    {
     "name": "stdout",
     "output_type": "stream",
     "text": [
      "2022-09-06 23:33:40,495 INFO sqlalchemy.engine.Engine BEGIN (implicit)\n",
      "2022-09-06 23:33:40,498 INFO sqlalchemy.engine.Engine \n",
      "    with t as (\n",
      "        select sum(A) s\n",
      "        from tn1\n",
      "    ), t2 as (\n",
      "        select sum(F) s\n",
      "        from tn2\n",
      "    )\n",
      "    select s\n",
      "    from (\n",
      "        select * from t\n",
      "        union all\n",
      "        select * from t2\n",
      "    )\n",
      "    \n",
      "2022-09-06 23:33:40,499 INFO sqlalchemy.engine.Engine [cached since 350s ago] ()\n",
      "2022-09-06 23:33:40,502 INFO sqlalchemy.engine.Engine ROLLBACK\n"
     ]
    },
    {
     "data": {
      "text/html": [
       "<div>\n",
       "<style scoped>\n",
       "    .dataframe tbody tr th:only-of-type {\n",
       "        vertical-align: middle;\n",
       "    }\n",
       "\n",
       "    .dataframe tbody tr th {\n",
       "        vertical-align: top;\n",
       "    }\n",
       "\n",
       "    .dataframe thead th {\n",
       "        text-align: right;\n",
       "    }\n",
       "</style>\n",
       "<table border=\"1\" class=\"dataframe\">\n",
       "  <thead>\n",
       "    <tr style=\"text-align: right;\">\n",
       "      <th></th>\n",
       "      <th>s</th>\n",
       "    </tr>\n",
       "  </thead>\n",
       "  <tbody>\n",
       "    <tr>\n",
       "      <th>0</th>\n",
       "      <td>0.022847</td>\n",
       "    </tr>\n",
       "    <tr>\n",
       "      <th>1</th>\n",
       "      <td>51.698964</td>\n",
       "    </tr>\n",
       "  </tbody>\n",
       "</table>\n",
       "</div>"
      ],
      "text/plain": [
       "           s\n",
       "0   0.022847\n",
       "1  51.698964"
      ]
     },
     "execution_count": 21,
     "metadata": {},
     "output_type": "execute_result"
    }
   ],
   "source": [
    "with engine.connect() as conn:\n",
    "    df = pd.read_sql(text(f\"\"\"\n",
    "    with t as (\n",
    "        select sum(A) s\n",
    "        from tn1\n",
    "    ), t2 as (\n",
    "        select sum(F) s\n",
    "        from tn2\n",
    "    )\n",
    "    select s\n",
    "    from (\n",
    "        select * from t\n",
    "        union all\n",
    "        select * from t2\n",
    "    )\n",
    "    \"\"\"),conn)\n",
    "df"
   ]
  },
  {
   "cell_type": "code",
   "execution_count": 29,
   "id": "baae98a4-cdad-4a36-be6a-ae8ccef5000d",
   "metadata": {},
   "outputs": [
    {
     "data": {
      "text/plain": [
       "True"
      ]
     },
     "execution_count": 29,
     "metadata": {},
     "output_type": "execute_result"
    }
   ],
   "source": [
    "list(df.index)==[0,1]"
   ]
  },
  {
   "cell_type": "code",
   "execution_count": 26,
   "id": "caceb56a-3f08-4ecf-81ed-bde76e80b7cb",
   "metadata": {},
   "outputs": [
    {
     "data": {
      "text/plain": [
       "4.148276000713217e-08"
      ]
     },
     "execution_count": 26,
     "metadata": {},
     "output_type": "execute_result"
    }
   ],
   "source": [
    "np.linalg.norm(df.values-[[2.28467531e-02],\n",
    "       [5.16989643e+01]])"
   ]
  }
 ],
 "metadata": {
  "kernelspec": {
   "display_name": "Python 3 (ipykernel)",
   "language": "python",
   "name": "python3"
  },
  "language_info": {
   "codemirror_mode": {
    "name": "ipython",
    "version": 3
   },
   "file_extension": ".py",
   "mimetype": "text/x-python",
   "name": "python",
   "nbconvert_exporter": "python",
   "pygments_lexer": "ipython3",
   "version": "3.10.6"
  }
 },
 "nbformat": 4,
 "nbformat_minor": 5
}
