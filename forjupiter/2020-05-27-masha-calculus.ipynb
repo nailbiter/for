{
 "cells": [
  {
   "cell_type": "code",
   "execution_count": 20,
   "metadata": {},
   "outputs": [
    {
     "data": {
      "text/latex": [
       "$\\displaystyle 9 - \\frac{5 \\sqrt{5}}{3}$"
      ],
      "text/plain": [
       "9 - 5*sqrt(5)/3"
      ]
     },
     "execution_count": 20,
     "metadata": {},
     "output_type": "execute_result"
    }
   ],
   "source": [
    "from sympy import simplify,integrate, sqrt, diff\n",
    "from sympy.abc import x,y,z\n",
    "import sympy\n",
    "\n",
    "f = 2*y+4*z-x**2-5\n",
    "z = sympy.solve(f,z)[0]\n",
    "# diff(f,x)\n",
    "simplify(integrate(sqrt(1+diff(z,x)**2+diff(z,y)**2),(y,0,2*x),(x,0,2)))"
   ]
  },
  {
   "cell_type": "code",
   "execution_count": 23,
   "metadata": {},
   "outputs": [
    {
     "data": {
      "text/latex": [
       "$\\displaystyle 2 \\int\\limits_{- \\sqrt{3}}^{\\sqrt{3}}\\int\\limits_{- \\sqrt{4 - x^{2}}}^{\\sqrt{4 - x^{2}}} \\sqrt{- \\frac{1}{x^{2} + y^{2} - 4}}\\, dy\\, dx$"
      ],
      "text/plain": [
       "2*Integral(sqrt(-1/(x**2 + y**2 - 4)), (y, -sqrt(4 - x**2), sqrt(4 - x**2)), (x, -sqrt(3), sqrt(3)))"
      ]
     },
     "execution_count": 23,
     "metadata": {},
     "output_type": "execute_result"
    }
   ],
   "source": [
    "# 10\n",
    "from sympy.abc import x,y,z\n",
    "f = x**2+y**2+z**2-4\n",
    "z = -sympy.solve(f,z)[0]\n",
    "simplify(integrate(sqrt(1+diff(z,x)**2+diff(z,y)**2),(y,-sqrt(4-x**2),sqrt(4-x**2)),(x,-sqrt(3),sqrt(3))))"
   ]
  },
  {
   "cell_type": "code",
   "execution_count": 25,
   "metadata": {},
   "outputs": [
    {
     "data": {
      "text/latex": [
       "$\\displaystyle 2 \\pi$"
      ],
      "text/plain": [
       "2*pi"
      ]
     },
     "execution_count": 25,
     "metadata": {},
     "output_type": "execute_result"
    }
   ],
   "source": [
    "from sympy.abc import pi,r\n",
    "2*pi*integrate(r*1/sqrt(4-r**2),(r,0,sqrt(3)))"
   ]
  },
  {
   "cell_type": "code",
   "execution_count": 29,
   "metadata": {},
   "outputs": [
    {
     "data": {
      "text/latex": [
       "$\\displaystyle -16$"
      ],
      "text/plain": [
       "-16"
      ]
     },
     "execution_count": 29,
     "metadata": {},
     "output_type": "execute_result"
    }
   ],
   "source": [
    "# 24\n",
    "from sympy.abc import x,y,z\n",
    "f = sqrt(1-y**2)\n",
    "simplify(16*integrate(sqrt(diff(f,x)**2+diff(f,y)**2+1),(y,-x,-1),(x,0,1)))"
   ]
  }
 ],
 "metadata": {
  "kernelspec": {
   "display_name": "Python 3",
   "language": "python",
   "name": "python3"
  },
  "language_info": {
   "codemirror_mode": {
    "name": "ipython",
    "version": 3
   },
   "file_extension": ".py",
   "mimetype": "text/x-python",
   "name": "python",
   "nbconvert_exporter": "python",
   "pygments_lexer": "ipython3",
   "version": "3.7.7"
  }
 },
 "nbformat": 4,
 "nbformat_minor": 4
}
