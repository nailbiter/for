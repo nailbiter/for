{
 "cells": [
  {
   "cell_type": "code",
   "execution_count": 1,
   "id": "2185156f",
   "metadata": {},
   "outputs": [],
   "source": [
    "%load_ext autoreload\n",
    "%autoreload 1"
   ]
  },
  {
   "cell_type": "code",
   "execution_count": 34,
   "id": "889dda76",
   "metadata": {},
   "outputs": [],
   "source": [
    "# Familiar imports\n",
    "import numpy as np\n",
    "import pandas as pd\n",
    "\n",
    "# For ordinal encoding categorical variables, splitting data\n",
    "from sklearn.preprocessing import OrdinalEncoder\n",
    "from sklearn.model_selection import train_test_split, cross_val_score\n",
    "\n",
    "# For training random forest model\n",
    "from sklearn.ensemble import RandomForestRegressor\n",
    "from sklearn.metrics import mean_squared_error\n",
    "\n",
    "import os\n",
    "from os import path\n",
    "import random\n",
    "# import zipfile\n",
    "import tqdm\n",
    "%aimport common\n",
    "%aimport common_prediction\n",
    "import seaborn as sns\n",
    "import matplotlib.pyplot as plt\n",
    "import xgboost\n",
    "from datetime import datetime, timedelta\n",
    "import itertools\n",
    "import json\n",
    "import functools\n",
    "from IPython.display import HTML\n",
    "import time\n",
    "import logging\n",
    "from IPython.display import display\n",
    "import lightgbm as lgb\n",
    "import optuna\n",
    "import hashlib\n",
    "\n",
    "FN = path.join(os.getcwd(),\"20210817-30-days-ml.ipynb\")\n",
    "STOPFILE_FN = \".optuna.stopfile\""
   ]
  },
  {
   "cell_type": "code",
   "execution_count": 3,
   "id": "5e9f551d",
   "metadata": {},
   "outputs": [],
   "source": [
    "X,y,X_test = common.setup()\n",
    "X_train, X_valid, y_train, y_valid = train_test_split(X, y, random_state=0)"
   ]
  },
  {
   "cell_type": "code",
   "execution_count": 22,
   "id": "ac3bc6ed",
   "metadata": {},
   "outputs": [
    {
     "data": {
      "text/plain": [
       "{'learning_rate': ['float', [0.01, 1], {'log': True}],\n",
       " 'n_estimators': ['int', [30, 5000], {}],\n",
       " 'num_leaves': ['int', [2, 512], {}],\n",
       " 'max_depth': ['int', [-1, 256], {}],\n",
       " 'min_child_samples': ['int', [1, 256], {}],\n",
       " 'max_bin': ['int', [100, 1000], {}],\n",
       " 'subsample': ['float', [0.01, 1], {}],\n",
       " 'subsample_freq': ['int', [0, 10], {}],\n",
       " 'colsample_bytree': ['float', [0.01, 10], {}],\n",
       " 'min_child_weight': ['float', [0.01, 10], {}],\n",
       " 'reg_lambda': ['float', [1e-09, 100], {}],\n",
       " 'reg_alpha': ['float', [1e-09, 100], {}],\n",
       " 'scale_pos_weight': ['float', [1, 500], {}]}"
      ]
     },
     "execution_count": 22,
     "metadata": {},
     "output_type": "execute_result"
    }
   ],
   "source": [
    "search_space"
   ]
  },
  {
   "cell_type": "code",
   "execution_count": 41,
   "id": "9d2f5539",
   "metadata": {},
   "outputs": [
    {
     "name": "stderr",
     "output_type": "stream",
     "text": [
      "\u001b[32m[I 2021-09-01 07:51:04,187]\u001b[0m Using an existing study with name 'study_81bca8344149075688df109cf99954410b9688d75a222e78525b6d9efc71cb17' instead of creating a new one.\u001b[0m\n",
      "/Users/nailbiter/for/forjupiter/kaggle/venv/lib/python3.9/site-packages/optuna/study/study.py:393: FutureWarning: `n_jobs` argument has been deprecated in v2.7.0. This feature will be removed in v4.0.0. See https://github.com/optuna/optuna/releases/tag/v2.7.0.\n",
      "  warnings.warn(\n",
      "/Users/nailbiter/for/forjupiter/kaggle/venv/lib/python3.9/site-packages/optuna/study/_optimize.py:80: UserWarning: Progress bar only supports serial execution (`n_jobs=1`).\n",
      "  warnings.warn(\"Progress bar only supports serial execution (`n_jobs=1`).\")\n",
      "\u001b[32m[I 2021-09-01 07:54:31,226]\u001b[0m Trial 80 finished with value: 0.7178714418556215 and parameters: {'colsample_bytree': 0.13483153032635106, 'learning_rate': 0.07955498103363923, 'max_bin': 684, 'max_depth': 18, 'min_child_samples': 210, 'min_child_weight': 1.5682628389486513, 'n_estimators': 1351, 'num_leaves': 288, 'reg_alpha': 66.59769277663698, 'reg_lambda': 50.15158153415244, 'scale_pos_weight': 445.35553778649677, 'subsample': 0.8999180586605322, 'subsample_freq': 8}. Best is trial 42 with value: 0.7175816006366909.\u001b[0m\n",
      "\u001b[32m[I 2021-09-01 07:56:28,260]\u001b[0m Trial 81 finished with value: 0.7182623457179077 and parameters: {'colsample_bytree': 0.13703249021114994, 'learning_rate': 0.022608505134913682, 'max_bin': 612, 'max_depth': 119, 'min_child_samples': 206, 'min_child_weight': 0.9036550518353899, 'n_estimators': 1967, 'num_leaves': 185, 'reg_alpha': 67.03560899466245, 'reg_lambda': 48.74439983463533, 'scale_pos_weight': 193.83342068868203, 'subsample': 0.8929155034680114, 'subsample_freq': 7}. Best is trial 42 with value: 0.7175816006366909.\u001b[0m\n",
      "\u001b[32m[I 2021-09-01 07:57:34,408]\u001b[0m Trial 82 finished with value: 0.7181120772743244 and parameters: {'colsample_bytree': 0.13467708801718858, 'learning_rate': 0.14580907115462047, 'max_bin': 695, 'max_depth': 36, 'min_child_samples': 209, 'min_child_weight': 0.7089337697834383, 'n_estimators': 1436, 'num_leaves': 478, 'reg_alpha': 66.94196148657942, 'reg_lambda': 50.20792205503861, 'scale_pos_weight': 414.23954476501376, 'subsample': 0.996966191827621, 'subsample_freq': 8}. Best is trial 42 with value: 0.7175816006366909.\u001b[0m\n",
      "\u001b[32m[I 2021-09-01 07:58:06,842]\u001b[0m Trial 83 finished with value: 0.7178670146165939 and parameters: {'colsample_bytree': 0.07692966155793958, 'learning_rate': 0.13877393582358696, 'max_bin': 690, 'max_depth': 5, 'min_child_samples': 211, 'min_child_weight': 1.5447135405961974, 'n_estimators': 1280, 'num_leaves': 290, 'reg_alpha': 71.49418801381222, 'reg_lambda': 50.85145728059386, 'scale_pos_weight': 447.3513901829702, 'subsample': 0.846734756830814, 'subsample_freq': 8}. Best is trial 42 with value: 0.7175816006366909.\u001b[0m\n",
      "\u001b[32m[I 2021-09-01 07:59:27,714]\u001b[0m Trial 84 finished with value: 0.7180137364873774 and parameters: {'colsample_bytree': 0.07393650123387094, 'learning_rate': 0.21302308492602867, 'max_bin': 657, 'max_depth': 7, 'min_child_samples': 248, 'min_child_weight': 1.6147183062167136, 'n_estimators': 1300, 'num_leaves': 407, 'reg_alpha': 71.40659384411211, 'reg_lambda': 56.210998705941954, 'scale_pos_weight': 442.4537382326554, 'subsample': 0.8436281143465697, 'subsample_freq': 9}. Best is trial 42 with value: 0.7175816006366909.\u001b[0m\n",
      "\u001b[32m[I 2021-09-01 08:01:29,475]\u001b[0m Trial 85 finished with value: 0.7176671813358184 and parameters: {'colsample_bytree': 0.09221463738853992, 'learning_rate': 0.07575792694842244, 'max_bin': 772, 'max_depth': 16, 'min_child_samples': 197, 'min_child_weight': 1.4524543304984106, 'n_estimators': 1299, 'num_leaves': 292, 'reg_alpha': 45.73667518736635, 'reg_lambda': 57.15433817233244, 'scale_pos_weight': 445.22251154792895, 'subsample': 0.9454660773681933, 'subsample_freq': 9}. Best is trial 42 with value: 0.7175816006366909.\u001b[0m\n",
      "\u001b[32m[I 2021-09-01 08:04:17,222]\u001b[0m Trial 86 finished with value: 0.7197429150811666 and parameters: {'colsample_bytree': 0.23734561014506217, 'learning_rate': 0.08195300185006295, 'max_bin': 771, 'max_depth': 19, 'min_child_samples': 198, 'min_child_weight': 3.0485292410677762, 'n_estimators': 1066, 'num_leaves': 298, 'reg_alpha': 62.29119135638432, 'reg_lambda': 43.99577449643282, 'scale_pos_weight': 447.16392726531035, 'subsample': 0.9385319631150661, 'subsample_freq': 8}. Best is trial 42 with value: 0.7175816006366909.\u001b[0m\n",
      "\u001b[32m[I 2021-09-01 08:05:40,958]\u001b[0m Trial 88 finished with value: 0.7191785281123335 and parameters: {'colsample_bytree': 0.10166861235981856, 'learning_rate': 0.05605310810760915, 'max_bin': 803, 'max_depth': 5, 'min_child_samples': 219, 'min_child_weight': 2.577339567110153, 'n_estimators': 949, 'num_leaves': 285, 'reg_alpha': 33.35948521467628, 'reg_lambda': 47.636073085634365, 'scale_pos_weight': 478.3437349899229, 'subsample': 0.9773331847551561, 'subsample_freq': 10}. Best is trial 42 with value: 0.7175816006366909.\u001b[0m\n",
      "\u001b[32m[I 2021-09-01 08:06:29,063]\u001b[0m Trial 87 finished with value: 0.7194423710729819 and parameters: {'colsample_bytree': 0.2336384905866993, 'learning_rate': 0.07226897432431298, 'max_bin': 811, 'max_depth': 17, 'min_child_samples': 195, 'min_child_weight': 2.586466305571864, 'n_estimators': 1021, 'num_leaves': 292, 'reg_alpha': 62.57554877331385, 'reg_lambda': 44.88151177785975, 'scale_pos_weight': 469.8558359755468, 'subsample': 0.9441549525883074, 'subsample_freq': 9}. Best is trial 42 with value: 0.7175816006366909.\u001b[0m\n",
      "\u001b[32m[I 2021-09-01 08:07:30,626]\u001b[0m Trial 90 finished with value: 0.7324361036413382 and parameters: {'colsample_bytree': 0.15583555726754209, 'learning_rate': 0.03168771554989453, 'max_bin': 857, 'max_depth': 1, 'min_child_samples': 225, 'min_child_weight': 1.4206289925817095, 'n_estimators': 1568, 'num_leaves': 332, 'reg_alpha': 45.24033008696119, 'reg_lambda': 65.68294549045298, 'scale_pos_weight': 407.64567062513635, 'subsample': 0.919820682487967, 'subsample_freq': 8}. Best is trial 42 with value: 0.7175816006366909.\u001b[0m\n",
      "\u001b[32m[I 2021-09-01 08:10:16,596]\u001b[0m Trial 91 finished with value: 0.719448377339429 and parameters: {'colsample_bytree': 0.28384122388984473, 'learning_rate': 0.048238565504163916, 'max_bin': 718, 'max_depth': 21, 'min_child_samples': 179, 'min_child_weight': 0.3403630542796494, 'n_estimators': 721, 'num_leaves': 314, 'reg_alpha': 78.55527197149134, 'reg_lambda': 59.955373341577896, 'scale_pos_weight': 380.76335971881525, 'subsample': 0.9070031465274233, 'subsample_freq': 9}. Best is trial 42 with value: 0.7175816006366909.\u001b[0m\n",
      "\u001b[32m[I 2021-09-01 08:10:33,022]\u001b[0m Trial 89 finished with value: 0.7192662808327439 and parameters: {'colsample_bytree': 0.29208847841163643, 'learning_rate': 0.06255430352336516, 'max_bin': 840, 'max_depth': 15, 'min_child_samples': 226, 'min_child_weight': 0.2579960054843604, 'n_estimators': 1290, 'num_leaves': 331, 'reg_alpha': 78.8913160561368, 'reg_lambda': 70.24285988337036, 'scale_pos_weight': 496.01987631562895, 'subsample': 0.9136577133347813, 'subsample_freq': 9}. Best is trial 42 with value: 0.7175816006366909.\u001b[0m\n",
      "\u001b[32m[I 2021-09-01 08:12:53,771]\u001b[0m Trial 92 finished with value: 0.7176434888795752 and parameters: {'colsample_bytree': 0.10088798813292696, 'learning_rate': 0.09674597185571844, 'max_bin': 682, 'max_depth': 45, 'min_child_samples': 165, 'min_child_weight': 2.066129268468698, 'n_estimators': 1295, 'num_leaves': 265, 'reg_alpha': 59.13418669024819, 'reg_lambda': 51.73983631797291, 'scale_pos_weight': 424.41020718141857, 'subsample': 0.8031307620728299, 'subsample_freq': 8}. Best is trial 42 with value: 0.7175816006366909.\u001b[0m\n",
      "\u001b[32m[I 2021-09-01 08:16:00,957]\u001b[0m Trial 94 finished with value: 0.7176485255991428 and parameters: {'colsample_bytree': 0.09939651063583643, 'learning_rate': 0.09759240173298506, 'max_bin': 732, 'max_depth': 41, 'min_child_samples': 166, 'min_child_weight': 2.1820977250000064, 'n_estimators': 1493, 'num_leaves': 256, 'reg_alpha': 58.99532606236025, 'reg_lambda': 50.61077615608491, 'scale_pos_weight': 425.39688241838394, 'subsample': 0.8449684450002781, 'subsample_freq': 8}. Best is trial 42 with value: 0.7175816006366909.\u001b[0m\n",
      "\u001b[32m[I 2021-09-01 08:18:47,347]\u001b[0m Trial 93 finished with value: 0.7212432668285068 and parameters: {'colsample_bytree': 0.1253182709444546, 'learning_rate': 0.09433405441558133, 'max_bin': 674, 'max_depth': 45, 'min_child_samples': 185, 'min_child_weight': 2.0839716114299236, 'n_estimators': 4943, 'num_leaves': 248, 'reg_alpha': 59.5268558846231, 'reg_lambda': 50.715086386211404, 'scale_pos_weight': 427.8212713850217, 'subsample': 0.788414397538714, 'subsample_freq': 8}. Best is trial 42 with value: 0.7175816006366909.\u001b[0m\n"
     ]
    },
    {
     "name": "stdout",
     "output_type": "stream",
     "text": [
      "CPU times: user 2h 32min 30s, sys: 48min 12s, total: 3h 20min 42s\n",
      "Wall time: 27min 43s\n"
     ]
    }
   ],
   "source": [
    "%%time\n",
    "\n",
    "with open(\"search_spaces/lgb.json\") as f:\n",
    "          search_space = json.load(f)\n",
    "\n",
    "def objective(trial):\n",
    "    if path.isfile(STOPFILE_FN):\n",
    "        trial.study.stop()\n",
    "        \n",
    "    lgb_params = {\n",
    "        k:getattr(trial,f\"suggest_{e}\")(k,*args,**kwargs)\n",
    "        for k,(e,args,kwargs)\n",
    "        in search_space.items()\n",
    "    }\n",
    "#     lgb_params={}\n",
    "    \n",
    "    model = lgb.LGBMRegressor(**lgb_params,random_state=42)\n",
    "    return np.sqrt(-cross_val_score(model,X,y,cv=5,scoring=\"neg_mean_squared_error\").mean())\n",
    "\n",
    "study = optuna.create_study(\n",
    "    direction=\"minimize\",\n",
    "    storage=\"sqlite:///.optuna.db\",\n",
    "    load_if_exists=True,\n",
    "    \n",
    "    study_name=f\"study_{hashlib.sha256((json.dumps(search_space,sort_keys=True)+'v2').encode()).hexdigest()}\",\n",
    ")\n",
    "study.optimize(\n",
    "    objective, \n",
    "    n_trials=15,\n",
    "    n_jobs=2,\n",
    "    show_progress_bar=True,\n",
    ")\n",
    "xgb_params = study.best_params\n",
    "best_value = study.best_value"
   ]
  },
  {
   "cell_type": "code",
   "execution_count": 14,
   "id": "ec1f98c1",
   "metadata": {},
   "outputs": [
    {
     "data": {
      "text/plain": [
       "0.7247682818971074"
      ]
     },
     "execution_count": 14,
     "metadata": {},
     "output_type": "execute_result"
    }
   ],
   "source": [
    "0.7247682818971074"
   ]
  },
  {
   "cell_type": "code",
   "execution_count": 39,
   "id": "4d604a83",
   "metadata": {},
   "outputs": [],
   "source": [
    "SUBMISSION_DATE = datetime.now()"
   ]
  },
  {
   "cell_type": "code",
   "execution_count": 40,
   "id": "1d317dbb",
   "metadata": {},
   "outputs": [
    {
     "data": {
      "application/vnd.jupyter.widget-view+json": {
       "model_id": "a174468d49c04d658d0e278988ee7ff5",
       "version_major": 2,
       "version_minor": 0
      },
      "text/plain": [
       "  0%|          | 0/2 [00:00<?, ?it/s]"
      ]
     },
     "metadata": {},
     "output_type": "display_data"
    },
    {
     "name": "stderr",
     "output_type": "stream",
     "text": [
      "auto-commit\n"
     ]
    },
    {
     "name": "stdout",
     "output_type": "stream",
     "text": [
      "[master ee495dcb] auto-commit\n",
      " 1 file changed, 194 insertions(+), 35 deletions(-)\n"
     ]
    },
    {
     "name": "stderr",
     "output_type": "stream",
     "text": [
      "remote: \n",
      "remote: GitHub found 7 vulnerabilities on nailbiter/for's default branch (2 high, 5 moderate). To find out more, visit:        \n",
      "remote:      https://github.com/nailbiter/for/security/dependabot        \n",
      "remote: \n",
      "To https://github.com/nailbiter/for.git\n",
      "   4566cb04..ee495dcb  master -> master\n",
      "100%|██████████| 4.69M/4.69M [00:19<00:00, 259kB/s] \n"
     ]
    },
    {
     "name": "stdout",
     "output_type": "stream",
     "text": [
      "Successfully submitted to 30 Days of ML"
     ]
    },
    {
     "name": "stderr",
     "output_type": "stream",
     "text": [
      "auto-commit\n"
     ]
    },
    {
     "name": "stdout",
     "output_type": "stream",
     "text": [
      "[master 3aba5f46] auto-commit\n",
      " 1 file changed, 12 insertions(+), 38 deletions(-)\n"
     ]
    },
    {
     "name": "stderr",
     "output_type": "stream",
     "text": [
      "remote: \n",
      "remote: GitHub found 7 vulnerabilities on nailbiter/for's default branch (2 high, 5 moderate). To find out more, visit:        \n",
      "remote:      https://github.com/nailbiter/for/security/dependabot        \n",
      "remote: \n",
      "To https://github.com/nailbiter/for.git\n",
      "   ee495dcb..3aba5f46  master -> master\n",
      "100%|██████████| 4.69M/4.69M [00:19<00:00, 258kB/s] \n"
     ]
    },
    {
     "name": "stdout",
     "output_type": "stream",
     "text": [
      "Successfully submitted to 30 Days of ML"
     ]
    },
    {
     "ename": "NameError",
     "evalue": "name 'webbrowser' is not defined",
     "output_type": "error",
     "traceback": [
      "\u001b[0;31m---------------------------------------------------------------------------\u001b[0m",
      "\u001b[0;31mNameError\u001b[0m                                 Traceback (most recent call last)",
      "\u001b[0;32m<timed exec>\u001b[0m in \u001b[0;36m<module>\u001b[0;34m\u001b[0m\n",
      "\u001b[0;31mNameError\u001b[0m: name 'webbrowser' is not defined"
     ]
    }
   ],
   "source": [
    "%%time\n",
    "# here we use the fact that xgboost is deterministic, cf. https://www.kaggle.com/devinanzelmo/done-done-2-more-efficient\n",
    "model = lgb.LGBMRegressor(**xgb_params)\n",
    "_PREDICTION_MODES = common_prediction.get_prediction_methods()\n",
    "\n",
    "for tag,pm in tqdm.notebook.tqdm(list(_PREDICTION_MODES.items())):\n",
    "    pred_df = pm(model,X,y,X_train,y_train,X_valid,y_valid,X_test)\n",
    "    pred_fn = f\".tmp/predictions_{tag}_{SUBMISSION_DATE.strftime('%Y%m%d')}_optuna.csv\"\n",
    "    pred_df.to_csv(pred_fn,index=None)\n",
    "    common.submit_prediction(\n",
    "        pred_fn,\n",
    "        competition_name=\"30-days-of-ml\",\n",
    "        notebook_fn=FN,\n",
    "        mse=best_value,\n",
    "        suff=tag,\n",
    "    )\n",
    "\n",
    "_URL = \"https://www.kaggle.com/c/30-days-of-ml/submissions\"\n",
    "_URL\n",
    "webbrowser.get(\"firefox\").open(_URL)"
   ]
  },
  {
   "cell_type": "code",
   "execution_count": 27,
   "id": "f923e489",
   "metadata": {},
   "outputs": [
    {
     "name": "stdout",
     "output_type": "stream",
     "text": [
      "date: 2021-08-21 00:00:00\n",
      "CPU times: user 1.54 s, sys: 175 ms, total: 1.71 s\n",
      "Wall time: 1.73 s\n"
     ]
    },
    {
     "data": {
      "text/html": [
       "<div>\n",
       "<style scoped>\n",
       "    .dataframe tbody tr th:only-of-type {\n",
       "        vertical-align: middle;\n",
       "    }\n",
       "\n",
       "    .dataframe tbody tr th {\n",
       "        vertical-align: top;\n",
       "    }\n",
       "\n",
       "    .dataframe thead th {\n",
       "        text-align: right;\n",
       "    }\n",
       "</style>\n",
       "<table border=\"1\" class=\"dataframe\">\n",
       "  <thead>\n",
       "    <tr style=\"text-align: right;\">\n",
       "      <th></th>\n",
       "      <th>n_estimators</th>\n",
       "      <th>learning_rate</th>\n",
       "      <th>max_depth</th>\n",
       "    </tr>\n",
       "  </thead>\n",
       "  <tbody>\n",
       "    <tr>\n",
       "      <th>0</th>\n",
       "      <td>NaN</td>\n",
       "      <td>NaN</td>\n",
       "      <td>NaN</td>\n",
       "    </tr>\n",
       "    <tr>\n",
       "      <th>1</th>\n",
       "      <td>646.0</td>\n",
       "      <td>0.039811</td>\n",
       "      <td>2.0</td>\n",
       "    </tr>\n",
       "    <tr>\n",
       "      <th>2</th>\n",
       "      <td>793.0</td>\n",
       "      <td>0.436516</td>\n",
       "      <td>13.0</td>\n",
       "    </tr>\n",
       "    <tr>\n",
       "      <th>3</th>\n",
       "      <td>631.0</td>\n",
       "      <td>0.162181</td>\n",
       "      <td>2.0</td>\n",
       "    </tr>\n",
       "    <tr>\n",
       "      <th>4</th>\n",
       "      <td>602.0</td>\n",
       "      <td>0.758578</td>\n",
       "      <td>8.0</td>\n",
       "    </tr>\n",
       "    <tr>\n",
       "      <th>...</th>\n",
       "      <td>...</td>\n",
       "      <td>...</td>\n",
       "      <td>...</td>\n",
       "    </tr>\n",
       "    <tr>\n",
       "      <th>115</th>\n",
       "      <td>659.0</td>\n",
       "      <td>0.549541</td>\n",
       "      <td>3.0</td>\n",
       "    </tr>\n",
       "    <tr>\n",
       "      <th>116</th>\n",
       "      <td>541.0</td>\n",
       "      <td>0.029512</td>\n",
       "      <td>24.0</td>\n",
       "    </tr>\n",
       "    <tr>\n",
       "      <th>117</th>\n",
       "      <td>663.0</td>\n",
       "      <td>0.002291</td>\n",
       "      <td>12.0</td>\n",
       "    </tr>\n",
       "    <tr>\n",
       "      <th>118</th>\n",
       "      <td>731.0</td>\n",
       "      <td>0.005012</td>\n",
       "      <td>8.0</td>\n",
       "    </tr>\n",
       "    <tr>\n",
       "      <th>119</th>\n",
       "      <td>744.0</td>\n",
       "      <td>0.077625</td>\n",
       "      <td>7.0</td>\n",
       "    </tr>\n",
       "  </tbody>\n",
       "</table>\n",
       "<p>120 rows × 3 columns</p>\n",
       "</div>"
      ],
      "text/plain": [
       "     n_estimators  learning_rate  max_depth\n",
       "0             NaN            NaN        NaN\n",
       "1           646.0       0.039811        2.0\n",
       "2           793.0       0.436516       13.0\n",
       "3           631.0       0.162181        2.0\n",
       "4           602.0       0.758578        8.0\n",
       "..            ...            ...        ...\n",
       "115         659.0       0.549541        3.0\n",
       "116         541.0       0.029512       24.0\n",
       "117         663.0       0.002291       12.0\n",
       "118         731.0       0.005012        8.0\n",
       "119         744.0       0.077625        7.0\n",
       "\n",
       "[120 rows x 3 columns]"
      ]
     },
     "execution_count": 27,
     "metadata": {},
     "output_type": "execute_result"
    }
   ],
   "source": [
    "%%time\n",
    "HYPERPARAMETER_SPACE = {\n",
    "    k:list(v)\n",
    "    for k,v\n",
    "    in {\n",
    "#         \"n_estimators\":range(500,1500),\n",
    "        \"n_estimators\":range(500,800),\n",
    "        \"learning_rate\":[np.power(10.0,-i) for i in np.arange(0.1,3+1.0e-10,0.01)],\n",
    "        \"max_depth\":range(2,25),\n",
    "#         \"objective\":[\"reg:squarederror\",None,\"reg:squaredlogerror\",],\n",
    "    }.items()\n",
    "}\n",
    "\n",
    "_SELECTION_SIZE = 120\n",
    "random.seed(FN)\n",
    "MODEL_HYPERPARAMETERS = [{}]+random.choices(\n",
    "    [\n",
    "        {k:v for k,v in zip(HYPERPARAMETER_SPACE.keys(),t) if v is not None} \n",
    "        for t \n",
    "        in itertools.product(*HYPERPARAMETER_SPACE.values())\n",
    "    ],\n",
    "    k=_SELECTION_SIZE-1,\n",
    ")\n",
    "assert len(set(map(functools.partial(json.dumps,sort_keys=True),MODEL_HYPERPARAMETERS)))==_SELECTION_SIZE\n",
    "# SUBMISSION_DATE = datetime.now()\n",
    "SUBMISSION_DATE = datetime(2021,8,21)\n",
    "print(f\"date: {SUBMISSION_DATE}\")\n",
    "# MODEL_HYPERPARAMETERS\n",
    "pd.DataFrame(MODEL_HYPERPARAMETERS)"
   ]
  },
  {
   "cell_type": "code",
   "execution_count": 28,
   "id": "965f8b08",
   "metadata": {},
   "outputs": [
    {
     "name": "stderr",
     "output_type": "stream",
     "text": [
      "<timed exec>:6: TqdmDeprecationWarning: This function will be removed in tqdm==5.0.0\n",
      "Please use `tqdm.notebook.tqdm` instead of `tqdm.tqdm_notebook`\n"
     ]
    },
    {
     "data": {
      "application/vnd.jupyter.widget-view+json": {
       "model_id": "600c2cc6f46841d4a99970fcc1a2fd4e",
       "version_major": 2,
       "version_minor": 0
      },
      "text/plain": [
       "  0%|          | 0/120 [00:00<?, ?it/s]"
      ]
     },
     "metadata": {},
     "output_type": "display_data"
    },
    {
     "name": "stderr",
     "output_type": "stream",
     "text": [
      "WARNING:root:stopping on iteration 17 because stopfile exists\n"
     ]
    },
    {
     "name": "stdout",
     "output_type": "stream",
     "text": [
      "CPU times: user 1d 1h 2min 23s, sys: 12min 39s, total: 1d 1h 15min 2s\n",
      "Wall time: 3h 48min 27s\n"
     ]
    },
    {
     "data": {
      "text/html": [
       "<table border=\"1\" class=\"dataframe\">\n",
       "  <thead>\n",
       "    <tr style=\"text-align: right;\">\n",
       "      <th></th>\n",
       "      <th>i</th>\n",
       "      <th>mse</th>\n",
       "      <th>hp</th>\n",
       "      <th>tictoc</th>\n",
       "    </tr>\n",
       "  </thead>\n",
       "  <tbody>\n",
       "    <tr>\n",
       "      <th>10</th>\n",
       "      <td>10</td>\n",
       "      <td>0.723289</td>\n",
       "      <td>{'n_estimators': 733, 'learning_rate': 0.06760829753919825, 'max_depth': 5}</td>\n",
       "      <td>0 days 00:05:32.312207</td>\n",
       "    </tr>\n",
       "    <tr>\n",
       "      <th>7</th>\n",
       "      <td>7</td>\n",
       "      <td>0.724312</td>\n",
       "      <td>{'n_estimators': 597, 'learning_rate': 0.028183829312644577, 'max_depth': 7}</td>\n",
       "      <td>0 days 00:07:47.909036</td>\n",
       "    </tr>\n",
       "    <tr>\n",
       "      <th>15</th>\n",
       "      <td>15</td>\n",
       "      <td>0.725989</td>\n",
       "      <td>{'n_estimators': 596, 'learning_rate': 0.016982436524617468, 'max_depth': 8}</td>\n",
       "      <td>0 days 00:10:52.748403</td>\n",
       "    </tr>\n",
       "    <tr>\n",
       "      <th>3</th>\n",
       "      <td>3</td>\n",
       "      <td>0.726405</td>\n",
       "      <td>{'n_estimators': 631, 'learning_rate': 0.16218100973589314, 'max_depth': 2}</td>\n",
       "      <td>0 days 00:01:58.183806</td>\n",
       "    </tr>\n",
       "    <tr>\n",
       "      <th>0</th>\n",
       "      <td>0</td>\n",
       "      <td>0.726717</td>\n",
       "      <td>{}</td>\n",
       "      <td>0 days 00:00:52.908324</td>\n",
       "    </tr>\n",
       "    <tr>\n",
       "      <th>11</th>\n",
       "      <td>11</td>\n",
       "      <td>0.728550</td>\n",
       "      <td>{'n_estimators': 762, 'learning_rate': 0.21379620895022336, 'max_depth': 8}</td>\n",
       "      <td>0 days 00:06:39.660966</td>\n",
       "    </tr>\n",
       "    <tr>\n",
       "      <th>1</th>\n",
       "      <td>1</td>\n",
       "      <td>0.731440</td>\n",
       "      <td>{'n_estimators': 646, 'learning_rate': 0.039810717055349776, 'max_depth': 2}</td>\n",
       "      <td>0 days 00:02:27.322001</td>\n",
       "    </tr>\n",
       "    <tr>\n",
       "      <th>8</th>\n",
       "      <td>8</td>\n",
       "      <td>0.736036</td>\n",
       "      <td>{'n_estimators': 661, 'learning_rate': 0.007244359600749913, 'max_depth': 17}</td>\n",
       "      <td>0 days 00:21:27.145664</td>\n",
       "    </tr>\n",
       "    <tr>\n",
       "      <th>12</th>\n",
       "      <td>12</td>\n",
       "      <td>0.736137</td>\n",
       "      <td>{'n_estimators': 797, 'learning_rate': 0.02089296130854043, 'max_depth': 19}</td>\n",
       "      <td>0 days 00:23:54.400328</td>\n",
       "    </tr>\n",
       "    <tr>\n",
       "      <th>16</th>\n",
       "      <td>16</td>\n",
       "      <td>0.737737</td>\n",
       "      <td>{'n_estimators': 672, 'learning_rate': 0.01513561248436211, 'max_depth': 21}</td>\n",
       "      <td>0 days 00:35:32.991651</td>\n",
       "    </tr>\n",
       "    <tr>\n",
       "      <th>4</th>\n",
       "      <td>4</td>\n",
       "      <td>0.738545</td>\n",
       "      <td>{'n_estimators': 602, 'learning_rate': 0.7585775750291838, 'max_depth': 8}</td>\n",
       "      <td>0 days 00:05:06.952145</td>\n",
       "    </tr>\n",
       "    <tr>\n",
       "      <th>9</th>\n",
       "      <td>9</td>\n",
       "      <td>0.745393</td>\n",
       "      <td>{'n_estimators': 776, 'learning_rate': 0.4786300923226385, 'max_depth': 11}</td>\n",
       "      <td>0 days 00:09:17.426943</td>\n",
       "    </tr>\n",
       "    <tr>\n",
       "      <th>2</th>\n",
       "      <td>2</td>\n",
       "      <td>0.751586</td>\n",
       "      <td>{'n_estimators': 793, 'learning_rate': 0.4365158322401661, 'max_depth': 13}</td>\n",
       "      <td>0 days 00:11:47.242703</td>\n",
       "    </tr>\n",
       "    <tr>\n",
       "      <th>6</th>\n",
       "      <td>6</td>\n",
       "      <td>0.753106</td>\n",
       "      <td>{'n_estimators': 677, 'learning_rate': 0.13803842646028863, 'max_depth': 20}</td>\n",
       "      <td>0 days 00:16:56.243951</td>\n",
       "    </tr>\n",
       "    <tr>\n",
       "      <th>14</th>\n",
       "      <td>14</td>\n",
       "      <td>0.777562</td>\n",
       "      <td>{'n_estimators': 729, 'learning_rate': 0.005011872336272735, 'max_depth': 24}</td>\n",
       "      <td>0 days 00:39:26.886078</td>\n",
       "    </tr>\n",
       "    <tr>\n",
       "      <th>13</th>\n",
       "      <td>13</td>\n",
       "      <td>0.784742</td>\n",
       "      <td>{'n_estimators': 614, 'learning_rate': 0.41686938347033553, 'max_depth': 19}</td>\n",
       "      <td>0 days 00:09:54.252969</td>\n",
       "    </tr>\n",
       "    <tr>\n",
       "      <th>5</th>\n",
       "      <td>5</td>\n",
       "      <td>1.109670</td>\n",
       "      <td>{'n_estimators': 642, 'learning_rate': 0.0034673685045253236, 'max_depth': 8}</td>\n",
       "      <td>0 days 00:08:49.903621</td>\n",
       "    </tr>\n",
       "  </tbody>\n",
       "</table>"
      ],
      "text/plain": [
       "<IPython.core.display.HTML object>"
      ]
     },
     "execution_count": 28,
     "metadata": {},
     "output_type": "execute_result"
    }
   ],
   "source": [
    "%%time\n",
    "\n",
    "results = []\n",
    "_SCORING_METHOD = \"train_val\"\n",
    "assert _SCORING_METHOD in [\"train_val\",\"cross_val\"]\n",
    "_KWARGS = {\n",
    "#     \"n_jobs\":2,\n",
    "}\n",
    "for i,hp in tqdm.tqdm_notebook(list(enumerate(MODEL_HYPERPARAMETERS))):\n",
    "    if path.isfile(\".stopfile\"):\n",
    "        logging.warning(f\"stopping on iteration {i} because stopfile exists\")\n",
    "        break\n",
    "    features = list(hp.get(\"features\",list(X)))\n",
    "    _X_train,_X_valid,_X_test,_X = X_train[features],X_valid[features],X_test[features],X[features]\n",
    "    _xgb_kwargs = {\n",
    "        k:v \n",
    "        for k,v \n",
    "        in hp.items() \n",
    "        if k not in [\"features\"]\n",
    "    }\n",
    "    model = xgboost.XGBRegressor(**_xgb_kwargs,**_KWARGS)\n",
    "    tic = time.time()\n",
    "    if _SCORING_METHOD==\"cross_val\":\n",
    "        mse = -cross_val_score(\n",
    "            model,\n",
    "            _X,y,\n",
    "            cv=5,\n",
    "            scoring=\"neg_root_mean_squared_error\"\n",
    "        ).mean()\n",
    "#         model = xgboost.XGBRegressor(**_xgb_kwargs,**_KWARGS)\n",
    "        model.fit(_X,y)\n",
    "    elif _SCORING_METHOD==\"train_val\":        \n",
    "        model.fit(\n",
    "            _X_train, y_train,\n",
    "            early_stopping_rounds=5, \n",
    "            eval_set=[(_X_valid, y_valid)],\n",
    "            verbose=False,\n",
    "        )\n",
    "        mse = mean_squared_error(\n",
    "            y_valid,\n",
    "            model.predict(_X_valid),\n",
    "            squared=False\n",
    "        )\n",
    "        predictions = model.predict(_X_test)\n",
    "        pd.DataFrame({\n",
    "            'Id': _X_test.index,\n",
    "            'target': predictions\n",
    "        }).to_csv(f\".tmp/predictions_ot_{SUBMISSION_DATE.strftime('%Y%m%d')}_{i}.csv\",index=None)\n",
    "        model.fit(_X,y)\n",
    "\n",
    "    toc = time.time()\n",
    "\n",
    "    results.append({\"i\":i,\"mse\":mse,\"hp\":hp,\"tictoc\":timedelta(seconds=toc-tic)})\n",
    "    \n",
    "    pd.DataFrame([\n",
    "        {\"feature_name\":feature_name,\"gain\":gain}\n",
    "        for feature_name,gain\n",
    "        in model.get_booster().get_score(importance_type=\"gain\").items()\n",
    "    ]).to_csv(f\".tmp/gain_{SUBMISSION_DATE.strftime('%Y%m%d')}_{i}.csv\",index=None)\n",
    "    predictions = model.predict(_X_test)\n",
    "    pd.DataFrame({'Id': _X_test.index,'target': predictions}).to_csv(f\".tmp/predictions_{SUBMISSION_DATE.strftime('%Y%m%d')}_{i}.csv\",index=None)\n",
    "    \n",
    "common.call_me(\"kaggle done\")\n",
    "\n",
    "HTML(pd.DataFrame(results).sort_values(by=\"mse\").to_html())"
   ]
  },
  {
   "cell_type": "markdown",
   "id": "6770dead",
   "metadata": {},
   "source": [
    "## analysis"
   ]
  },
  {
   "cell_type": "code",
   "execution_count": 30,
   "id": "14a198db",
   "metadata": {},
   "outputs": [
    {
     "data": {
      "text/html": [
       "<div>\n",
       "<style scoped>\n",
       "    .dataframe tbody tr th:only-of-type {\n",
       "        vertical-align: middle;\n",
       "    }\n",
       "\n",
       "    .dataframe tbody tr th {\n",
       "        vertical-align: top;\n",
       "    }\n",
       "\n",
       "    .dataframe thead th {\n",
       "        text-align: right;\n",
       "    }\n",
       "</style>\n",
       "<table border=\"1\" class=\"dataframe\">\n",
       "  <thead>\n",
       "    <tr style=\"text-align: right;\">\n",
       "      <th></th>\n",
       "      <th>i</th>\n",
       "      <th>mse</th>\n",
       "      <th>tictoc</th>\n",
       "      <th>n_estimators</th>\n",
       "      <th>learning_rate</th>\n",
       "      <th>max_depth</th>\n",
       "    </tr>\n",
       "  </thead>\n",
       "  <tbody>\n",
       "    <tr>\n",
       "      <th>10</th>\n",
       "      <td>10</td>\n",
       "      <td>0.723289</td>\n",
       "      <td>0 days 00:05:32.312207</td>\n",
       "      <td>733.0</td>\n",
       "      <td>0.067608</td>\n",
       "      <td>5.0</td>\n",
       "    </tr>\n",
       "    <tr>\n",
       "      <th>7</th>\n",
       "      <td>7</td>\n",
       "      <td>0.724312</td>\n",
       "      <td>0 days 00:07:47.909036</td>\n",
       "      <td>597.0</td>\n",
       "      <td>0.028184</td>\n",
       "      <td>7.0</td>\n",
       "    </tr>\n",
       "    <tr>\n",
       "      <th>15</th>\n",
       "      <td>15</td>\n",
       "      <td>0.725989</td>\n",
       "      <td>0 days 00:10:52.748403</td>\n",
       "      <td>596.0</td>\n",
       "      <td>0.016982</td>\n",
       "      <td>8.0</td>\n",
       "    </tr>\n",
       "    <tr>\n",
       "      <th>3</th>\n",
       "      <td>3</td>\n",
       "      <td>0.726405</td>\n",
       "      <td>0 days 00:01:58.183806</td>\n",
       "      <td>631.0</td>\n",
       "      <td>0.162181</td>\n",
       "      <td>2.0</td>\n",
       "    </tr>\n",
       "    <tr>\n",
       "      <th>0</th>\n",
       "      <td>0</td>\n",
       "      <td>0.726717</td>\n",
       "      <td>0 days 00:00:52.908324</td>\n",
       "      <td>NaN</td>\n",
       "      <td>NaN</td>\n",
       "      <td>NaN</td>\n",
       "    </tr>\n",
       "    <tr>\n",
       "      <th>11</th>\n",
       "      <td>11</td>\n",
       "      <td>0.728550</td>\n",
       "      <td>0 days 00:06:39.660966</td>\n",
       "      <td>762.0</td>\n",
       "      <td>0.213796</td>\n",
       "      <td>8.0</td>\n",
       "    </tr>\n",
       "    <tr>\n",
       "      <th>1</th>\n",
       "      <td>1</td>\n",
       "      <td>0.731440</td>\n",
       "      <td>0 days 00:02:27.322001</td>\n",
       "      <td>646.0</td>\n",
       "      <td>0.039811</td>\n",
       "      <td>2.0</td>\n",
       "    </tr>\n",
       "    <tr>\n",
       "      <th>8</th>\n",
       "      <td>8</td>\n",
       "      <td>0.736036</td>\n",
       "      <td>0 days 00:21:27.145664</td>\n",
       "      <td>661.0</td>\n",
       "      <td>0.007244</td>\n",
       "      <td>17.0</td>\n",
       "    </tr>\n",
       "    <tr>\n",
       "      <th>12</th>\n",
       "      <td>12</td>\n",
       "      <td>0.736137</td>\n",
       "      <td>0 days 00:23:54.400328</td>\n",
       "      <td>797.0</td>\n",
       "      <td>0.020893</td>\n",
       "      <td>19.0</td>\n",
       "    </tr>\n",
       "    <tr>\n",
       "      <th>16</th>\n",
       "      <td>16</td>\n",
       "      <td>0.737737</td>\n",
       "      <td>0 days 00:35:32.991651</td>\n",
       "      <td>672.0</td>\n",
       "      <td>0.015136</td>\n",
       "      <td>21.0</td>\n",
       "    </tr>\n",
       "    <tr>\n",
       "      <th>4</th>\n",
       "      <td>4</td>\n",
       "      <td>0.738545</td>\n",
       "      <td>0 days 00:05:06.952145</td>\n",
       "      <td>602.0</td>\n",
       "      <td>0.758578</td>\n",
       "      <td>8.0</td>\n",
       "    </tr>\n",
       "    <tr>\n",
       "      <th>9</th>\n",
       "      <td>9</td>\n",
       "      <td>0.745393</td>\n",
       "      <td>0 days 00:09:17.426943</td>\n",
       "      <td>776.0</td>\n",
       "      <td>0.478630</td>\n",
       "      <td>11.0</td>\n",
       "    </tr>\n",
       "    <tr>\n",
       "      <th>2</th>\n",
       "      <td>2</td>\n",
       "      <td>0.751586</td>\n",
       "      <td>0 days 00:11:47.242703</td>\n",
       "      <td>793.0</td>\n",
       "      <td>0.436516</td>\n",
       "      <td>13.0</td>\n",
       "    </tr>\n",
       "    <tr>\n",
       "      <th>6</th>\n",
       "      <td>6</td>\n",
       "      <td>0.753106</td>\n",
       "      <td>0 days 00:16:56.243951</td>\n",
       "      <td>677.0</td>\n",
       "      <td>0.138038</td>\n",
       "      <td>20.0</td>\n",
       "    </tr>\n",
       "    <tr>\n",
       "      <th>14</th>\n",
       "      <td>14</td>\n",
       "      <td>0.777562</td>\n",
       "      <td>0 days 00:39:26.886078</td>\n",
       "      <td>729.0</td>\n",
       "      <td>0.005012</td>\n",
       "      <td>24.0</td>\n",
       "    </tr>\n",
       "    <tr>\n",
       "      <th>13</th>\n",
       "      <td>13</td>\n",
       "      <td>0.784742</td>\n",
       "      <td>0 days 00:09:54.252969</td>\n",
       "      <td>614.0</td>\n",
       "      <td>0.416869</td>\n",
       "      <td>19.0</td>\n",
       "    </tr>\n",
       "    <tr>\n",
       "      <th>5</th>\n",
       "      <td>5</td>\n",
       "      <td>1.109670</td>\n",
       "      <td>0 days 00:08:49.903621</td>\n",
       "      <td>642.0</td>\n",
       "      <td>0.003467</td>\n",
       "      <td>8.0</td>\n",
       "    </tr>\n",
       "  </tbody>\n",
       "</table>\n",
       "</div>"
      ],
      "text/plain": [
       "     i       mse                 tictoc  n_estimators  learning_rate  \\\n",
       "10  10  0.723289 0 days 00:05:32.312207         733.0       0.067608   \n",
       "7    7  0.724312 0 days 00:07:47.909036         597.0       0.028184   \n",
       "15  15  0.725989 0 days 00:10:52.748403         596.0       0.016982   \n",
       "3    3  0.726405 0 days 00:01:58.183806         631.0       0.162181   \n",
       "0    0  0.726717 0 days 00:00:52.908324           NaN            NaN   \n",
       "11  11  0.728550 0 days 00:06:39.660966         762.0       0.213796   \n",
       "1    1  0.731440 0 days 00:02:27.322001         646.0       0.039811   \n",
       "8    8  0.736036 0 days 00:21:27.145664         661.0       0.007244   \n",
       "12  12  0.736137 0 days 00:23:54.400328         797.0       0.020893   \n",
       "16  16  0.737737 0 days 00:35:32.991651         672.0       0.015136   \n",
       "4    4  0.738545 0 days 00:05:06.952145         602.0       0.758578   \n",
       "9    9  0.745393 0 days 00:09:17.426943         776.0       0.478630   \n",
       "2    2  0.751586 0 days 00:11:47.242703         793.0       0.436516   \n",
       "6    6  0.753106 0 days 00:16:56.243951         677.0       0.138038   \n",
       "14  14  0.777562 0 days 00:39:26.886078         729.0       0.005012   \n",
       "13  13  0.784742 0 days 00:09:54.252969         614.0       0.416869   \n",
       "5    5  1.109670 0 days 00:08:49.903621         642.0       0.003467   \n",
       "\n",
       "    max_depth  \n",
       "10        5.0  \n",
       "7         7.0  \n",
       "15        8.0  \n",
       "3         2.0  \n",
       "0         NaN  \n",
       "11        8.0  \n",
       "1         2.0  \n",
       "8        17.0  \n",
       "12       19.0  \n",
       "16       21.0  \n",
       "4         8.0  \n",
       "9        11.0  \n",
       "2        13.0  \n",
       "6        20.0  \n",
       "14       24.0  \n",
       "13       19.0  \n",
       "5         8.0  "
      ]
     },
     "execution_count": 30,
     "metadata": {},
     "output_type": "execute_result"
    },
    {
     "data": {
      "image/png": "[encoded data removed]",
      "text/plain": [
       "<Figure size 1440x720 with 1 Axes>"
      ]
     },
     "metadata": {
      "needs_background": "light"
     },
     "output_type": "display_data"
    }
   ],
   "source": [
    "results_df = pd.concat([\n",
    "    pd.DataFrame([\n",
    "        {\n",
    "            **{k:v for k,v in r.items() if k!=\"hp\"}, \n",
    "            **r[\"hp\"],\n",
    "#             \"len_f\":len(r[\"hp\"].get(\"features\",list(X)))/len(list(X))\n",
    "        } \n",
    "        for r \n",
    "        in results\n",
    "    ]),\n",
    "#     pd.read_csv(\".tmp/save.csv\"),\n",
    "],ignore_index=True)\n",
    "\n",
    "plt.subplots(figsize=(20,10))\n",
    "sns.scatterplot(\n",
    "    data=pd.DataFrame({\n",
    "        **results_df,\n",
    "        \"tictoc\":results_df.tictoc.apply(lambda td:td.total_seconds()),\n",
    "        \"-mse\":-results_df.mse\n",
    "    }),\n",
    "    x=\"tictoc\",\n",
    "    y=\"mse\",\n",
    "#     size=\"mse\",\n",
    ")\n",
    "\n",
    "results_df.sort_values(by=\"mse\",ascending=True)"
   ]
  },
  {
   "cell_type": "code",
   "execution_count": 72,
   "id": "9fc01981",
   "metadata": {},
   "outputs": [
    {
     "data": {
      "text/plain": [
       "<seaborn.axisgrid.FacetGrid at 0x1b53cbca0>"
      ]
     },
     "execution_count": 72,
     "metadata": {},
     "output_type": "execute_result"
    },
    {
     "data": {
      "image/png": "[encoded data removed]",
      "text/plain": [
       "<Figure size 1440x720 with 2 Axes>"
      ]
     },
     "metadata": {
      "needs_background": "light"
     },
     "output_type": "display_data"
    }
   ],
   "source": [
    "# _FN = \"n_estimators\"\n",
    "_FN = \"max_depth\"\n",
    "# _FN = \"learning_rate\"\n",
    "_df = results_df.set_index(_FN).loc[:,[\"tictoc\",\"mse\"]]\n",
    "# _df[\"lmse\"] = _df.mse.apply(np.log)\n",
    "_df[\"-mse\"] = -_df.mse\n",
    "_df = _df.drop(columns=[\"mse\"])\n",
    "_df.tictoc = _df.tictoc.apply(lambda td:td.total_seconds())\n",
    "_df = pd.DataFrame(_df.stack()).reset_index().fillna(6)\n",
    "# _df = _df.query(\"learning_rate<=0.5\")\n",
    "_df\n",
    "sns.relplot(data=_df,x=_FN,y=0,row=\"level_1\",aspect=4,kind=\"line\",facet_kws={\"sharey\":False})"
   ]
  },
  {
   "cell_type": "code",
   "execution_count": 45,
   "id": "b237b843",
   "metadata": {},
   "outputs": [
    {
     "name": "stdout",
     "output_type": "stream",
     "text": [
      "(10, 0.7232892135278004)\n"
     ]
    },
    {
     "data": {
      "text/html": [
       "<div>\n",
       "<style scoped>\n",
       "    .dataframe tbody tr th:only-of-type {\n",
       "        vertical-align: middle;\n",
       "    }\n",
       "\n",
       "    .dataframe tbody tr th {\n",
       "        vertical-align: top;\n",
       "    }\n",
       "\n",
       "    .dataframe thead th {\n",
       "        text-align: right;\n",
       "    }\n",
       "</style>\n",
       "<table border=\"1\" class=\"dataframe\">\n",
       "  <thead>\n",
       "    <tr style=\"text-align: right;\">\n",
       "      <th></th>\n",
       "      <th>feature_name</th>\n",
       "      <th>gain</th>\n",
       "    </tr>\n",
       "  </thead>\n",
       "  <tbody>\n",
       "    <tr>\n",
       "      <th>0</th>\n",
       "      <td>cont12</td>\n",
       "      <td>13.874308</td>\n",
       "    </tr>\n",
       "    <tr>\n",
       "      <th>2</th>\n",
       "      <td>cat1</td>\n",
       "      <td>13.240883</td>\n",
       "    </tr>\n",
       "    <tr>\n",
       "      <th>1</th>\n",
       "      <td>cont10</td>\n",
       "      <td>12.538528</td>\n",
       "    </tr>\n",
       "    <tr>\n",
       "      <th>14</th>\n",
       "      <td>cat8</td>\n",
       "      <td>11.396401</td>\n",
       "    </tr>\n",
       "    <tr>\n",
       "      <th>4</th>\n",
       "      <td>cont9</td>\n",
       "      <td>9.908872</td>\n",
       "    </tr>\n",
       "  </tbody>\n",
       "</table>\n",
       "</div>"
      ],
      "text/plain": [
       "   feature_name       gain\n",
       "0        cont12  13.874308\n",
       "2          cat1  13.240883\n",
       "1        cont10  12.538528\n",
       "14         cat8  11.396401\n",
       "4         cont9   9.908872"
      ]
     },
     "metadata": {},
     "output_type": "display_data"
    },
    {
     "name": "stdout",
     "output_type": "stream",
     "text": [
      "(7, 0.7243120981693809)\n"
     ]
    },
    {
     "data": {
      "text/html": [
       "<div>\n",
       "<style scoped>\n",
       "    .dataframe tbody tr th:only-of-type {\n",
       "        vertical-align: middle;\n",
       "    }\n",
       "\n",
       "    .dataframe tbody tr th {\n",
       "        vertical-align: top;\n",
       "    }\n",
       "\n",
       "    .dataframe thead th {\n",
       "        text-align: right;\n",
       "    }\n",
       "</style>\n",
       "<table border=\"1\" class=\"dataframe\">\n",
       "  <thead>\n",
       "    <tr style=\"text-align: right;\">\n",
       "      <th></th>\n",
       "      <th>feature_name</th>\n",
       "      <th>gain</th>\n",
       "    </tr>\n",
       "  </thead>\n",
       "  <tbody>\n",
       "    <tr>\n",
       "      <th>0</th>\n",
       "      <td>cont12</td>\n",
       "      <td>11.433064</td>\n",
       "    </tr>\n",
       "    <tr>\n",
       "      <th>1</th>\n",
       "      <td>cont10</td>\n",
       "      <td>10.337678</td>\n",
       "    </tr>\n",
       "    <tr>\n",
       "      <th>2</th>\n",
       "      <td>cat1</td>\n",
       "      <td>8.768365</td>\n",
       "    </tr>\n",
       "    <tr>\n",
       "      <th>4</th>\n",
       "      <td>cont9</td>\n",
       "      <td>8.162128</td>\n",
       "    </tr>\n",
       "    <tr>\n",
       "      <th>3</th>\n",
       "      <td>cont2</td>\n",
       "      <td>6.845405</td>\n",
       "    </tr>\n",
       "  </tbody>\n",
       "</table>\n",
       "</div>"
      ],
      "text/plain": [
       "  feature_name       gain\n",
       "0       cont12  11.433064\n",
       "1       cont10  10.337678\n",
       "2         cat1   8.768365\n",
       "4        cont9   8.162128\n",
       "3        cont2   6.845405"
      ]
     },
     "metadata": {},
     "output_type": "display_data"
    },
    {
     "name": "stdout",
     "output_type": "stream",
     "text": [
      "(15, 0.7259892080575326)\n"
     ]
    },
    {
     "data": {
      "text/html": [
       "<div>\n",
       "<style scoped>\n",
       "    .dataframe tbody tr th:only-of-type {\n",
       "        vertical-align: middle;\n",
       "    }\n",
       "\n",
       "    .dataframe tbody tr th {\n",
       "        vertical-align: top;\n",
       "    }\n",
       "\n",
       "    .dataframe thead th {\n",
       "        text-align: right;\n",
       "    }\n",
       "</style>\n",
       "<table border=\"1\" class=\"dataframe\">\n",
       "  <thead>\n",
       "    <tr style=\"text-align: right;\">\n",
       "      <th></th>\n",
       "      <th>feature_name</th>\n",
       "      <th>gain</th>\n",
       "    </tr>\n",
       "  </thead>\n",
       "  <tbody>\n",
       "    <tr>\n",
       "      <th>0</th>\n",
       "      <td>cont12</td>\n",
       "      <td>10.181484</td>\n",
       "    </tr>\n",
       "    <tr>\n",
       "      <th>1</th>\n",
       "      <td>cont10</td>\n",
       "      <td>9.048719</td>\n",
       "    </tr>\n",
       "    <tr>\n",
       "      <th>2</th>\n",
       "      <td>cat1</td>\n",
       "      <td>7.995715</td>\n",
       "    </tr>\n",
       "    <tr>\n",
       "      <th>4</th>\n",
       "      <td>cont9</td>\n",
       "      <td>7.151552</td>\n",
       "    </tr>\n",
       "    <tr>\n",
       "      <th>3</th>\n",
       "      <td>cont2</td>\n",
       "      <td>5.924230</td>\n",
       "    </tr>\n",
       "  </tbody>\n",
       "</table>\n",
       "</div>"
      ],
      "text/plain": [
       "  feature_name       gain\n",
       "0       cont12  10.181484\n",
       "1       cont10   9.048719\n",
       "2         cat1   7.995715\n",
       "4        cont9   7.151552\n",
       "3        cont2   5.924230"
      ]
     },
     "metadata": {},
     "output_type": "display_data"
    },
    {
     "name": "stdout",
     "output_type": "stream",
     "text": [
      "(3, 0.7264047970676284)\n"
     ]
    },
    {
     "data": {
      "text/html": [
       "<div>\n",
       "<style scoped>\n",
       "    .dataframe tbody tr th:only-of-type {\n",
       "        vertical-align: middle;\n",
       "    }\n",
       "\n",
       "    .dataframe tbody tr th {\n",
       "        vertical-align: top;\n",
       "    }\n",
       "\n",
       "    .dataframe thead th {\n",
       "        text-align: right;\n",
       "    }\n",
       "</style>\n",
       "<table border=\"1\" class=\"dataframe\">\n",
       "  <thead>\n",
       "    <tr style=\"text-align: right;\">\n",
       "      <th></th>\n",
       "      <th>feature_name</th>\n",
       "      <th>gain</th>\n",
       "    </tr>\n",
       "  </thead>\n",
       "  <tbody>\n",
       "    <tr>\n",
       "      <th>4</th>\n",
       "      <td>cat1</td>\n",
       "      <td>61.409658</td>\n",
       "    </tr>\n",
       "    <tr>\n",
       "      <th>0</th>\n",
       "      <td>cont12</td>\n",
       "      <td>33.551458</td>\n",
       "    </tr>\n",
       "    <tr>\n",
       "      <th>10</th>\n",
       "      <td>cat8</td>\n",
       "      <td>31.248793</td>\n",
       "    </tr>\n",
       "    <tr>\n",
       "      <th>1</th>\n",
       "      <td>cont10</td>\n",
       "      <td>30.478498</td>\n",
       "    </tr>\n",
       "    <tr>\n",
       "      <th>3</th>\n",
       "      <td>cont9</td>\n",
       "      <td>29.342539</td>\n",
       "    </tr>\n",
       "  </tbody>\n",
       "</table>\n",
       "</div>"
      ],
      "text/plain": [
       "   feature_name       gain\n",
       "4          cat1  61.409658\n",
       "0        cont12  33.551458\n",
       "10         cat8  31.248793\n",
       "1        cont10  30.478498\n",
       "3         cont9  29.342539"
      ]
     },
     "metadata": {},
     "output_type": "display_data"
    },
    {
     "name": "stdout",
     "output_type": "stream",
     "text": [
      "(0, 0.726716868557117)\n"
     ]
    },
    {
     "data": {
      "text/html": [
       "<div>\n",
       "<style scoped>\n",
       "    .dataframe tbody tr th:only-of-type {\n",
       "        vertical-align: middle;\n",
       "    }\n",
       "\n",
       "    .dataframe tbody tr th {\n",
       "        vertical-align: top;\n",
       "    }\n",
       "\n",
       "    .dataframe thead th {\n",
       "        text-align: right;\n",
       "    }\n",
       "</style>\n",
       "<table border=\"1\" class=\"dataframe\">\n",
       "  <thead>\n",
       "    <tr style=\"text-align: right;\">\n",
       "      <th></th>\n",
       "      <th>feature_name</th>\n",
       "      <th>gain</th>\n",
       "    </tr>\n",
       "  </thead>\n",
       "  <tbody>\n",
       "    <tr>\n",
       "      <th>0</th>\n",
       "      <td>cont12</td>\n",
       "      <td>13.975204</td>\n",
       "    </tr>\n",
       "    <tr>\n",
       "      <th>1</th>\n",
       "      <td>cont10</td>\n",
       "      <td>12.164709</td>\n",
       "    </tr>\n",
       "    <tr>\n",
       "      <th>4</th>\n",
       "      <td>cont9</td>\n",
       "      <td>9.975306</td>\n",
       "    </tr>\n",
       "    <tr>\n",
       "      <th>2</th>\n",
       "      <td>cat1</td>\n",
       "      <td>9.352026</td>\n",
       "    </tr>\n",
       "    <tr>\n",
       "      <th>12</th>\n",
       "      <td>cat8</td>\n",
       "      <td>9.042032</td>\n",
       "    </tr>\n",
       "  </tbody>\n",
       "</table>\n",
       "</div>"
      ],
      "text/plain": [
       "   feature_name       gain\n",
       "0        cont12  13.975204\n",
       "1        cont10  12.164709\n",
       "4         cont9   9.975306\n",
       "2          cat1   9.352026\n",
       "12         cat8   9.042032"
      ]
     },
     "metadata": {},
     "output_type": "display_data"
    }
   ],
   "source": [
    "_df = results_df.sort_values(by=\"mse\")\n",
    "for best_i,mse in list(zip(_df.i,_df.mse))[:5]:\n",
    "    best_i\n",
    "    gain_df = pd.read_csv(f\".tmp/gain_{SUBMISSION_DATE.strftime('%Y%m%d')}_{best_i}.csv\").sort_values(by=\"gain\",ascending=False)\n",
    "    print((best_i,mse))\n",
    "    display(gain_df.head(5))"
   ]
  },
  {
   "cell_type": "markdown",
   "id": "0b0f20ae",
   "metadata": {},
   "source": [
    "👆 the following features are important\n",
    "\n",
    "cat:\n",
    "1. cat 1\n",
    "1. cat 8\n",
    "1. cat 9\n",
    "\n",
    "cont: (same as with high mi!)\n",
    "1. cont10\n",
    "1. cont12\n",
    "1. cont9\n",
    "1. cont2"
   ]
  },
  {
   "cell_type": "markdown",
   "id": "8108a1aa",
   "metadata": {},
   "source": [
    "## submission"
   ]
  },
  {
   "cell_type": "code",
   "execution_count": 32,
   "id": "f65183d0",
   "metadata": {},
   "outputs": [
    {
     "name": "stdout",
     "output_type": "stream",
     "text": [
      "best_i: 10 => 0.7232892135278004\n"
     ]
    },
    {
     "name": "stderr",
     "output_type": "stream",
     "text": [
      "WARNING:common:auto-commit\n"
     ]
    },
    {
     "name": "stdout",
     "output_type": "stream",
     "text": [
      "[master 64414a6d] auto-commit\n",
      " 1 file changed, 3 insertions(+), 4 deletions(-)\n"
     ]
    },
    {
     "name": "stderr",
     "output_type": "stream",
     "text": [
      "remote: \n",
      "remote: GitHub found 7 vulnerabilities on nailbiter/for's default branch (2 high, 5 moderate). To find out more, visit:        \n",
      "remote:      https://github.com/nailbiter/for/security/dependabot        \n",
      "remote: \n",
      "To https://github.com/nailbiter/for.git\n",
      "   46f270ee..64414a6d  master -> master\n",
      "100%|██████████| 3.01M/3.01M [00:09<00:00, 348kB/s] \n"
     ]
    },
    {
     "name": "stdout",
     "output_type": "stream",
     "text": [
      "Successfully submitted to 30 Days of ML"
     ]
    },
    {
     "name": "stderr",
     "output_type": "stream",
     "text": [
      "100%|██████████| 3.01M/3.01M [00:08<00:00, 386kB/s] \n"
     ]
    },
    {
     "name": "stdout",
     "output_type": "stream",
     "text": [
      "Successfully submitted to 30 Days of ML"
     ]
    }
   ],
   "source": [
    "# Use the model to generate predictions\n",
    "best_i, best_mse = results_df.sort_values(by=\"i\").mse.argmin(), results_df.mse.min()\n",
    "print(f\"best_i: {best_i} => {best_mse}\")\n",
    "for suff in [\"\",\"_ot\"]:\n",
    "    common.submit_prediction(\n",
    "        f\".tmp/predictions{suff}_{SUBMISSION_DATE.strftime('%Y%m%d')}_{best_i}.csv\",\n",
    "        competition_name=\"30-days-of-ml\",\n",
    "        notebook_fn=FN,\n",
    "        mse=best_mse,\n",
    "        suff=suff,\n",
    "    )\n",
    "print(\"https://www.kaggle.com/c/30-days-of-ml/submissions\")"
   ]
  }
 ],
 "metadata": {
  "kernelspec": {
   "display_name": "users.nailbiter.for.forjupiter.kaggle",
   "language": "python",
   "name": "users.nailbiter.for.forjupiter.kaggle"
  },
  "language_info": {
   "codemirror_mode": {
    "name": "ipython",
    "version": 3
   },
   "file_extension": ".py",
   "mimetype": "text/x-python",
   "name": "python",
   "nbconvert_exporter": "python",
   "pygments_lexer": "ipython3",
   "version": "3.9.1"
  }
 },
 "nbformat": 4,
 "nbformat_minor": 5
}
