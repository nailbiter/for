{
 "cells": [
  {
   "cell_type": "code",
   "execution_count": 1,
   "id": "2185156f",
   "metadata": {},
   "outputs": [],
   "source": [
    "%load_ext autoreload\n",
    "%autoreload 1"
   ]
  },
  {
   "cell_type": "code",
   "execution_count": 72,
   "id": "889dda76",
   "metadata": {},
   "outputs": [],
   "source": [
    "# Familiar imports\n",
    "import numpy as np\n",
    "import pandas as pd\n",
    "\n",
    "# For ordinal encoding categorical variables, splitting data\n",
    "from sklearn.preprocessing import OrdinalEncoder\n",
    "from sklearn.model_selection import train_test_split, cross_val_score\n",
    "\n",
    "# For training random forest model\n",
    "from sklearn.ensemble import RandomForestRegressor\n",
    "from sklearn.metrics import mean_squared_error\n",
    "\n",
    "import os\n",
    "from os import path\n",
    "import random\n",
    "# import zipfile\n",
    "import tqdm\n",
    "%aimport common\n",
    "%aimport common_scoring\n",
    "%aimport common_prediction\n",
    "import seaborn as sns\n",
    "import matplotlib.pyplot as plt\n",
    "import xgboost\n",
    "from datetime import datetime, timedelta\n",
    "import itertools\n",
    "import json\n",
    "import functools\n",
    "from IPython.display import HTML\n",
    "import time\n",
    "import logging\n",
    "import optuna\n",
    "import webbrowser\n",
    "\n",
    "FN = path.join(os.getcwd(),\"20210822-optuna\")\n",
    "STOPFILE_FN = \".optuna.stopfile\""
   ]
  },
  {
   "cell_type": "code",
   "execution_count": 3,
   "id": "5e9f551d",
   "metadata": {},
   "outputs": [],
   "source": [
    "X,y,X_test = common.setup()\n",
    "X_train, X_valid, y_train, y_valid = train_test_split(X, y, random_state=0)"
   ]
  },
  {
   "cell_type": "code",
   "execution_count": 66,
   "id": "c0ca9354",
   "metadata": {},
   "outputs": [],
   "source": [
    "SCORINGS = common_scoring.get_scorings()\n",
    "# SUBMISSION_DATE = datetime.now()\n",
    "SUBMISSION_DATE = datetime(2021,8,23)"
   ]
  },
  {
   "cell_type": "code",
   "execution_count": 75,
   "id": "a294c4a4",
   "metadata": {
    "scrolled": false
   },
   "outputs": [
    {
     "name": "stderr",
     "output_type": "stream",
     "text": [
      "\u001b[32m[I 2021-08-24 00:18:53,831]\u001b[0m A new study created in memory with name: no-name-b0db16f9-66a4-4192-97ff-a6fc513d27ce\u001b[0m\n",
      "/Users/nailbiter/for/forjupiter/kaggle/venv/lib/python3.9/site-packages/optuna/progress_bar.py:47: ExperimentalWarning: Progress bar is experimental (supported from v1.2.0). The interface can change in the future.\n",
      "  self._init_valid()\n"
     ]
    },
    {
     "data": {
      "application/vnd.jupyter.widget-view+json": {
       "model_id": "1e220eb15f3148aeaaa06118681d2123",
       "version_major": 2,
       "version_minor": 0
      },
      "text/plain": [
       "  0%|          | 0/16 [00:00<?, ?it/s]"
      ]
     },
     "metadata": {},
     "output_type": "display_data"
    },
    {
     "name": "stdout",
     "output_type": "stream",
     "text": [
      "\u001b[32m[I 2021-08-24 01:33:21,421]\u001b[0m Trial 0 finished with value: 0.7240900809634516 and parameters: {'max_depth': 5, 'learning_rate': 0.042606592517095705, 'n_estimators': 8544, 'min_child_weight': 5, 'colsample_bytree': 0.3888750746930081, 'subsample': 0.6175868235438191, 'reg_alpha': 14.117286252220444, 'reg_lambda': 0.002518788650164608}. Best is trial 0 with value: 0.7240900809634516.\u001b[0m\n",
      "\u001b[32m[I 2021-08-24 01:52:32,342]\u001b[0m Trial 1 finished with value: 5.050510532868337 and parameters: {'max_depth': 8, 'learning_rate': 0.0002007706505253688, 'n_estimators': 2182, 'min_child_weight': 6, 'colsample_bytree': 0.20896020342148686, 'subsample': 0.43687550220355204, 'reg_alpha': 0.012969305595402467, 'reg_lambda': 0.006779718795709784}. Best is trial 0 with value: 0.7240900809634516.\u001b[0m\n",
      "\u001b[32m[I 2021-08-24 03:19:51,695]\u001b[0m Trial 2 finished with value: 4.3196793279973535 and parameters: {'max_depth': 10, 'learning_rate': 0.000138621961590795, 'n_estimators': 4317, 'min_child_weight': 10, 'colsample_bytree': 0.9473152777264005, 'subsample': 0.6336653596192532, 'reg_alpha': 0.0002655173579745564, 'reg_lambda': 0.492471429544989}. Best is trial 0 with value: 0.7240900809634516.\u001b[0m\n",
      "\u001b[32m[I 2021-08-24 03:40:38,429]\u001b[0m Trial 3 finished with value: 0.7365719774697363 and parameters: {'max_depth': 2, 'learning_rate': 0.0010769887295511307, 'n_estimators': 5834, 'min_child_weight': 4, 'colsample_bytree': 0.26377039099216626, 'subsample': 0.8938112348457381, 'reg_alpha': 0.0002973316472541846, 'reg_lambda': 0.004789748957537803}. Best is trial 0 with value: 0.7240900809634516.\u001b[0m\n",
      "\u001b[32m[I 2021-08-24 04:31:41,346]\u001b[0m Trial 4 finished with value: 4.757758174221773 and parameters: {'max_depth': 9, 'learning_rate': 0.0002269642421485361, 'n_estimators': 2199, 'min_child_weight': 7, 'colsample_bytree': 0.5896178284916888, 'subsample': 0.9682987407848058, 'reg_alpha': 0.0018332260018530118, 'reg_lambda': 0.011756553518738036}. Best is trial 0 with value: 0.7240900809634516.\u001b[0m\n",
      "\u001b[32m[I 2021-08-24 05:31:58,343]\u001b[0m Trial 5 finished with value: 0.732021958275921 and parameters: {'max_depth': 9, 'learning_rate': 0.06840317977714991, 'n_estimators': 2196, 'min_child_weight': 4, 'colsample_bytree': 0.8321254587012215, 'subsample': 0.7910836077784074, 'reg_alpha': 0.0008277168317919092, 'reg_lambda': 0.662397835684658}. Best is trial 0 with value: 0.7240900809634516.\u001b[0m\n",
      "\u001b[32m[I 2021-08-24 05:56:35,582]\u001b[0m Trial 6 finished with value: 0.7173354380527115 and parameters: {'max_depth': 2, 'learning_rate': 0.0645638320422743, 'n_estimators': 7339, 'min_child_weight': 7, 'colsample_bytree': 0.20256506964521429, 'subsample': 0.9227187307039812, 'reg_alpha': 3.8337963281743264, 'reg_lambda': 3.34811941621944}. Best is trial 6 with value: 0.7173354380527115.\u001b[0m\n",
      "\u001b[32m[I 2021-08-24 06:50:55,457]\u001b[0m Trial 7 finished with value: 0.7199531335278764 and parameters: {'max_depth': 6, 'learning_rate': 0.003985762370627316, 'n_estimators': 5927, 'min_child_weight': 10, 'colsample_bytree': 0.3634120085721301, 'subsample': 0.7620892798476686, 'reg_alpha': 0.0010314620985272568, 'reg_lambda': 2.723515895788797}. Best is trial 6 with value: 0.7173354380527115.\u001b[0m\n",
      "\u001b[32m[I 2021-08-24 11:33:59,252]\u001b[0m Trial 8 finished with value: 0.7196309846424547 and parameters: {'max_depth': 7, 'learning_rate': 0.0046745342056586725, 'n_estimators': 9066, 'min_child_weight': 4, 'colsample_bytree': 0.8425621074958654, 'subsample': 0.935907520045111, 'reg_alpha': 0.07951679973959565, 'reg_lambda': 0.039444261100912606}. Best is trial 6 with value: 0.7173354380527115.\u001b[0m\n",
      "\u001b[32m[I 2021-08-24 12:26:39,422]\u001b[0m Trial 9 finished with value: 3.164882499176359 and parameters: {'max_depth': 8, 'learning_rate': 0.0003540408030954343, 'n_estimators': 2605, 'min_child_weight': 4, 'colsample_bytree': 0.7020347220992251, 'subsample': 0.6048699697932636, 'reg_alpha': 0.0008938488422327666, 'reg_lambda': 0.00011714883258645616}. Best is trial 6 with value: 0.7173354380527115.\u001b[0m\n",
      "CPU times: user 3d 9h 43min 33s, sys: 35min 26s, total: 3d 10h 19min\n",
      "Wall time: 12h 7min 45s\n"
     ]
    }
   ],
   "source": [
    "%%time\n",
    "#FIXME: cache the results\n",
    "\n",
    "_N_TRIALS = 16\n",
    "# pbar = tqdm.notebook.tqdm(total=_N_TRIALS)\n",
    "_scoring = SCORINGS[\"cross_val\"]\n",
    "\n",
    "    def objective(trial):\n",
    "        if path.isfile(STOPFILE_FN):\n",
    "            trial.study.stop()\n",
    "\n",
    "        xgb_params = dict(\n",
    "            max_depth=trial.suggest_int(\"max_depth\", 2, 10),\n",
    "    #         learning_rate=trial.suggest_float(\"learning_rate\", 1e-4, 1e-1, log=True),\n",
    "            learning_rate=trial.suggest_float(\"learning_rate\", 1e-4, 0.3, log=True),\n",
    "    #         n_estimators=trial.suggest_int(\"n_estimators\", 1000, 8000),\n",
    "            n_estimators=trial.suggest_int(\"n_estimators\", 500, 10000),\n",
    "            min_child_weight=trial.suggest_int(\"min_child_weight\", 1, 10),\n",
    "            colsample_bytree=trial.suggest_float(\"colsample_bytree\", 0.2, 1.0),\n",
    "            subsample=trial.suggest_float(\"subsample\", 0.2, 1.0),\n",
    "            reg_alpha=trial.suggest_float(\"reg_alpha\", 1e-4, 1e2, log=True),\n",
    "            reg_lambda=trial.suggest_float(\"reg_lambda\", 1e-4, 1e2, log=True),\n",
    "        )\n",
    "    #     pbar.update(1)\n",
    "        xgb = xgboost.XGBRegressor(**xgb_params)\n",
    "        return _scoring(xgb,X,y,X_train,y_train,X_valid,y_valid)\n",
    "\n",
    "    study = optuna.create_study(direction=\"minimize\")\n",
    "    study.optimize(\n",
    "        objective, \n",
    "        n_trials=_N_TRIALS,\n",
    "        show_progress_bar=True,\n",
    "    )\n",
    "    xgb_params = study.best_params\n",
    "    best_value = study.best_value"
   ]
  },
  {
   "cell_type": "code",
   "execution_count": 76,
   "id": "a225f331",
   "metadata": {},
   "outputs": [],
   "source": [
    "common.call_me(\"optuna done\")"
   ]
  },
  {
   "cell_type": "markdown",
   "id": "09f0e3be",
   "metadata": {},
   "source": [
    "## prediction"
   ]
  },
  {
   "cell_type": "code",
   "execution_count": 80,
   "id": "b0f33868",
   "metadata": {},
   "outputs": [],
   "source": [
    "with open(\".tmp/optuna_best_params_2021-08-24T03:50:07.419376.json\") as f:\n",
    "    xgb_params = json.load(f)[\"best_params\"]\n",
    "xgb_params;"
   ]
  },
  {
   "cell_type": "code",
   "execution_count": 81,
   "id": "f923e489",
   "metadata": {},
   "outputs": [
    {
     "data": {
      "application/vnd.jupyter.widget-view+json": {
       "model_id": "3e52edf5485d4db0b52ef8ea2782dfe5",
       "version_major": 2,
       "version_minor": 0
      },
      "text/plain": [
       "  0%|          | 0/2 [00:00<?, ?it/s]"
      ]
     },
     "metadata": {},
     "output_type": "display_data"
    },
    {
     "name": "stderr",
     "output_type": "stream",
     "text": [
      "auto-commit\n"
     ]
    },
    {
     "name": "stdout",
     "output_type": "stream",
     "text": [
      "[master 3bc58e67] auto-commit\n",
      " 3 files changed, 57 insertions(+), 83 deletions(-)\n"
     ]
    },
    {
     "name": "stderr",
     "output_type": "stream",
     "text": [
      "remote: \n",
      "remote: GitHub found 7 vulnerabilities on nailbiter/for's default branch (2 high, 5 moderate). To find out more, visit:        \n",
      "remote:      https://github.com/nailbiter/for/security/dependabot        \n",
      "remote: \n",
      "To https://github.com/nailbiter/for.git\n",
      "   39449eb8..3bc58e67  master -> master\n",
      "100%|██████████| 3.01M/3.01M [00:03<00:00, 855kB/s] \n"
     ]
    },
    {
     "name": "stdout",
     "output_type": "stream",
     "text": [
      "Successfully submitted to 30 Days of ML"
     ]
    },
    {
     "name": "stderr",
     "output_type": "stream",
     "text": [
      "auto-commit\n"
     ]
    },
    {
     "name": "stdout",
     "output_type": "stream",
     "text": [
      "[master e8448fb0] auto-commit\n",
      " 1 file changed, 37 insertions(+), 1 deletion(-)\n"
     ]
    },
    {
     "name": "stderr",
     "output_type": "stream",
     "text": [
      "remote: \n",
      "remote: GitHub found 7 vulnerabilities on nailbiter/for's default branch (2 high, 5 moderate). To find out more, visit:        \n",
      "remote:      https://github.com/nailbiter/for/security/dependabot        \n",
      "remote: \n",
      "To https://github.com/nailbiter/for.git\n",
      "   3bc58e67..e8448fb0  master -> master\n",
      "100%|██████████| 3.01M/3.01M [00:05<00:00, 631kB/s] \n"
     ]
    },
    {
     "name": "stdout",
     "output_type": "stream",
     "text": [
      "Successfully submitted to 30 Days of MLCPU times: user 1h 12min 25s, sys: 1min 13s, total: 1h 13min 39s\n",
      "Wall time: 10min 42s\n"
     ]
    },
    {
     "data": {
      "text/plain": [
       "True"
      ]
     },
     "execution_count": 81,
     "metadata": {},
     "output_type": "execute_result"
    }
   ],
   "source": [
    "%%time\n",
    "# here we use the fact that xgboost is deterministic, cf. https://www.kaggle.com/devinanzelmo/done-done-2-more-efficient\n",
    "model = xgboost.XGBRegressor(**xgb_params)\n",
    "_PREDICTION_MODES = common_prediction.get_prediction_methods()\n",
    "\n",
    "for tag,pm in tqdm.notebook.tqdm(list(_PREDICTION_MODES.items())):\n",
    "    pred_df = pm(model,X,y,X_train,y_train,X_valid,y_valid,X_test)\n",
    "    pred_fn = f\".tmp/predictions_{tag}_{SUBMISSION_DATE.strftime('%Y%m%d')}_optuna.csv\"\n",
    "    pred_df.to_csv(pred_fn,index=None)\n",
    "    common.submit_prediction(\n",
    "        pred_fn,\n",
    "        competition_name=\"30-days-of-ml\",\n",
    "        notebook_fn=FN,\n",
    "        mse=best_value,\n",
    "        suff=tag,\n",
    "    )\n",
    "\n",
    "_URL = \"https://www.kaggle.com/c/30-days-of-ml/submissions\"\n",
    "_URL\n",
    "webbrowser.get(\"firefox\").open(_URL)"
   ]
  },
  {
   "cell_type": "code",
   "execution_count": 74,
   "id": "3c003c8a",
   "metadata": {},
   "outputs": [],
   "source": [
    "common.call_me(\"submission done\")"
   ]
  }
 ],
 "metadata": {
  "kernelspec": {
   "display_name": "users.nailbiter.for.forjupiter.kaggle",
   "language": "python",
   "name": "users.nailbiter.for.forjupiter.kaggle"
  },
  "language_info": {
   "codemirror_mode": {
    "name": "ipython",
    "version": 3
   },
   "file_extension": ".py",
   "mimetype": "text/x-python",
   "name": "python",
   "nbconvert_exporter": "python",
   "pygments_lexer": "ipython3",
   "version": "3.9.1"
  }
 },
 "nbformat": 4,
 "nbformat_minor": 5
}
