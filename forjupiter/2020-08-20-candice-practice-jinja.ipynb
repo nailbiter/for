{
 "cells": [
  {
   "cell_type": "code",
   "execution_count": 6,
   "metadata": {},
   "outputs": [],
   "source": [
    "from jinja2 import Template\n",
    "def render_template(t,**kwargs):\n",
    "    return Template(t).render(kwargs)"
   ]
  },
  {
   "cell_type": "markdown",
   "metadata": {},
   "source": [
    "# Jinja 联系\n",
    "\n",
    "胖子，下面的code是为了教你Jinja。这个会帮助你做你的app。\n",
    "\n",
    "首先，我们看几个简单的例子吧。"
   ]
  },
  {
   "cell_type": "code",
   "execution_count": 12,
   "metadata": {},
   "outputs": [
    {
     "name": "stdout",
     "output_type": "stream",
     "text": [
      "Hello, 胖子!\n"
     ]
    }
   ],
   "source": [
    "t = \"Hello, {{name}}!\"\n",
    "\n",
    "print(render_template(t,name=\"胖子\"))"
   ]
  },
  {
   "cell_type": "markdown",
   "metadata": {},
   "source": [
    "请你试一下改上面的code，让他output\n",
    "\n",
    "```\n",
    "Hello, Candice!\n",
    "```\n",
    "\n",
    "接下来，我们试一下用`if`吧！"
   ]
  },
  {
   "cell_type": "code",
   "execution_count": 24,
   "metadata": {},
   "outputs": [
    {
     "name": "stdout",
     "output_type": "stream",
     "text": [
      "* x is present\n",
      "* x is absent\n",
      "* x is present\n",
      "* x is absent\n",
      "* x is absent\n",
      "* x is absent\n"
     ]
    }
   ],
   "source": [
    "t = \"{%if x%}* x is present{%else%}* x is absent{%endif%}\"\n",
    "\n",
    "print(render_template(t,x=1))\n",
    "print(render_template(t,x=0))\n",
    "print(render_template(t,x=True))\n",
    "print(render_template(t,x=False))\n",
    "print(render_template(t,x=None))\n",
    "print(render_template(t))"
   ]
  },
  {
   "cell_type": "markdown",
   "metadata": {},
   "source": [
    "*問題。* 如果跑\n",
    "\n",
    "```py\n",
    "print(render_template(t,y=1))\n",
    "```\n",
    "\n",
    "它会output什么？为什么？"
   ]
  },
  {
   "cell_type": "markdown",
   "metadata": {},
   "source": [
    "如果你不加 `else`, Template不会output什么东西 "
   ]
  },
  {
   "cell_type": "code",
   "execution_count": 21,
   "metadata": {},
   "outputs": [
    {
     "name": "stdout",
     "output_type": "stream",
     "text": [
      "x is present\n",
      "\n"
     ]
    }
   ],
   "source": [
    "t = \"{%if x%}x is present{%endif%}\"\n",
    "\n",
    "print(render_template(t,x=True))\n",
    "print(render_template(t))"
   ]
  },
  {
   "cell_type": "markdown",
   "metadata": {},
   "source": [
    "Template里还可以用 `for loop` "
   ]
  },
  {
   "cell_type": "code",
   "execution_count": 26,
   "metadata": {},
   "outputs": [
    {
     "name": "stdout",
     "output_type": "stream",
     "text": [
      "\n",
      "\n",
      "a\n",
      "\n",
      "b\n",
      "\n",
      "c\n",
      "\n"
     ]
    }
   ],
   "source": [
    "t = \"\"\"\n",
    "{%for i in l%}\n",
    "{{i}}\n",
    "{%endfor%}\n",
    "\"\"\"\n",
    "\n",
    "print(render_template(t,l=[\"a\",\"b\",\"c\"]))"
   ]
  },
  {
   "cell_type": "code",
   "execution_count": 27,
   "metadata": {},
   "outputs": [
    {
     "name": "stdout",
     "output_type": "stream",
     "text": [
      "\n",
      "\n",
      "1\n",
      "\n",
      "2\n",
      "\n",
      "3\n",
      "\n"
     ]
    }
   ],
   "source": [
    "print(render_template(t,l=[\"1\",\"2\",\"3\"]))"
   ]
  }
 ],
 "metadata": {
  "kernelspec": {
   "display_name": "Python 3",
   "language": "python",
   "name": "python3"
  },
  "language_info": {
   "codemirror_mode": {
    "name": "ipython",
    "version": 3
   },
   "file_extension": ".py",
   "mimetype": "text/x-python",
   "name": "python",
   "nbconvert_exporter": "python",
   "pygments_lexer": "ipython3",
   "version": "3.7.7"
  }
 },
 "nbformat": 4,
 "nbformat_minor": 4
}
