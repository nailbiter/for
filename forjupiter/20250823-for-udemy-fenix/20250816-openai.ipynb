{
 "cells": [
  {
   "cell_type": "code",
   "execution_count": 1,
   "id": "b1353429-e17e-44e6-a141-ff4cc633e26b",
   "metadata": {},
   "outputs": [],
   "source": [
    "%load_ext dotenv\n",
    "%dotenv"
   ]
  },
  {
   "cell_type": "markdown",
   "id": "9b51dbc8-f32b-4142-ba5a-4edacab22ed6",
   "metadata": {},
   "source": [
    "* https://platform.openai.com/settings/organization/limits\n",
    "* https://platform.openai.com/docs/guides/rate-limits\n",
    "\n",
    "```\n",
    "Tier\tQualification\tUsage limits\n",
    "Free\tUser must be in an allowed geography\t$100 / month\n",
    "Tier 1\t$5 paid\t$100 / month\n",
    "Tier 2\t$50 paid and 7+ days since first successful payment\t$500 / month\n",
    "Tier 3\t$100 paid and 7+ days since first successful payment\t$1,000 / month\n",
    "Tier 4\t$250 paid and 14+ days since first successful payment\t$5,000 / month\n",
    "Tier 5\t$1,000 paid and 30+ days since first successful payment\t$200,000 / month\n",
    "```"
   ]
  },
  {
   "cell_type": "code",
   "execution_count": 11,
   "id": "94b8f726-e7ed-443e-a483-bd380c4b2e91",
   "metadata": {},
   "outputs": [
    {
     "name": "stdout",
     "output_type": "stream",
     "text": [
      "\n",
      "Quantum computing is a cutting-edge field of computer science that uses the principles\n"
     ]
    }
   ],
   "source": [
    "import os\n",
    "from openai import OpenAI\n",
    "import jupyter_black\n",
    "\n",
    "jupyter_black.load()\n",
    "\n",
    "\n",
    "client = OpenAI(\n",
    "    # api_key=os.environ['CHATGPT_TOKEN'],\n",
    ")\n",
    "\n",
    "response = client.completions.create(\n",
    "    # model=\"gpt-4.1\",\n",
    "    model=\"gpt-3.5-turbo-instruct\",\n",
    "    prompt=\"Write a concise summary of quantum computing.\",\n",
    ")\n",
    "\n",
    "print(response.choices[0].text)"
   ]
  }
 ],
 "metadata": {
  "kernelspec": {
   "display_name": "conda-for-genai",
   "language": "python",
   "name": "conda-for-genai"
  },
  "language_info": {
   "codemirror_mode": {
    "name": "ipython",
    "version": 3
   },
   "file_extension": ".py",
   "mimetype": "text/x-python",
   "name": "python",
   "nbconvert_exporter": "python",
   "pygments_lexer": "ipython3",
   "version": "3.12.8"
  }
 },
 "nbformat": 4,
 "nbformat_minor": 5
}
