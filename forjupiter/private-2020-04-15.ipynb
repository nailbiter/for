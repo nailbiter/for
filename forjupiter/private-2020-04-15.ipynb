{
 "cells": [
  {
   "cell_type": "code",
   "execution_count": 7,
   "metadata": {},
   "outputs": [
    {
     "data": {
      "text/plain": [
       "[t*sin(t) - cos(t) + cos(2*t), 2*t - sin(2*t), t*sin(t) - cos(t) + cos(2*t)]"
      ]
     },
     "execution_count": 7,
     "metadata": {},
     "output_type": "execute_result"
    }
   ],
   "source": [
    "def cross_product(a,b):\n",
    "    return [a[1]*b[2]-a[2]*b[1],a[2]*b[0]-a[0]*b[2],a[0]*b[1]-a[1]*b[0]]\n",
    "import sympy\n",
    "\n",
    "t = sympy.Symbol(\"t\")\n",
    "list(map(lambda e:sympy.simplify(sympy.diff(e,t)),cross_product([sympy.sin(t),sympy.cos(t),t],[t,sympy.cos(t),sympy.sin(t)])))"
   ]
  },
  {
   "cell_type": "code",
   "execution_count": 19,
   "metadata": {},
   "outputs": [
    {
     "data": {
      "text/plain": [
       "matrix([[ 1,  0,  0,  0,  0],\n",
       "        [ 0,  1,  0,  1,  0],\n",
       "        [ 0,  0,  1,  0,  1],\n",
       "        [ 0,  0,  0, -1, -1],\n",
       "        [ 0,  0,  0,  0,  1],\n",
       "        [ 0,  0,  0,  0,  0],\n",
       "        [ 0,  0,  0,  0,  0],\n",
       "        [ 0,  0,  0,  0,  0],\n",
       "        [ 0,  0,  0,  0,  0]])"
      ]
     },
     "execution_count": 19,
     "metadata": {},
     "output_type": "execute_result"
    }
   ],
   "source": [
    "import sympy\n",
    "from itertools import permutations\n",
    "import numpy\n",
    "\n",
    "def GE(A,stop=-1):\n",
    "    rows,cols = A.shape\n",
    "    for j in range(cols):\n",
    "        is_pass = False\n",
    "        if(stop<0 or j<stop):\n",
    "            if(A[j,j]==0):\n",
    "                pivotRow = j+1\n",
    "                while (pivotRow<rows):\n",
    "                    if (A[pivotRow,j] == 0):\n",
    "                        pivotRow = pivotRow+1\n",
    "                    else:\n",
    "                        break\n",
    "                if(pivotRow==rows):\n",
    "                    is_pass=True\n",
    "                else:    \n",
    "                    for k in range(cols):\n",
    "                        temp = A[pivotRow,k]\n",
    "                        A[pivotRow,k] = A[j,k]\n",
    "                        A[j,k] = temp\n",
    "            if(not is_pass):\n",
    "                for i in range(j+1,rows):\n",
    "                    r = A[i,j]/A[j,j]\n",
    "                    for k in range(cols):\n",
    "                        A[i,k] = sympy.simplify(A[i,k] - r*A[j,k])\n",
    "    return A\n",
    "\n",
    "symbols = [\"a\",\"b\",\"c\"]\n",
    "res = []\n",
    "for p in list(permutations(symbols,3))[1:]:\n",
    "    arrs = []\n",
    "    for s in symbols:\n",
    "        arr = [0] * 3\n",
    "        arr[list(p).index(s)] = 1\n",
    "        arrs.append(arr)\n",
    "    res.append([*arrs[0],*arrs[1],*arrs[2]])\n",
    "    \n",
    "m = numpy.matrix(res)\n",
    "GE(m.transpose())"
   ]
  }
 ],
 "metadata": {
  "kernelspec": {
   "display_name": "Python 3",
   "language": "python",
   "name": "python3"
  },
  "language_info": {
   "codemirror_mode": {
    "name": "ipython",
    "version": 3
   },
   "file_extension": ".py",
   "mimetype": "text/x-python",
   "name": "python",
   "nbconvert_exporter": "python",
   "pygments_lexer": "ipython3",
   "version": "3.7.7"
  }
 },
 "nbformat": 4,
 "nbformat_minor": 4
}
