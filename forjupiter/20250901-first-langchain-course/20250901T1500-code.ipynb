{
 "cells": [
  {
   "cell_type": "markdown",
   "id": "c72c2bb0-8ab4-4214-8edc-7e1b5eca7eae",
   "metadata": {},
   "source": [
    "## setup"
   ]
  },
  {
   "cell_type": "code",
   "execution_count": 3,
   "id": "555641c0-0e36-447f-878c-dea0b2c90117",
   "metadata": {},
   "outputs": [
    {
     "name": "stdout",
     "output_type": "stream",
     "text": [
      "The dotenv extension is already loaded. To reload it, use:\n",
      "  %reload_ext dotenv\n",
      "env: LANGSMITH_TRACING_V2=true\n",
      "env: LANGSMITH_PROJECT=\"langchain-academy\"\n"
     ]
    }
   ],
   "source": [
    "%load_ext dotenv\n",
    "%dotenv\n",
    "\n",
    "%env LANGSMITH_TRACING_V2=true\n",
    "%env LANGSMITH_PROJECT=\"langchain-academy\""
   ]
  },
  {
   "cell_type": "code",
   "execution_count": 5,
   "id": "4e0255eb-096b-4403-8f51-5a7efb22f52b",
   "metadata": {},
   "outputs": [],
   "source": [
    "import jupyter_black\n",
    "import os\n",
    "\n",
    "jupyter_black.load()\n",
    "assert {\"OPENAI_API_KEY\", \"TAVILY_API_KEY\", \"LANGSMITH_API_KEY\"} <= set(os.environ)"
   ]
  },
  {
   "cell_type": "markdown",
   "id": "5b816697-3f4a-4b13-a790-37f505b65391",
   "metadata": {},
   "source": [
    "## `2025-09-01 15:05` "
   ]
  },
  {
   "cell_type": "code",
   "execution_count": null,
   "id": "fa106b28-8091-46f6-9e5d-3e0fda1a3be6",
   "metadata": {},
   "outputs": [],
   "source": []
  }
 ],
 "metadata": {
  "kernelspec": {
   "display_name": "venv-20250901-first-langchain-course",
   "language": "python",
   "name": "venv-20250901-first-langchain-course"
  },
  "language_info": {
   "codemirror_mode": {
    "name": "ipython",
    "version": 3
   },
   "file_extension": ".py",
   "mimetype": "text/x-python",
   "name": "python",
   "nbconvert_exporter": "python",
   "pygments_lexer": "ipython3",
   "version": "3.11.13"
  }
 },
 "nbformat": 4,
 "nbformat_minor": 5
}
