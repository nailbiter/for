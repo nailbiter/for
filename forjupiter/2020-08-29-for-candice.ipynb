{
 "cells": [
  {
   "cell_type": "code",
   "execution_count": 12,
   "metadata": {},
   "outputs": [
    {
     "name": "stdout",
     "output_type": "stream",
     "text": [
      "\n",
      "Dear Mike, welcome to our wedding!\n",
      "Dear Candice, welcome to our wedding!\n",
      "Dear Mariia, welcome to our wedding!\n",
      "Dear 泰国女生, welcome to our wedding!\n",
      "\n"
     ]
    }
   ],
   "source": [
    "from jinja2 import Template\n",
    "\n",
    "greeting = Template(\"\"\"\n",
    "{%for guest in guests-%}\n",
    "Dear {{guest}}, welcome to our wedding!\n",
    "{%endfor-%}\n",
    "\"\"\")\n",
    "\n",
    "def render_html(t,**kwargs):\n",
    "    return t.render(kwargs)\n",
    "\n",
    "guests = [\"Mike\",\"Candice\",\"Mariia\",\"泰国女生\"]\n",
    "\n",
    "print( render_html(greeting, guests=guests) )"
   ]
  }
 ],
 "metadata": {
  "kernelspec": {
   "display_name": "Python 3",
   "language": "python",
   "name": "python3"
  },
  "language_info": {
   "codemirror_mode": {
    "name": "ipython",
    "version": 3
   },
   "file_extension": ".py",
   "mimetype": "text/x-python",
   "name": "python",
   "nbconvert_exporter": "python",
   "pygments_lexer": "ipython3",
   "version": "3.7.7"
  }
 },
 "nbformat": 4,
 "nbformat_minor": 4
}
